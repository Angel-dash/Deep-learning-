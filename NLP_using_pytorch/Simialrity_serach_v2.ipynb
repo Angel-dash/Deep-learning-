{
  "nbformat": 4,
  "nbformat_minor": 0,
  "metadata": {
    "colab": {
      "provenance": []
    },
    "kernelspec": {
      "name": "python3",
      "display_name": "Python 3"
    },
    "language_info": {
      "name": "python"
    }
  },
  "cells": [
    {
      "cell_type": "code",
      "execution_count": 1,
      "metadata": {
        "colab": {
          "base_uri": "https://localhost:8080/"
        },
        "id": "YmDFppJ7laBY",
        "outputId": "06416310-9adf-4a3e-99c6-f0a0af1c035c"
      },
      "outputs": [
        {
          "output_type": "stream",
          "name": "stderr",
          "text": [
            "[nltk_data] Downloading package punkt to /root/nltk_data...\n",
            "[nltk_data]   Unzipping tokenizers/punkt.zip.\n"
          ]
        }
      ],
      "source": [
        "import pandas as pd\n",
        "import numpy as np\n",
        "import nltk; nltk.download('punkt')\n",
        "from collections import Counter\n",
        "import re\n",
        "from sklearn.feature_extraction.text import TfidfVectorizer, CountVectorizer\n",
        "from sklearn.cluster import KMeans\n",
        "from sklearn.metrics.pairwise import cosine_similarity\n",
        "import matplotlib.pyplot as plt\n"
      ]
    },
    {
      "cell_type": "code",
      "source": [
        "df = pd.read_csv('/content/questions.csv')\n",
        "questions = df['Main Question'].tolist()"
      ],
      "metadata": {
        "id": "USX-_p8Dllfp"
      },
      "execution_count": 2,
      "outputs": []
    },
    {
      "cell_type": "code",
      "source": [
        "def preprocess(text):\n",
        "    text = text.lower()\n",
        "    text = re.sub(r'[^\\w\\s]', '', text)\n",
        "    return text.strip()\n"
      ],
      "metadata": {
        "id": "hU0CCx91lqAH"
      },
      "execution_count": 3,
      "outputs": []
    },
    {
      "cell_type": "code",
      "source": [
        "processed_questions = [preprocess(q) for q in questions]"
      ],
      "metadata": {
        "id": "AQObT5SdlsGK"
      },
      "execution_count": 4,
      "outputs": []
    },
    {
      "cell_type": "code",
      "source": [
        "tfidf = TfidfVectorizer(stop_words='english', max_features=1000)\n",
        "tfidf_matrix = tfidf.fit_transform(processed_questions)\n",
        "terms = tfidf.get_feature_names_out()"
      ],
      "metadata": {
        "id": "NdsesrnIluwA"
      },
      "execution_count": 5,
      "outputs": []
    },
    {
      "cell_type": "code",
      "source": [
        "def search_similarity(query, questions, vectorizer, tfidf_matrix, top_n=5):\n",
        "    query_vec = vectorizer.transform([query])\n",
        "    similarities = cosine_similarity(query_vec, tfidf_matrix).flatten()\n",
        "    indices = np.argsort(similarities)[::-1][:top_n]\n",
        "    return [(questions[i], similarities[i]) for i in indices]"
      ],
      "metadata": {
        "id": "ffg12X2slwtI"
      },
      "execution_count": 6,
      "outputs": []
    },
    {
      "cell_type": "code",
      "source": [
        "query = \"Does the company have membership in any organizations promoting supplier diversity?\"\n",
        "similar = search_similarity(query, questions, tfidf, tfidf_matrix)\n",
        "print(\"\\nSimilar Questions:\")\n",
        "for q, score in similar:\n",
        "    print(f\"- {q} (Score: {score:.2f})\")"
      ],
      "metadata": {
        "colab": {
          "base_uri": "https://localhost:8080/"
        },
        "id": "kiErGpT9lylp",
        "outputId": "ae6fffb8-b722-4545-c1a8-07160c7ad203"
      },
      "execution_count": 7,
      "outputs": [
        {
          "output_type": "stream",
          "name": "stdout",
          "text": [
            "\n",
            "Similar Questions:\n",
            "- Does the company have membership in any organizations promoting supplier diversity (e.g., The National Minority Supplier Diversity Council (NMSDC), Women Business Enterprise National Council (WBENC), etc)? (Score: 0.60)\n",
            "- Does the company have any employees or resources located outside the U.S.? (Score: 0.18)\n",
            "- Does the supplier notify the entity of any vulnerabilities in its products or services promptly, ensuring it does not increase threat vectors? (Score: 0.18)\n",
            "- Does the supplier have a product change notification (PCN) process that is compliant with a recognized industry standard? (Score: 0.17)\n",
            "- For which of these does your company establish and maintain baseline configurations and inventories? (Score: 0.16)\n"
          ]
        }
      ]
    },
    {
      "cell_type": "code",
      "source": [
        "kmeans = KMeans(n_clusters=9, random_state=42)\n",
        "df['Cluster'] = kmeans.fit_predict(tfidf_matrix)"
      ],
      "metadata": {
        "id": "KHixMCkKl2Fl"
      },
      "execution_count": 8,
      "outputs": []
    },
    {
      "cell_type": "code",
      "source": [
        "def get_cluster_terms(vectorizer, kmeans, n_terms=5):\n",
        "    order_centroids = kmeans.cluster_centers_.argsort()[:, ::-1]\n",
        "    terms = vectorizer.get_feature_names_out()\n",
        "    cluster_terms = {}\n",
        "    for i in range(kmeans.n_clusters):\n",
        "        cluster_terms[i] = [terms[idx] for idx in order_centroids[i, :n_terms]]\n",
        "    return cluster_terms\n",
        "\n",
        "cluster_terms = get_cluster_terms(tfidf, kmeans)"
      ],
      "metadata": {
        "id": "DgJ72ueLnZTI"
      },
      "execution_count": 9,
      "outputs": []
    },
    {
      "cell_type": "code",
      "source": [
        "cluster_names = {\n",
        "    0: 'Data Protection & Compliance',\n",
        "    1: 'Access Management & Authentication',\n",
        "    2: 'AI & Advanced Technologies',\n",
        "    3: 'Vendor Management & Contracts',\n",
        "    4: 'Incident Response',\n",
        "    5: 'Backup & Recovery',\n",
        "    6: 'Network Security',\n",
        "    7: 'GDPR & PII Handling',\n",
        "    8: 'Development Practices'\n",
        "}"
      ],
      "metadata": {
        "id": "rxx8TNAYnt7G"
      },
      "execution_count": 10,
      "outputs": []
    },
    {
      "cell_type": "code",
      "source": [
        "df['Cluster Name'] = df['Cluster'].map(cluster_names)"
      ],
      "metadata": {
        "id": "9dWMUZv2nwgS"
      },
      "execution_count": 11,
      "outputs": []
    },
    {
      "cell_type": "code",
      "source": [
        "print(\"\\nSample Questions by Cluster:\")\n",
        "for cluster_id, name in cluster_names.items():\n",
        "    sample_questions = df[df['Cluster'] == cluster_id]['Main Question'].sample(2).tolist()\n",
        "    print(f\"\\nCluster {name}:\")\n",
        "    for q in sample_questions:\n",
        "        print(f\"- {q}\")"
      ],
      "metadata": {
        "colab": {
          "base_uri": "https://localhost:8080/"
        },
        "id": "wC3kv9P-n52R",
        "outputId": "25c26853-413c-455f-91f8-56b81484dea8"
      },
      "execution_count": 12,
      "outputs": [
        {
          "output_type": "stream",
          "name": "stdout",
          "text": [
            "\n",
            "Sample Questions by Cluster:\n",
            "\n",
            "Cluster Data Protection & Compliance:\n",
            "- Does the service provider ensure that its processes and policies are compliant with relevant country data protection laws of the client's operating countries?\n",
            "- Do you have an anti-virus & anti-malware solution deployed covering every endpoint in your infrastructure? If yes, please provide details.\n",
            "\n",
            "Cluster Access Management & Authentication:\n",
            "- Do you have a person in charge of the handling of Personal Information, etc.?\n",
            "- Can we agree on provisions in the contract for investigation? (What would we have access to and how? documentation for auditors?)\n",
            "\n",
            "Cluster AI & Advanced Technologies:\n",
            "- Could you provide a network and data flow diagram showing wireless connectivity? Additionally, can you share evidence confirming the correct configuration of all wireless access points used? Furthermore, do you have evidence of regular vulnerability scans for unauthorized wireless access points? Also, what measures are in place to prevent peer-to-peer connections? Moreover, can you describe how encryption and protection are implemented? Lastly, what authentication and authorization methods are utilized?\n",
            "- What are the authentication factors used to access web applications that capture, display, or interface with confidential information?\n",
            "\n",
            "Cluster Vendor Management & Contracts:\n",
            "- Does your organization ensure that no live data, especially personal data, is used in test/development environments?\n",
            "- Which network and device security controls are implemented?\n",
            "\n",
            "Cluster Incident Response:\n",
            "- Is in-house application development performed for systems that host company's data?\n",
            "- How do you protect your data center against viral, malware, and phishing threats?\n",
            "\n",
            "Cluster Backup & Recovery:\n",
            "- Does your VA/PT program include API security testing? If yes, please share the report.\n",
            "- Does your company have a Third-Party Management process that includes a risk assessment process, due diligence practices, contract structuring and review routines, and ongoing monitoring oversight?\n",
            "\n",
            "Cluster Network Security:\n",
            "- Will you send the client copies of the data and/or content, either at a set timeframe or on request?\n",
            "- In the event that authentication/authorization cannot be brokered to the client, what capabilities are provided in the SaaS Solution for the client to manually manage the identity & Access management lifecycle? Does the SaaS has UI for the client user admins to manage users, roles, and access?\n",
            "\n",
            "Cluster GDPR & PII Handling:\n",
            "- Do you provide an automated process to support us in our Scope 1+2 data collection (190+ offices in 70 countries)?\n",
            "- Are changes being made to the system with unique identities?\n",
            "\n",
            "Cluster Development Practices:\n",
            "- Does the supplier notify the entity of any vulnerabilities in its products or services promptly, ensuring it does not increase threat vectors?\n",
            "- Do you allow consultation in how our web visitors will flow into your provider web solution? How configurable is the home page?\n"
          ]
        }
      ]
    },
    {
      "cell_type": "code",
      "source": [
        "df[['Main Question', 'Cluster Name']].to_csv('clustered_questions.csv', index=False)"
      ],
      "metadata": {
        "id": "MP6Uk6_0n-Iw"
      },
      "execution_count": 13,
      "outputs": []
    },
    {
      "cell_type": "code",
      "source": [
        "order_centroids = kmeans.cluster_centers_.argsort()[:, ::-1]"
      ],
      "metadata": {
        "id": "yUpde2mvl-fF"
      },
      "execution_count": 14,
      "outputs": []
    },
    {
      "cell_type": "code",
      "source": [
        "print(\"\\nCluster Topics:\")\n",
        "for i in range(9):\n",
        "    cluster_labels = [terms[ind] for ind in order_centroids[i, :5]]\n",
        "    print(f\"Cluster {i+1}: {', '.join(cluster_labels)}\")"
      ],
      "metadata": {
        "colab": {
          "base_uri": "https://localhost:8080/"
        },
        "id": "bGBwWyxCmBGk",
        "outputId": "d1e75b21-7875-4a28-ea46-aaeebf18e328"
      },
      "execution_count": 15,
      "outputs": [
        {
          "output_type": "stream",
          "name": "stdout",
          "text": [
            "\n",
            "Cluster Topics:\n",
            "Cluster 1: details, country, provide, data, datacenter\n",
            "Cluster 2: information, personal, contract, sensitive, social\n",
            "Cluster 3: password, authentication, logs, application, security\n",
            "Cluster 4: use, clients, vendor, data, ensure\n",
            "Cluster 5: data, provide, require, service, privacy\n",
            "Cluster 6: does, company, management, organization, identify\n",
            "Cluster 7: access, client, data, business, users\n",
            "Cluster 8: process, changes, automated, unique, identities\n",
            "Cluster 9: services, health, provider, benefit, years\n"
          ]
        }
      ]
    },
    {
      "cell_type": "code",
      "source": [
        "df_clusters = pd.read_csv('/content/clustered_questions.csv')"
      ],
      "metadata": {
        "id": "WI9cSvNXoCPa"
      },
      "execution_count": 16,
      "outputs": []
    },
    {
      "cell_type": "code",
      "source": [
        "df_clusters.head()"
      ],
      "metadata": {
        "colab": {
          "base_uri": "https://localhost:8080/",
          "height": 206
        },
        "id": "GPYrFO9OoHAX",
        "outputId": "d0db31f4-6777-45bb-c424-3328d37c838d"
      },
      "execution_count": 17,
      "outputs": [
        {
          "output_type": "execute_result",
          "data": {
            "text/plain": [
              "                                       Main Question  \\\n",
              "0  Are there information security requirements fo...   \n",
              "1         What is the password history before reuse?   \n",
              "2  What controls are in place for accessing produ...   \n",
              "3  Is this system developed and tested using secu...   \n",
              "4  What kind of AI is in use?\\n- Deep Learning\\n-...   \n",
              "\n",
              "                    Cluster Name  \n",
              "0          Development Practices  \n",
              "1     AI & Advanced Technologies  \n",
              "2  Vendor Management & Contracts  \n",
              "3     AI & Advanced Technologies  \n",
              "4  Vendor Management & Contracts  "
            ],
            "text/html": [
              "\n",
              "  <div id=\"df-d6c7d1db-693c-425f-9b77-7395abd4ed9a\" class=\"colab-df-container\">\n",
              "    <div>\n",
              "<style scoped>\n",
              "    .dataframe tbody tr th:only-of-type {\n",
              "        vertical-align: middle;\n",
              "    }\n",
              "\n",
              "    .dataframe tbody tr th {\n",
              "        vertical-align: top;\n",
              "    }\n",
              "\n",
              "    .dataframe thead th {\n",
              "        text-align: right;\n",
              "    }\n",
              "</style>\n",
              "<table border=\"1\" class=\"dataframe\">\n",
              "  <thead>\n",
              "    <tr style=\"text-align: right;\">\n",
              "      <th></th>\n",
              "      <th>Main Question</th>\n",
              "      <th>Cluster Name</th>\n",
              "    </tr>\n",
              "  </thead>\n",
              "  <tbody>\n",
              "    <tr>\n",
              "      <th>0</th>\n",
              "      <td>Are there information security requirements fo...</td>\n",
              "      <td>Development Practices</td>\n",
              "    </tr>\n",
              "    <tr>\n",
              "      <th>1</th>\n",
              "      <td>What is the password history before reuse?</td>\n",
              "      <td>AI &amp; Advanced Technologies</td>\n",
              "    </tr>\n",
              "    <tr>\n",
              "      <th>2</th>\n",
              "      <td>What controls are in place for accessing produ...</td>\n",
              "      <td>Vendor Management &amp; Contracts</td>\n",
              "    </tr>\n",
              "    <tr>\n",
              "      <th>3</th>\n",
              "      <td>Is this system developed and tested using secu...</td>\n",
              "      <td>AI &amp; Advanced Technologies</td>\n",
              "    </tr>\n",
              "    <tr>\n",
              "      <th>4</th>\n",
              "      <td>What kind of AI is in use?\\n- Deep Learning\\n-...</td>\n",
              "      <td>Vendor Management &amp; Contracts</td>\n",
              "    </tr>\n",
              "  </tbody>\n",
              "</table>\n",
              "</div>\n",
              "    <div class=\"colab-df-buttons\">\n",
              "\n",
              "  <div class=\"colab-df-container\">\n",
              "    <button class=\"colab-df-convert\" onclick=\"convertToInteractive('df-d6c7d1db-693c-425f-9b77-7395abd4ed9a')\"\n",
              "            title=\"Convert this dataframe to an interactive table.\"\n",
              "            style=\"display:none;\">\n",
              "\n",
              "  <svg xmlns=\"http://www.w3.org/2000/svg\" height=\"24px\" viewBox=\"0 -960 960 960\">\n",
              "    <path d=\"M120-120v-720h720v720H120Zm60-500h600v-160H180v160Zm220 220h160v-160H400v160Zm0 220h160v-160H400v160ZM180-400h160v-160H180v160Zm440 0h160v-160H620v160ZM180-180h160v-160H180v160Zm440 0h160v-160H620v160Z\"/>\n",
              "  </svg>\n",
              "    </button>\n",
              "\n",
              "  <style>\n",
              "    .colab-df-container {\n",
              "      display:flex;\n",
              "      gap: 12px;\n",
              "    }\n",
              "\n",
              "    .colab-df-convert {\n",
              "      background-color: #E8F0FE;\n",
              "      border: none;\n",
              "      border-radius: 50%;\n",
              "      cursor: pointer;\n",
              "      display: none;\n",
              "      fill: #1967D2;\n",
              "      height: 32px;\n",
              "      padding: 0 0 0 0;\n",
              "      width: 32px;\n",
              "    }\n",
              "\n",
              "    .colab-df-convert:hover {\n",
              "      background-color: #E2EBFA;\n",
              "      box-shadow: 0px 1px 2px rgba(60, 64, 67, 0.3), 0px 1px 3px 1px rgba(60, 64, 67, 0.15);\n",
              "      fill: #174EA6;\n",
              "    }\n",
              "\n",
              "    .colab-df-buttons div {\n",
              "      margin-bottom: 4px;\n",
              "    }\n",
              "\n",
              "    [theme=dark] .colab-df-convert {\n",
              "      background-color: #3B4455;\n",
              "      fill: #D2E3FC;\n",
              "    }\n",
              "\n",
              "    [theme=dark] .colab-df-convert:hover {\n",
              "      background-color: #434B5C;\n",
              "      box-shadow: 0px 1px 3px 1px rgba(0, 0, 0, 0.15);\n",
              "      filter: drop-shadow(0px 1px 2px rgba(0, 0, 0, 0.3));\n",
              "      fill: #FFFFFF;\n",
              "    }\n",
              "  </style>\n",
              "\n",
              "    <script>\n",
              "      const buttonEl =\n",
              "        document.querySelector('#df-d6c7d1db-693c-425f-9b77-7395abd4ed9a button.colab-df-convert');\n",
              "      buttonEl.style.display =\n",
              "        google.colab.kernel.accessAllowed ? 'block' : 'none';\n",
              "\n",
              "      async function convertToInteractive(key) {\n",
              "        const element = document.querySelector('#df-d6c7d1db-693c-425f-9b77-7395abd4ed9a');\n",
              "        const dataTable =\n",
              "          await google.colab.kernel.invokeFunction('convertToInteractive',\n",
              "                                                    [key], {});\n",
              "        if (!dataTable) return;\n",
              "\n",
              "        const docLinkHtml = 'Like what you see? Visit the ' +\n",
              "          '<a target=\"_blank\" href=https://colab.research.google.com/notebooks/data_table.ipynb>data table notebook</a>'\n",
              "          + ' to learn more about interactive tables.';\n",
              "        element.innerHTML = '';\n",
              "        dataTable['output_type'] = 'display_data';\n",
              "        await google.colab.output.renderOutput(dataTable, element);\n",
              "        const docLink = document.createElement('div');\n",
              "        docLink.innerHTML = docLinkHtml;\n",
              "        element.appendChild(docLink);\n",
              "      }\n",
              "    </script>\n",
              "  </div>\n",
              "\n",
              "\n",
              "<div id=\"df-84041f57-7cb0-4ed0-b006-826ae1a2db8b\">\n",
              "  <button class=\"colab-df-quickchart\" onclick=\"quickchart('df-84041f57-7cb0-4ed0-b006-826ae1a2db8b')\"\n",
              "            title=\"Suggest charts\"\n",
              "            style=\"display:none;\">\n",
              "\n",
              "<svg xmlns=\"http://www.w3.org/2000/svg\" height=\"24px\"viewBox=\"0 0 24 24\"\n",
              "     width=\"24px\">\n",
              "    <g>\n",
              "        <path d=\"M19 3H5c-1.1 0-2 .9-2 2v14c0 1.1.9 2 2 2h14c1.1 0 2-.9 2-2V5c0-1.1-.9-2-2-2zM9 17H7v-7h2v7zm4 0h-2V7h2v10zm4 0h-2v-4h2v4z\"/>\n",
              "    </g>\n",
              "</svg>\n",
              "  </button>\n",
              "\n",
              "<style>\n",
              "  .colab-df-quickchart {\n",
              "      --bg-color: #E8F0FE;\n",
              "      --fill-color: #1967D2;\n",
              "      --hover-bg-color: #E2EBFA;\n",
              "      --hover-fill-color: #174EA6;\n",
              "      --disabled-fill-color: #AAA;\n",
              "      --disabled-bg-color: #DDD;\n",
              "  }\n",
              "\n",
              "  [theme=dark] .colab-df-quickchart {\n",
              "      --bg-color: #3B4455;\n",
              "      --fill-color: #D2E3FC;\n",
              "      --hover-bg-color: #434B5C;\n",
              "      --hover-fill-color: #FFFFFF;\n",
              "      --disabled-bg-color: #3B4455;\n",
              "      --disabled-fill-color: #666;\n",
              "  }\n",
              "\n",
              "  .colab-df-quickchart {\n",
              "    background-color: var(--bg-color);\n",
              "    border: none;\n",
              "    border-radius: 50%;\n",
              "    cursor: pointer;\n",
              "    display: none;\n",
              "    fill: var(--fill-color);\n",
              "    height: 32px;\n",
              "    padding: 0;\n",
              "    width: 32px;\n",
              "  }\n",
              "\n",
              "  .colab-df-quickchart:hover {\n",
              "    background-color: var(--hover-bg-color);\n",
              "    box-shadow: 0 1px 2px rgba(60, 64, 67, 0.3), 0 1px 3px 1px rgba(60, 64, 67, 0.15);\n",
              "    fill: var(--button-hover-fill-color);\n",
              "  }\n",
              "\n",
              "  .colab-df-quickchart-complete:disabled,\n",
              "  .colab-df-quickchart-complete:disabled:hover {\n",
              "    background-color: var(--disabled-bg-color);\n",
              "    fill: var(--disabled-fill-color);\n",
              "    box-shadow: none;\n",
              "  }\n",
              "\n",
              "  .colab-df-spinner {\n",
              "    border: 2px solid var(--fill-color);\n",
              "    border-color: transparent;\n",
              "    border-bottom-color: var(--fill-color);\n",
              "    animation:\n",
              "      spin 1s steps(1) infinite;\n",
              "  }\n",
              "\n",
              "  @keyframes spin {\n",
              "    0% {\n",
              "      border-color: transparent;\n",
              "      border-bottom-color: var(--fill-color);\n",
              "      border-left-color: var(--fill-color);\n",
              "    }\n",
              "    20% {\n",
              "      border-color: transparent;\n",
              "      border-left-color: var(--fill-color);\n",
              "      border-top-color: var(--fill-color);\n",
              "    }\n",
              "    30% {\n",
              "      border-color: transparent;\n",
              "      border-left-color: var(--fill-color);\n",
              "      border-top-color: var(--fill-color);\n",
              "      border-right-color: var(--fill-color);\n",
              "    }\n",
              "    40% {\n",
              "      border-color: transparent;\n",
              "      border-right-color: var(--fill-color);\n",
              "      border-top-color: var(--fill-color);\n",
              "    }\n",
              "    60% {\n",
              "      border-color: transparent;\n",
              "      border-right-color: var(--fill-color);\n",
              "    }\n",
              "    80% {\n",
              "      border-color: transparent;\n",
              "      border-right-color: var(--fill-color);\n",
              "      border-bottom-color: var(--fill-color);\n",
              "    }\n",
              "    90% {\n",
              "      border-color: transparent;\n",
              "      border-bottom-color: var(--fill-color);\n",
              "    }\n",
              "  }\n",
              "</style>\n",
              "\n",
              "  <script>\n",
              "    async function quickchart(key) {\n",
              "      const quickchartButtonEl =\n",
              "        document.querySelector('#' + key + ' button');\n",
              "      quickchartButtonEl.disabled = true;  // To prevent multiple clicks.\n",
              "      quickchartButtonEl.classList.add('colab-df-spinner');\n",
              "      try {\n",
              "        const charts = await google.colab.kernel.invokeFunction(\n",
              "            'suggestCharts', [key], {});\n",
              "      } catch (error) {\n",
              "        console.error('Error during call to suggestCharts:', error);\n",
              "      }\n",
              "      quickchartButtonEl.classList.remove('colab-df-spinner');\n",
              "      quickchartButtonEl.classList.add('colab-df-quickchart-complete');\n",
              "    }\n",
              "    (() => {\n",
              "      let quickchartButtonEl =\n",
              "        document.querySelector('#df-84041f57-7cb0-4ed0-b006-826ae1a2db8b button');\n",
              "      quickchartButtonEl.style.display =\n",
              "        google.colab.kernel.accessAllowed ? 'block' : 'none';\n",
              "    })();\n",
              "  </script>\n",
              "</div>\n",
              "\n",
              "    </div>\n",
              "  </div>\n"
            ],
            "application/vnd.google.colaboratory.intrinsic+json": {
              "type": "dataframe",
              "variable_name": "df_clusters",
              "summary": "{\n  \"name\": \"df_clusters\",\n  \"rows\": 212,\n  \"fields\": [\n    {\n      \"column\": \"Main Question\",\n      \"properties\": {\n        \"dtype\": \"string\",\n        \"num_unique_values\": 212,\n        \"samples\": [\n          \"How will the use of AI be documented in the information used to make decisions?\",\n          \"Is timely de-provisioning, revocation, or modification of user access to the organization's systems, information assets, and data implemented upon any change in the status of employees, contractors, customers, business partners, or third parties?\",\n          \"How long would it take to fully recover their service from the moment of disruption, both technology and business processes, based on their documented plans?\"\n        ],\n        \"semantic_type\": \"\",\n        \"description\": \"\"\n      }\n    },\n    {\n      \"column\": \"Cluster Name\",\n      \"properties\": {\n        \"dtype\": \"category\",\n        \"num_unique_values\": 9,\n        \"samples\": [\n          \"GDPR & PII Handling\",\n          \"AI & Advanced Technologies\",\n          \"Access Management & Authentication\"\n        ],\n        \"semantic_type\": \"\",\n        \"description\": \"\"\n      }\n    }\n  ]\n}"
            }
          },
          "metadata": {},
          "execution_count": 17
        }
      ]
    },
    {
      "cell_type": "code",
      "source": [
        "keywords = [\"how\", \"what\", \"which\", \"do\", \"does\", \"is\"]\n",
        "counts = {kw: sum(q.startswith(kw) for q in processed_questions) for kw in keywords}"
      ],
      "metadata": {
        "id": "WTuhqFdUmC_4"
      },
      "execution_count": 18,
      "outputs": []
    },
    {
      "cell_type": "code",
      "source": [
        "plt.figure(figsize=(10,6))\n",
        "plt.bar(keywords, counts.values())\n",
        "plt.title(\"Question Structure Distribution\")\n",
        "plt.ylabel(\"Frequency\")\n",
        "plt.show()\n"
      ],
      "metadata": {
        "colab": {
          "base_uri": "https://localhost:8080/",
          "height": 545
        },
        "id": "CfitongpmIYM",
        "outputId": "b24960f4-4a84-477b-b97b-a33f45c08075"
      },
      "execution_count": 19,
      "outputs": [
        {
          "output_type": "display_data",
          "data": {
            "text/plain": [
              "<Figure size 1000x600 with 1 Axes>"
            ],
            "image/png": "[encoded data removed]"
          },
          "metadata": {}
        }
      ]
    },
    {
      "cell_type": "code",
      "source": [
        "count_vectorizer = CountVectorizer(stop_words='english', max_features=20)\n",
        "cnt_matrix = count_vectorizer.fit_transform(processed_questions)\n",
        "word_freq = sorted(zip(count_vectorizer.get_feature_names_out(), np.asarray(cnt_matrix.sum(axis=0)).ravel()),\n",
        "                  key=lambda x: x[1], reverse=True)"
      ],
      "metadata": {
        "id": "wdwHH2AxmLAP"
      },
      "execution_count": 20,
      "outputs": []
    },
    {
      "cell_type": "code",
      "source": [
        "print(\"\\nTop Keywords:\")\n",
        "for word, freq in word_freq[:20]:\n",
        "    print(f\"{word}: {freq}\")\n"
      ],
      "metadata": {
        "colab": {
          "base_uri": "https://localhost:8080/"
        },
        "id": "V9bQnzq9mOZL",
        "outputId": "001f0da7-677d-42b1-c227-2fed7af2a5b7"
      },
      "execution_count": 21,
      "outputs": [
        {
          "output_type": "stream",
          "name": "stdout",
          "text": [
            "\n",
            "Top Keywords:\n",
            "data: 49\n",
            "does: 48\n",
            "security: 27\n",
            "provide: 26\n",
            "client: 24\n",
            "information: 24\n",
            "access: 23\n",
            "organization: 19\n",
            "application: 15\n",
            "process: 15\n",
            "systems: 14\n",
            "service: 13\n",
            "company: 12\n",
            "personal: 12\n",
            "use: 12\n",
            "clients: 11\n",
            "password: 11\n",
            "place: 11\n",
            "services: 11\n",
            "solution: 11\n"
          ]
        }
      ]
    },
    {
      "cell_type": "code",
      "source": [
        "def security_search(query, top_n=5):\n",
        "    results = search_similarity(query, questions, tfidf, tfidf_matrix, top_n)\n",
        "    return [item[0] for item in results]"
      ],
      "metadata": {
        "id": "7phFrOqAmQm9"
      },
      "execution_count": 22,
      "outputs": []
    },
    {
      "cell_type": "code",
      "source": [
        "user_query = \"How does your organization handle data breaches?\"\n",
        "print(\"\\nSearch Results for:\", user_query)\n",
        "print(security_search(user_query))"
      ],
      "metadata": {
        "colab": {
          "base_uri": "https://localhost:8080/"
        },
        "id": "V5R91yQhmUOy",
        "outputId": "9d9172e2-3b8d-48c2-929c-f2a78bf6b146"
      },
      "execution_count": 23,
      "outputs": [
        {
          "output_type": "stream",
          "name": "stdout",
          "text": [
            "\n",
            "Search Results for: How does your organization handle data breaches?\n",
            "['Does your organization ensure that no live data, especially personal data, is used in test/development environments?', \"Does the organization directly or jointly collect personal data from the individuals (client's employees, prospects, customers etc.) as a part of services provided to the client? If yes, does the organization provide a privacy notice to the individuals before collecting the information?\", 'Has the organization been subject to any enforcement actions by regulators for breaches of relevant Occupational Health and Safety (OHS) legislation or an EU directive in the last three years?', 'Does your organization have a patch management process for minor and major products?', 'Does your organization require workforce members to take phishing training annually?']\n"
          ]
        }
      ]
    },
    {
      "cell_type": "code",
      "source": [],
      "metadata": {
        "id": "7E3vPrUNmWMA"
      },
      "execution_count": 23,
      "outputs": []
    }
  ]
}