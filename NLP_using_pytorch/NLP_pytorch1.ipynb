{
  "nbformat": 4,
  "nbformat_minor": 0,
  "metadata": {
    "colab": {
      "provenance": []
    },
    "kernelspec": {
      "name": "python3",
      "display_name": "Python 3"
    },
    "language_info": {
      "name": "python"
    }
  },
  "cells": [
    {
      "cell_type": "markdown",
      "source": [
        "we extensively use PyTorch for implementing our deep learning models. PyTorch is an\n",
        "open source, community­driven deep learning framework. Unlike Theano, Caffe, and TensorFlow,\n",
        "PyTorch implements a tape­based\n",
        "a\n",
        "utomatic differentiation method that allows us to define and\n",
        "execute computational graphs dynamically. This is extremely helpful for debugging and also for\n",
        "constructing sophisticated models with minimal effort.\n"
      ],
      "metadata": {
        "id": "scMoQcItvfzH"
      }
    },
    {
      "cell_type": "markdown",
      "source": [
        "PyTorch is an optimized tensor manipulation library that offers an array of packages for deep learning.\n",
        "At the core of the library is the tensor, which is a mathematical object holding some multidimensional\n",
        "data. A tensor of order zero is just a number, or a scalar. A tensor of order one (1st­order tensor) is an\n",
        "array of numbers, or a vector. Similarly, a 2nd­order tensor is an array of vectors, or a matrix.\n",
        "Therefore, a tensor can be generalized as an n­dimensional array of scalars,"
      ],
      "metadata": {
        "id": "9HTMAjxqvnQb"
      }
    },
    {
      "cell_type": "code",
      "source": [
        "#Creating tensors\n",
        "def describe(x):\n",
        "  print(\"Type: {}\".format(x.type()))\n",
        "  print(\"Shape/size: {}\".format(x.shape))\n",
        "  print(\"Values: \\n{}\".format(x))"
      ],
      "metadata": {
        "id": "b_jqQWzyvgVk"
      },
      "execution_count": 12,
      "outputs": []
    },
    {
      "cell_type": "code",
      "source": [
        "import torch\n",
        "describe(torch.Tensor(2,3))"
      ],
      "metadata": {
        "colab": {
          "base_uri": "https://localhost:8080/"
        },
        "id": "uw8epdjMvxAQ",
        "outputId": "8bafe53d-a2f8-4ad8-9dd6-66ae414fc391"
      },
      "execution_count": 13,
      "outputs": [
        {
          "output_type": "stream",
          "name": "stdout",
          "text": [
            "Type: torch.FloatTensor\n",
            "Shape/size: torch.Size([2, 3])\n",
            "Values: \n",
            "tensor([[-8.8171e+21,  4.5897e-41, -8.8171e+21],\n",
            "        [ 4.5897e-41,  0.0000e+00,  0.0000e+00]])\n"
          ]
        }
      ]
    },
    {
      "cell_type": "code",
      "source": [
        "describe(torch.rand(2, 3)) # uniform random\n",
        "describe(torch.randn(2, 3)) # random normal"
      ],
      "metadata": {
        "colab": {
          "base_uri": "https://localhost:8080/"
        },
        "id": "shVZRQigv7G_",
        "outputId": "691e25d7-8583-45cd-e14f-535bcdeaa879"
      },
      "execution_count": 14,
      "outputs": [
        {
          "output_type": "stream",
          "name": "stdout",
          "text": [
            "Type: torch.FloatTensor\n",
            "Shape/size: torch.Size([2, 3])\n",
            "Values: \n",
            "tensor([[0.2940, 0.5985, 0.6126],\n",
            "        [0.7091, 0.0038, 0.7627]])\n",
            "Type: torch.FloatTensor\n",
            "Shape/size: torch.Size([2, 3])\n",
            "Values: \n",
            "tensor([[-0.2617, -0.7935,  0.2861],\n",
            "        [-1.6680, -1.6401,  0.1859]])\n"
          ]
        }
      ]
    },
    {
      "cell_type": "code",
      "source": [
        "import torch\n",
        "describe(torch.zeros(2, 3))\n",
        "x = torch.ones(2, 3)\n",
        "describe(x)\n",
        "x.fill_(5)\n",
        "describe(x)"
      ],
      "metadata": {
        "colab": {
          "base_uri": "https://localhost:8080/"
        },
        "id": "LQosGpG8wKQU",
        "outputId": "29c2a684-167d-43b7-8447-a9ff5fe13841"
      },
      "execution_count": 15,
      "outputs": [
        {
          "output_type": "stream",
          "name": "stdout",
          "text": [
            "Type: torch.FloatTensor\n",
            "Shape/size: torch.Size([2, 3])\n",
            "Values: \n",
            "tensor([[0., 0., 0.],\n",
            "        [0., 0., 0.]])\n",
            "Type: torch.FloatTensor\n",
            "Shape/size: torch.Size([2, 3])\n",
            "Values: \n",
            "tensor([[1., 1., 1.],\n",
            "        [1., 1., 1.]])\n",
            "Type: torch.FloatTensor\n",
            "Shape/size: torch.Size([2, 3])\n",
            "Values: \n",
            "tensor([[5., 5., 5.],\n",
            "        [5., 5., 5.]])\n"
          ]
        }
      ]
    },
    {
      "cell_type": "code",
      "source": [
        "x = torch.Tensor([[1, 2, 3],\n",
        "[4, 5, 6]])\n",
        "describe(x)\n"
      ],
      "metadata": {
        "colab": {
          "base_uri": "https://localhost:8080/"
        },
        "id": "aWBD6dEWwRzF",
        "outputId": "88d7662c-3eb7-4a30-89aa-d09dfe5936d8"
      },
      "execution_count": 16,
      "outputs": [
        {
          "output_type": "stream",
          "name": "stdout",
          "text": [
            "Type: torch.FloatTensor\n",
            "Shape/size: torch.Size([2, 3])\n",
            "Values: \n",
            "tensor([[1., 2., 3.],\n",
            "        [4., 5., 6.]])\n"
          ]
        }
      ]
    },
    {
      "cell_type": "markdown",
      "source": [
        "The values can either come from a list, as in the preceding example, or from a NumPy array. And, of\n",
        "course, we can always go from a PyTorch tensor to a NumPy array, as well. Notice that the type of the\n",
        "tensor is DoubleTensor instead of the default FloatTensor (see the next section). This\n",
        "corresponds with the data type of the NumPy random matrix, a float64"
      ],
      "metadata": {
        "id": "n-gHgt5twftu"
      }
    },
    {
      "cell_type": "code",
      "source": [
        "import torch\n",
        "import numpy as np\n",
        "npy = np.random.rand(2, 3)\n",
        "describe(torch.from_numpy(npy))\n"
      ],
      "metadata": {
        "colab": {
          "base_uri": "https://localhost:8080/"
        },
        "id": "tQuVoUOpwWUU",
        "outputId": "c733a3ce-f6de-4e5d-d44b-ad87831f1f66"
      },
      "execution_count": 17,
      "outputs": [
        {
          "output_type": "stream",
          "name": "stdout",
          "text": [
            "Type: torch.DoubleTensor\n",
            "Shape/size: torch.Size([2, 3])\n",
            "Values: \n",
            "tensor([[0.9277, 0.2449, 0.4839],\n",
            "        [0.2398, 0.6270, 0.9614]], dtype=torch.float64)\n"
          ]
        }
      ]
    },
    {
      "cell_type": "code",
      "source": [
        "x = torch.FloatTensor([[1, 2, 3],\n",
        "[4, 5, 6]])\n",
        "describe(x)\n"
      ],
      "metadata": {
        "colab": {
          "base_uri": "https://localhost:8080/"
        },
        "id": "JzMRJP7nwjLs",
        "outputId": "dd1805e9-6c34-4b41-f586-3b79afe583b2"
      },
      "execution_count": 18,
      "outputs": [
        {
          "output_type": "stream",
          "name": "stdout",
          "text": [
            "Type: torch.FloatTensor\n",
            "Shape/size: torch.Size([2, 3])\n",
            "Values: \n",
            "tensor([[1., 2., 3.],\n",
            "        [4., 5., 6.]])\n"
          ]
        }
      ]
    },
    {
      "cell_type": "code",
      "source": [
        "x = x.long()\n",
        "describe(x)\n"
      ],
      "metadata": {
        "colab": {
          "base_uri": "https://localhost:8080/"
        },
        "id": "4mmWfwFGwwVZ",
        "outputId": "855d2976-f7f3-4056-8ef2-0e4b631d4aef"
      },
      "execution_count": 19,
      "outputs": [
        {
          "output_type": "stream",
          "name": "stdout",
          "text": [
            "Type: torch.LongTensor\n",
            "Shape/size: torch.Size([2, 3])\n",
            "Values: \n",
            "tensor([[1, 2, 3],\n",
            "        [4, 5, 6]])\n"
          ]
        }
      ]
    },
    {
      "cell_type": "code",
      "source": [
        "import torch\n",
        "x = torch.randn(2, 3)\n",
        "describe(x)\n"
      ],
      "metadata": {
        "colab": {
          "base_uri": "https://localhost:8080/"
        },
        "id": "jPvTB5kBw1L_",
        "outputId": "efa755d1-8e43-45b3-9e92-a628773ae8f7"
      },
      "execution_count": 20,
      "outputs": [
        {
          "output_type": "stream",
          "name": "stdout",
          "text": [
            "Type: torch.FloatTensor\n",
            "Shape/size: torch.Size([2, 3])\n",
            "Values: \n",
            "tensor([[ 1.0151, -0.0132,  0.3481],\n",
            "        [ 0.0766, -1.3892, -0.1397]])\n"
          ]
        }
      ]
    },
    {
      "cell_type": "code",
      "source": [
        "describe(torch.add(x, x))"
      ],
      "metadata": {
        "colab": {
          "base_uri": "https://localhost:8080/"
        },
        "id": "ZW4xPot1xUyz",
        "outputId": "acd9593d-a0fe-435d-943d-0f1abf888f4d"
      },
      "execution_count": 21,
      "outputs": [
        {
          "output_type": "stream",
          "name": "stdout",
          "text": [
            "Type: torch.FloatTensor\n",
            "Shape/size: torch.Size([2, 3])\n",
            "Values: \n",
            "tensor([[ 2.0303, -0.0264,  0.6963],\n",
            "        [ 0.1532, -2.7784, -0.2794]])\n"
          ]
        }
      ]
    },
    {
      "cell_type": "code",
      "source": [
        "describe(x + x)"
      ],
      "metadata": {
        "colab": {
          "base_uri": "https://localhost:8080/"
        },
        "id": "MI2CNQDkxlWQ",
        "outputId": "3a68658f-f364-48f4-9080-726eab637e98"
      },
      "execution_count": 22,
      "outputs": [
        {
          "output_type": "stream",
          "name": "stdout",
          "text": [
            "Type: torch.FloatTensor\n",
            "Shape/size: torch.Size([2, 3])\n",
            "Values: \n",
            "tensor([[ 2.0303, -0.0264,  0.6963],\n",
            "        [ 0.1532, -2.7784, -0.2794]])\n"
          ]
        }
      ]
    },
    {
      "cell_type": "code",
      "source": [
        "x = torch.arange(6)\n",
        "describe(x)\n"
      ],
      "metadata": {
        "colab": {
          "base_uri": "https://localhost:8080/"
        },
        "id": "zwqMHAhn3XnI",
        "outputId": "58688dec-b563-4d83-f02f-402bc7b7d66b"
      },
      "execution_count": 23,
      "outputs": [
        {
          "output_type": "stream",
          "name": "stdout",
          "text": [
            "Type: torch.LongTensor\n",
            "Shape/size: torch.Size([6])\n",
            "Values: \n",
            "tensor([0, 1, 2, 3, 4, 5])\n"
          ]
        }
      ]
    },
    {
      "cell_type": "code",
      "source": [
        "describe(torch.sum(x, dim=0))"
      ],
      "metadata": {
        "colab": {
          "base_uri": "https://localhost:8080/"
        },
        "id": "O1xqYzp03co6",
        "outputId": "6579b254-d616-4996-f5b8-67fdd5c088f9"
      },
      "execution_count": 24,
      "outputs": [
        {
          "output_type": "stream",
          "name": "stdout",
          "text": [
            "Type: torch.LongTensor\n",
            "Shape/size: torch.Size([])\n",
            "Values: \n",
            "15\n"
          ]
        }
      ]
    },
    {
      "cell_type": "code",
      "source": [
        "import torch\n",
        "x = torch.arange(6).view(2, 3)\n",
        "describe(x)\n"
      ],
      "metadata": {
        "colab": {
          "base_uri": "https://localhost:8080/"
        },
        "id": "cpRBpIYJ3mjp",
        "outputId": "01bbfee7-b412-4e06-e1c4-6ce790e1daac"
      },
      "execution_count": 26,
      "outputs": [
        {
          "output_type": "stream",
          "name": "stdout",
          "text": [
            "Type: torch.LongTensor\n",
            "Shape/size: torch.Size([2, 3])\n",
            "Values: \n",
            "tensor([[0, 1, 2],\n",
            "        [3, 4, 5]])\n"
          ]
        }
      ]
    },
    {
      "cell_type": "code",
      "source": [],
      "metadata": {
        "id": "2TCOcxW43pfg"
      },
      "execution_count": null,
      "outputs": []
    }
  ]
}