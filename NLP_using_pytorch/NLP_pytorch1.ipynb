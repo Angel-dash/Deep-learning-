{
  "nbformat": 4,
  "nbformat_minor": 0,
  "metadata": {
    "colab": {
      "provenance": []
    },
    "kernelspec": {
      "name": "python3",
      "display_name": "Python 3"
    },
    "language_info": {
      "name": "python"
    }
  },
  "cells": [
    {
      "cell_type": "markdown",
      "source": [
        "we extensively use PyTorch for implementing our deep learning models. PyTorch is an\n",
        "open source, community­driven deep learning framework. Unlike Theano, Caffe, and TensorFlow,\n",
        "PyTorch implements a tape­based\n",
        "a\n",
        "utomatic differentiation method that allows us to define and\n",
        "execute computational graphs dynamically. This is extremely helpful for debugging and also for\n",
        "constructing sophisticated models with minimal effort.\n"
      ],
      "metadata": {
        "id": "scMoQcItvfzH"
      }
    },
    {
      "cell_type": "markdown",
      "source": [
        "PyTorch is an optimized tensor manipulation library that offers an array of packages for deep learning.\n",
        "At the core of the library is the tensor, which is a mathematical object holding some multidimensional\n",
        "data. A tensor of order zero is just a number, or a scalar. A tensor of order one (1st­order tensor) is an\n",
        "array of numbers, or a vector. Similarly, a 2nd­order tensor is an array of vectors, or a matrix.\n",
        "Therefore, a tensor can be generalized as an n­dimensional array of scalars,"
      ],
      "metadata": {
        "id": "9HTMAjxqvnQb"
      }
    },
    {
      "cell_type": "code",
      "source": [
        "#Creating tensors\n",
        "def describe(x):\n",
        "  print(\"Type: {}\".format(x.type()))\n",
        "  print(\"Shape/size: {}\".format(x.shape))\n",
        "  print(\"Values: \\n{}\".format(x))"
      ],
      "metadata": {
        "id": "b_jqQWzyvgVk"
      },
      "execution_count": 1,
      "outputs": []
    },
    {
      "cell_type": "code",
      "source": [
        "import torch\n",
        "describe(torch.Tensor(2,3))"
      ],
      "metadata": {
        "colab": {
          "base_uri": "https://localhost:8080/"
        },
        "id": "uw8epdjMvxAQ",
        "outputId": "848bc57e-8be5-4a94-cd15-6af2a7836610"
      },
      "execution_count": 2,
      "outputs": [
        {
          "output_type": "stream",
          "name": "stdout",
          "text": [
            "Type: torch.FloatTensor\n",
            "Shape/size: torch.Size([2, 3])\n",
            "Values: \n",
            "tensor([[1.6877e+25, 1.7612e+19, 8.1446e-33],\n",
            "        [1.3563e-19, 1.3563e-19, 1.3563e-19]])\n"
          ]
        }
      ]
    },
    {
      "cell_type": "code",
      "source": [
        "describe(torch.rand(2, 3)) # uniform random\n",
        "describe(torch.randn(2, 3)) # random normal"
      ],
      "metadata": {
        "colab": {
          "base_uri": "https://localhost:8080/"
        },
        "id": "shVZRQigv7G_",
        "outputId": "1263bfc1-6ae4-489a-8c9c-b21177db51d0"
      },
      "execution_count": 3,
      "outputs": [
        {
          "output_type": "stream",
          "name": "stdout",
          "text": [
            "Type: torch.FloatTensor\n",
            "Shape/size: torch.Size([2, 3])\n",
            "Values: \n",
            "tensor([[0.5367, 0.4370, 0.2746],\n",
            "        [0.8679, 0.7314, 0.1032]])\n",
            "Type: torch.FloatTensor\n",
            "Shape/size: torch.Size([2, 3])\n",
            "Values: \n",
            "tensor([[-1.3305, -0.0389,  0.3890],\n",
            "        [ 0.5070,  1.0439,  0.1921]])\n"
          ]
        }
      ]
    },
    {
      "cell_type": "code",
      "source": [
        "import torch\n",
        "describe(torch.zeros(2, 3))\n",
        "x = torch.ones(2, 3)\n",
        "describe(x)\n",
        "x.fill_(5)\n",
        "describe(x)"
      ],
      "metadata": {
        "colab": {
          "base_uri": "https://localhost:8080/"
        },
        "id": "LQosGpG8wKQU",
        "outputId": "3ed2771c-bb07-4a27-9113-04489fe2e4c3"
      },
      "execution_count": 4,
      "outputs": [
        {
          "output_type": "stream",
          "name": "stdout",
          "text": [
            "Type: torch.FloatTensor\n",
            "Shape/size: torch.Size([2, 3])\n",
            "Values: \n",
            "tensor([[0., 0., 0.],\n",
            "        [0., 0., 0.]])\n",
            "Type: torch.FloatTensor\n",
            "Shape/size: torch.Size([2, 3])\n",
            "Values: \n",
            "tensor([[1., 1., 1.],\n",
            "        [1., 1., 1.]])\n",
            "Type: torch.FloatTensor\n",
            "Shape/size: torch.Size([2, 3])\n",
            "Values: \n",
            "tensor([[5., 5., 5.],\n",
            "        [5., 5., 5.]])\n"
          ]
        }
      ]
    },
    {
      "cell_type": "code",
      "source": [
        "x = torch.Tensor([[1, 2, 3],\n",
        "[4, 5, 6]])\n",
        "describe(x)\n"
      ],
      "metadata": {
        "colab": {
          "base_uri": "https://localhost:8080/"
        },
        "id": "aWBD6dEWwRzF",
        "outputId": "e635f28d-e5f2-4fe9-b8bd-6438ba76d985"
      },
      "execution_count": 5,
      "outputs": [
        {
          "output_type": "stream",
          "name": "stdout",
          "text": [
            "Type: torch.FloatTensor\n",
            "Shape/size: torch.Size([2, 3])\n",
            "Values: \n",
            "tensor([[1., 2., 3.],\n",
            "        [4., 5., 6.]])\n"
          ]
        }
      ]
    },
    {
      "cell_type": "markdown",
      "source": [
        "The values can either come from a list, as in the preceding example, or from a NumPy array. And, of\n",
        "course, we can always go from a PyTorch tensor to a NumPy array, as well. Notice that the type of the\n",
        "tensor is DoubleTensor instead of the default FloatTensor (see the next section). This\n",
        "corresponds with the data type of the NumPy random matrix, a float64"
      ],
      "metadata": {
        "id": "n-gHgt5twftu"
      }
    },
    {
      "cell_type": "code",
      "source": [
        "import torch\n",
        "import numpy as np\n",
        "npy = np.random.rand(2, 3)\n",
        "describe(torch.from_numpy(npy))\n"
      ],
      "metadata": {
        "colab": {
          "base_uri": "https://localhost:8080/"
        },
        "id": "tQuVoUOpwWUU",
        "outputId": "71f07bd6-e60c-4932-bd67-d69a19397209"
      },
      "execution_count": 6,
      "outputs": [
        {
          "output_type": "stream",
          "name": "stdout",
          "text": [
            "Type: torch.DoubleTensor\n",
            "Shape/size: torch.Size([2, 3])\n",
            "Values: \n",
            "tensor([[0.8765, 0.9921, 0.2820],\n",
            "        [0.5108, 0.8104, 0.7614]], dtype=torch.float64)\n"
          ]
        }
      ]
    },
    {
      "cell_type": "code",
      "source": [
        "x = torch.FloatTensor([[1, 2, 3],\n",
        "[4, 5, 6]])\n",
        "describe(x)\n"
      ],
      "metadata": {
        "colab": {
          "base_uri": "https://localhost:8080/"
        },
        "id": "JzMRJP7nwjLs",
        "outputId": "bad8d0e0-af18-4d5f-9e12-0991479b3a4d"
      },
      "execution_count": 7,
      "outputs": [
        {
          "output_type": "stream",
          "name": "stdout",
          "text": [
            "Type: torch.FloatTensor\n",
            "Shape/size: torch.Size([2, 3])\n",
            "Values: \n",
            "tensor([[1., 2., 3.],\n",
            "        [4., 5., 6.]])\n"
          ]
        }
      ]
    },
    {
      "cell_type": "code",
      "source": [
        "x = x.long()\n",
        "describe(x)\n"
      ],
      "metadata": {
        "colab": {
          "base_uri": "https://localhost:8080/"
        },
        "id": "4mmWfwFGwwVZ",
        "outputId": "4556644b-0fe5-459f-b0ca-1ba9d20b100a"
      },
      "execution_count": 8,
      "outputs": [
        {
          "output_type": "stream",
          "name": "stdout",
          "text": [
            "Type: torch.LongTensor\n",
            "Shape/size: torch.Size([2, 3])\n",
            "Values: \n",
            "tensor([[1, 2, 3],\n",
            "        [4, 5, 6]])\n"
          ]
        }
      ]
    },
    {
      "cell_type": "code",
      "source": [
        "import torch\n",
        "x = torch.randn(2, 3)\n",
        "describe(x)\n"
      ],
      "metadata": {
        "colab": {
          "base_uri": "https://localhost:8080/"
        },
        "id": "jPvTB5kBw1L_",
        "outputId": "f517e342-1519-4826-9205-553c71b296fe"
      },
      "execution_count": 9,
      "outputs": [
        {
          "output_type": "stream",
          "name": "stdout",
          "text": [
            "Type: torch.FloatTensor\n",
            "Shape/size: torch.Size([2, 3])\n",
            "Values: \n",
            "tensor([[-1.3648,  0.0116,  0.4653],\n",
            "        [-0.4047, -0.4885, -0.2205]])\n"
          ]
        }
      ]
    },
    {
      "cell_type": "code",
      "source": [
        "describe(torch.add(x, x))"
      ],
      "metadata": {
        "colab": {
          "base_uri": "https://localhost:8080/"
        },
        "id": "ZW4xPot1xUyz",
        "outputId": "1a3f6e6a-3346-4298-84e7-d14548802f01"
      },
      "execution_count": 10,
      "outputs": [
        {
          "output_type": "stream",
          "name": "stdout",
          "text": [
            "Type: torch.FloatTensor\n",
            "Shape/size: torch.Size([2, 3])\n",
            "Values: \n",
            "tensor([[-2.7296,  0.0232,  0.9305],\n",
            "        [-0.8095, -0.9771, -0.4410]])\n"
          ]
        }
      ]
    },
    {
      "cell_type": "code",
      "source": [
        "describe(x + x)"
      ],
      "metadata": {
        "colab": {
          "base_uri": "https://localhost:8080/"
        },
        "id": "MI2CNQDkxlWQ",
        "outputId": "c6bb415a-0ccc-4f2d-f032-1255eec80d99"
      },
      "execution_count": 11,
      "outputs": [
        {
          "output_type": "stream",
          "name": "stdout",
          "text": [
            "Type: torch.FloatTensor\n",
            "Shape/size: torch.Size([2, 3])\n",
            "Values: \n",
            "tensor([[-2.7296,  0.0232,  0.9305],\n",
            "        [-0.8095, -0.9771, -0.4410]])\n"
          ]
        }
      ]
    },
    {
      "cell_type": "code",
      "source": [
        "x = torch.arange(6)\n",
        "describe(x)\n"
      ],
      "metadata": {
        "colab": {
          "base_uri": "https://localhost:8080/"
        },
        "id": "zwqMHAhn3XnI",
        "outputId": "932978c7-f302-4204-f486-e4fe03c99104"
      },
      "execution_count": 12,
      "outputs": [
        {
          "output_type": "stream",
          "name": "stdout",
          "text": [
            "Type: torch.LongTensor\n",
            "Shape/size: torch.Size([6])\n",
            "Values: \n",
            "tensor([0, 1, 2, 3, 4, 5])\n"
          ]
        }
      ]
    },
    {
      "cell_type": "code",
      "source": [
        "describe(torch.sum(x, dim=0))"
      ],
      "metadata": {
        "colab": {
          "base_uri": "https://localhost:8080/"
        },
        "id": "O1xqYzp03co6",
        "outputId": "cbf9b373-8d13-47e3-faca-d2ccec9afd95"
      },
      "execution_count": 13,
      "outputs": [
        {
          "output_type": "stream",
          "name": "stdout",
          "text": [
            "Type: torch.LongTensor\n",
            "Shape/size: torch.Size([])\n",
            "Values: \n",
            "15\n"
          ]
        }
      ]
    },
    {
      "cell_type": "code",
      "source": [
        "import torch\n",
        "x = torch.arange(6).view(2, 3)\n",
        "describe(x)\n"
      ],
      "metadata": {
        "colab": {
          "base_uri": "https://localhost:8080/"
        },
        "id": "cpRBpIYJ3mjp",
        "outputId": "cd81020e-a324-4c09-c59a-818f97b861e7"
      },
      "execution_count": 14,
      "outputs": [
        {
          "output_type": "stream",
          "name": "stdout",
          "text": [
            "Type: torch.LongTensor\n",
            "Shape/size: torch.Size([2, 3])\n",
            "Values: \n",
            "tensor([[0, 1, 2],\n",
            "        [3, 4, 5]])\n"
          ]
        }
      ]
    },
    {
      "cell_type": "code",
      "source": [
        "describe(x[:1, :2])\n"
      ],
      "metadata": {
        "id": "2TCOcxW43pfg",
        "colab": {
          "base_uri": "https://localhost:8080/"
        },
        "outputId": "77ff06a5-4aa0-47c5-81a4-55341553452d"
      },
      "execution_count": 15,
      "outputs": [
        {
          "output_type": "stream",
          "name": "stdout",
          "text": [
            "Type: torch.LongTensor\n",
            "Shape/size: torch.Size([1, 2])\n",
            "Values: \n",
            "tensor([[0, 1]])\n"
          ]
        }
      ]
    },
    {
      "cell_type": "code",
      "source": [
        "indices = torch.LongTensor([0, 2])\n",
        "describe(torch.index_select(x, dim=1, index=indices))\n"
      ],
      "metadata": {
        "colab": {
          "base_uri": "https://localhost:8080/"
        },
        "id": "5eJABS1dnn8M",
        "outputId": "e5b6c421-47b2-49f1-dc23-1470121d7137"
      },
      "execution_count": 16,
      "outputs": [
        {
          "output_type": "stream",
          "name": "stdout",
          "text": [
            "Type: torch.LongTensor\n",
            "Shape/size: torch.Size([2, 2])\n",
            "Values: \n",
            "tensor([[0, 2],\n",
            "        [3, 5]])\n"
          ]
        }
      ]
    },
    {
      "cell_type": "code",
      "source": [
        "indices=torch.LongTensor([0,1])\n",
        "describe(torch.index_select(x,dim=1,index=indices))"
      ],
      "metadata": {
        "colab": {
          "base_uri": "https://localhost:8080/"
        },
        "id": "0kyXhVRvoEIi",
        "outputId": "5e1f16d2-cb09-480a-862c-8a6a0d390722"
      },
      "execution_count": 17,
      "outputs": [
        {
          "output_type": "stream",
          "name": "stdout",
          "text": [
            "Type: torch.LongTensor\n",
            "Shape/size: torch.Size([2, 2])\n",
            "Values: \n",
            "tensor([[0, 1],\n",
            "        [3, 4]])\n"
          ]
        }
      ]
    },
    {
      "cell_type": "code",
      "source": [
        "indices = torch.LongTensor([0, 0])\n",
        "describe(torch.index_select(x, dim=1, index=indices))\n"
      ],
      "metadata": {
        "colab": {
          "base_uri": "https://localhost:8080/"
        },
        "id": "ZEJktgPdn2QY",
        "outputId": "1f3fdebf-78e0-4140-de3b-9625acf51eb4"
      },
      "execution_count": 18,
      "outputs": [
        {
          "output_type": "stream",
          "name": "stdout",
          "text": [
            "Type: torch.LongTensor\n",
            "Shape/size: torch.Size([2, 2])\n",
            "Values: \n",
            "tensor([[0, 0],\n",
            "        [3, 3]])\n"
          ]
        }
      ]
    },
    {
      "cell_type": "code",
      "source": [
        "indices=torch.LongTensor([0,0])\n",
        "describe(torch.index_select(x,dim=1,index=indices))\n",
        "#Here we are using longtensor to create a indeces, since we are using 0,0 it will takes zero indices and copy it to create a dimensional 1 tensor"
      ],
      "metadata": {
        "colab": {
          "base_uri": "https://localhost:8080/"
        },
        "id": "9eUauJgGp-JB",
        "outputId": "3ddf7cdd-22e8-447d-a815-9e499afd927e"
      },
      "execution_count": 19,
      "outputs": [
        {
          "output_type": "stream",
          "name": "stdout",
          "text": [
            "Type: torch.LongTensor\n",
            "Shape/size: torch.Size([2, 2])\n",
            "Values: \n",
            "tensor([[0, 0],\n",
            "        [3, 3]])\n"
          ]
        }
      ]
    },
    {
      "cell_type": "code",
      "source": [
        "x=torch.arange(6).view(2,3)\n",
        "describe(x)\n"
      ],
      "metadata": {
        "colab": {
          "base_uri": "https://localhost:8080/"
        },
        "id": "EI5nrdP4oA_H",
        "outputId": "5b6f1794-db96-4d98-e9ed-afa891f2f1c7"
      },
      "execution_count": 20,
      "outputs": [
        {
          "output_type": "stream",
          "name": "stdout",
          "text": [
            "Type: torch.LongTensor\n",
            "Shape/size: torch.Size([2, 3])\n",
            "Values: \n",
            "tensor([[0, 1, 2],\n",
            "        [3, 4, 5]])\n"
          ]
        }
      ]
    },
    {
      "cell_type": "code",
      "source": [
        "describe(torch.cat([x, x], dim=0))\n"
      ],
      "metadata": {
        "colab": {
          "base_uri": "https://localhost:8080/"
        },
        "id": "MYrRe1J8o6sl",
        "outputId": "cb3c1cc8-c7e4-434b-98bb-5febcc666d8f"
      },
      "execution_count": 21,
      "outputs": [
        {
          "output_type": "stream",
          "name": "stdout",
          "text": [
            "Type: torch.LongTensor\n",
            "Shape/size: torch.Size([4, 3])\n",
            "Values: \n",
            "tensor([[0, 1, 2],\n",
            "        [3, 4, 5],\n",
            "        [0, 1, 2],\n",
            "        [3, 4, 5]])\n"
          ]
        }
      ]
    },
    {
      "cell_type": "code",
      "source": [
        "describe(torch.cat([x, x], dim=1))"
      ],
      "metadata": {
        "colab": {
          "base_uri": "https://localhost:8080/"
        },
        "id": "9DeV562ArIFv",
        "outputId": "c13ecd6c-728d-4a39-fbd1-94d4fcea4772"
      },
      "execution_count": 22,
      "outputs": [
        {
          "output_type": "stream",
          "name": "stdout",
          "text": [
            "Type: torch.LongTensor\n",
            "Shape/size: torch.Size([2, 6])\n",
            "Values: \n",
            "tensor([[0, 1, 2, 0, 1, 2],\n",
            "        [3, 4, 5, 3, 4, 5]])\n"
          ]
        }
      ]
    },
    {
      "cell_type": "code",
      "source": [
        "describe(torch.stack([x,x]))"
      ],
      "metadata": {
        "colab": {
          "base_uri": "https://localhost:8080/"
        },
        "id": "DL41kr90rUUj",
        "outputId": "3c419607-1de2-4005-928a-33f7a55a1425"
      },
      "execution_count": 23,
      "outputs": [
        {
          "output_type": "stream",
          "name": "stdout",
          "text": [
            "Type: torch.LongTensor\n",
            "Shape/size: torch.Size([2, 2, 3])\n",
            "Values: \n",
            "tensor([[[0, 1, 2],\n",
            "         [3, 4, 5]],\n",
            "\n",
            "        [[0, 1, 2],\n",
            "         [3, 4, 5]]])\n"
          ]
        }
      ]
    },
    {
      "cell_type": "code",
      "source": [
        "import torch\n",
        "x1 = torch.arange(6).view(2, 3)\n",
        "describe(x1)\n"
      ],
      "metadata": {
        "colab": {
          "base_uri": "https://localhost:8080/"
        },
        "id": "CF-HMhEhrcox",
        "outputId": "8727ea26-7518-4387-9e8b-1b1912bd0483"
      },
      "execution_count": 24,
      "outputs": [
        {
          "output_type": "stream",
          "name": "stdout",
          "text": [
            "Type: torch.LongTensor\n",
            "Shape/size: torch.Size([2, 3])\n",
            "Values: \n",
            "tensor([[0, 1, 2],\n",
            "        [3, 4, 5]])\n"
          ]
        }
      ]
    },
    {
      "cell_type": "code",
      "source": [
        "x2 = torch.ones(3, 2)\n",
        "x2[:, 1] += 1\n",
        "describe(x2)\n"
      ],
      "metadata": {
        "colab": {
          "base_uri": "https://localhost:8080/"
        },
        "id": "81HgiYMsrqxE",
        "outputId": "044d4294-6661-4151-daef-4ef23a0f3719"
      },
      "execution_count": 25,
      "outputs": [
        {
          "output_type": "stream",
          "name": "stdout",
          "text": [
            "Type: torch.FloatTensor\n",
            "Shape/size: torch.Size([3, 2])\n",
            "Values: \n",
            "tensor([[1., 2.],\n",
            "        [1., 2.],\n",
            "        [1., 2.]])\n"
          ]
        }
      ]
    },
    {
      "cell_type": "code",
      "source": [
        "x = torch.ones(2, 2, requires_grad=True)\n",
        "describe(x)\n",
        "print(x.grad is None)"
      ],
      "metadata": {
        "colab": {
          "base_uri": "https://localhost:8080/"
        },
        "id": "jlfe5E5FrvY3",
        "outputId": "01d788a8-5188-4e56-d852-92e58be35004"
      },
      "execution_count": 26,
      "outputs": [
        {
          "output_type": "stream",
          "name": "stdout",
          "text": [
            "Type: torch.FloatTensor\n",
            "Shape/size: torch.Size([2, 2])\n",
            "Values: \n",
            "tensor([[1., 1.],\n",
            "        [1., 1.]], requires_grad=True)\n",
            "True\n"
          ]
        }
      ]
    },
    {
      "cell_type": "code",
      "source": [
        "y = (x + 2) * (x + 5) + 3\n",
        "describe(y)\n",
        "print(x.grad is None)\n"
      ],
      "metadata": {
        "colab": {
          "base_uri": "https://localhost:8080/"
        },
        "id": "vN_jgyJ7sMXG",
        "outputId": "1f1a6fa4-fe87-426e-a1f1-65e9742a7ee8"
      },
      "execution_count": 27,
      "outputs": [
        {
          "output_type": "stream",
          "name": "stdout",
          "text": [
            "Type: torch.FloatTensor\n",
            "Shape/size: torch.Size([2, 2])\n",
            "Values: \n",
            "tensor([[21., 21.],\n",
            "        [21., 21.]], grad_fn=<AddBackward0>)\n",
            "True\n"
          ]
        }
      ]
    },
    {
      "cell_type": "markdown",
      "source": [
        "This line checks if the grad attribute of the tensor x is None. When you perform operations on tensors with requires_grad=True, PyTorch automatically tracks the operations to compute gradients during backpropagation. However, before any gradients are computed, the grad attribute is typically None. If this prints True, it means that the gradient of x has not been computed yet."
      ],
      "metadata": {
        "id": "0GR042bfuiU0"
      }
    },
    {
      "cell_type": "code",
      "source": [
        "z = y.mean()\n",
        "describe(z)\n",
        "z.backward()\n",
        "print(x.grad is None)"
      ],
      "metadata": {
        "colab": {
          "base_uri": "https://localhost:8080/"
        },
        "id": "pZU_URvlthCC",
        "outputId": "1916b669-16e5-4cd6-8e97-dcb309f3f02b"
      },
      "execution_count": 28,
      "outputs": [
        {
          "output_type": "stream",
          "name": "stdout",
          "text": [
            "Type: torch.FloatTensor\n",
            "Shape/size: torch.Size([])\n",
            "Values: \n",
            "21.0\n",
            "False\n"
          ]
        }
      ]
    },
    {
      "cell_type": "code",
      "source": [
        "torch.cuda.is_available()"
      ],
      "metadata": {
        "colab": {
          "base_uri": "https://localhost:8080/"
        },
        "id": "Qnk9C8kVuoOo",
        "outputId": "a720f1da-5864-476e-8ded-4d262a006ae7"
      },
      "execution_count": 29,
      "outputs": [
        {
          "output_type": "execute_result",
          "data": {
            "text/plain": [
              "False"
            ]
          },
          "metadata": {},
          "execution_count": 29
        }
      ]
    },
    {
      "cell_type": "code",
      "source": [
        "import torch\n",
        "\n",
        "# Check if CUDA (GPU support) is available\n",
        "if torch.cuda.is_available():\n",
        "    # Get the number of available GPUs\n",
        "    num_gpus = torch.cuda.device_count()\n",
        "    print(\"Available GPU(s):\")\n",
        "    for i in range(num_gpus):\n",
        "        gpu_name = torch.cuda.get_device_name(i)\n",
        "        print(f\"GPU {i}: {gpu_name}\")\n",
        "else:\n",
        "    print(\"No GPU available, using CPU instead.\")\n"
      ],
      "metadata": {
        "colab": {
          "base_uri": "https://localhost:8080/"
        },
        "id": "_C4-NEE8vgUW",
        "outputId": "c80984e1-0cf4-4181-fff0-8cdab3353b67"
      },
      "execution_count": 30,
      "outputs": [
        {
          "output_type": "stream",
          "name": "stdout",
          "text": [
            "No GPU available, using CPU instead.\n"
          ]
        }
      ]
    },
    {
      "cell_type": "code",
      "source": [
        "device = torch.device(\"cuda\" if torch.cuda.is_available() else \"cpu\")\n",
        "print (device)"
      ],
      "metadata": {
        "colab": {
          "base_uri": "https://localhost:8080/"
        },
        "id": "UDkwTCUKwou3",
        "outputId": "ed96ffe3-e6d1-4732-df52-2dc3355f3cd7"
      },
      "execution_count": 31,
      "outputs": [
        {
          "output_type": "stream",
          "name": "stdout",
          "text": [
            "cpu\n"
          ]
        }
      ]
    },
    {
      "cell_type": "code",
      "source": [
        "x = torch.rand(3, 3).to(device)\n",
        "describe(x)\n",
        "#movees to available devices\n",
        "#To operate on CUDA and non­CUDA objects, we need to ensure that they are on the same device. If we don’t, the computations will break"
      ],
      "metadata": {
        "colab": {
          "base_uri": "https://localhost:8080/"
        },
        "id": "n0VML10Pw_Tf",
        "outputId": "6bb05124-2857-40cc-8ac8-7ab5b6f21d11"
      },
      "execution_count": 32,
      "outputs": [
        {
          "output_type": "stream",
          "name": "stdout",
          "text": [
            "Type: torch.FloatTensor\n",
            "Shape/size: torch.Size([3, 3])\n",
            "Values: \n",
            "tensor([[0.6681, 0.6807, 0.1296],\n",
            "        [0.9128, 0.2427, 0.4240],\n",
            "        [0.9963, 0.5990, 0.2590]])\n"
          ]
        }
      ]
    },
    {
      "cell_type": "code",
      "source": [
        "y = torch.rand(3, 3)\n",
        "x + y\n",
        "#This errors occurs because one of the values is in cuda and another is in cpu"
      ],
      "metadata": {
        "colab": {
          "base_uri": "https://localhost:8080/"
        },
        "id": "aMiRacHOxvvM",
        "outputId": "aa968f33-011c-4423-d598-baea36e312a0"
      },
      "execution_count": 33,
      "outputs": [
        {
          "output_type": "execute_result",
          "data": {
            "text/plain": [
              "tensor([[1.6219, 1.5714, 0.8200],\n",
              "        [1.6162, 1.0876, 0.4605],\n",
              "        [1.3038, 0.6765, 0.3624]])"
            ]
          },
          "metadata": {},
          "execution_count": 33
        }
      ]
    },
    {
      "cell_type": "code",
      "source": [
        "cpu_device = torch.device(\"cpu\")\n",
        "y = y.to(cpu_device)\n",
        "x = x.to(cpu_device)\n",
        "x + y\n"
      ],
      "metadata": {
        "colab": {
          "base_uri": "https://localhost:8080/"
        },
        "id": "9r1COTqnyFVz",
        "outputId": "1113d176-17a8-463e-fa41-0096c69a0d24"
      },
      "execution_count": 34,
      "outputs": [
        {
          "output_type": "execute_result",
          "data": {
            "text/plain": [
              "tensor([[1.6219, 1.5714, 0.8200],\n",
              "        [1.6162, 1.0876, 0.4605],\n",
              "        [1.3038, 0.6765, 0.3624]])"
            ]
          },
          "metadata": {},
          "execution_count": 34
        }
      ]
    },
    {
      "cell_type": "markdown",
      "source": [
        "Keep in mind that it is expensive to move data back and forth from the GPU. Therefore, the typical\n",
        "procedure involves doing many of the parallelizable computations on the GPU and then transferring\n",
        "just the final result back to the CPU. This will allow you to fully utilize the GPUs. If you have several\n",
        "CUDA­visible devices (i.e., multiple GPUs), the best practice is to use the\n",
        "CUDA_VISIBLE_DEVICES environment variable when executing the program"
      ],
      "metadata": {
        "id": "c7nLi7gqyi5n"
      }
    },
    {
      "cell_type": "code",
      "source": [
        "CUDA_VISIBLE_DEVICES=0,1,2,3\n"
      ],
      "metadata": {
        "id": "J02q0ucIyaeu"
      },
      "execution_count": 35,
      "outputs": []
    },
    {
      "cell_type": "markdown",
      "source": [
        "Exercises"
      ],
      "metadata": {
        "id": "TH0EgWXVzN24"
      }
    },
    {
      "cell_type": "code",
      "source": [
        "#Create a 2D tensor and then add a dimension of size 1 inserted at dimension 0\n",
        "a=torch.rand(3,3)\n",
        "a=a.unsqueeze(0)\n",
        "print(a.size())"
      ],
      "metadata": {
        "colab": {
          "base_uri": "https://localhost:8080/"
        },
        "id": "L03gKirdylez",
        "outputId": "7e2e627e-fdc9-4952-e2ae-4a5a9824baf0"
      },
      "execution_count": 47,
      "outputs": [
        {
          "output_type": "stream",
          "name": "stdout",
          "text": [
            "torch.Size([1, 3, 3])\n"
          ]
        }
      ]
    },
    {
      "cell_type": "code",
      "source": [
        "#Remove the extra dimension you just added to the previous tensor.\n",
        "a= a.squeeze(0)\n",
        "print(a.size())"
      ],
      "metadata": {
        "colab": {
          "base_uri": "https://localhost:8080/"
        },
        "id": "FPaVDVrTzhsj",
        "outputId": "3e19a108-a4f9-4ad2-b322-12dff1569999"
      },
      "execution_count": 49,
      "outputs": [
        {
          "output_type": "stream",
          "name": "stdout",
          "text": [
            "torch.Size([3, 3])\n"
          ]
        }
      ]
    },
    {
      "cell_type": "code",
      "source": [
        "#Create a random tensor of shape 5x3 in the interval [3, 7)\n",
        "rand_tensor=torch.rand(5,3)\n",
        "scaled_rand_tensor = rand_tensor * (7 - 3) + 3\n",
        "\n",
        "print(scaled_rand_tensor)"
      ],
      "metadata": {
        "colab": {
          "base_uri": "https://localhost:8080/"
        },
        "id": "oRdGTgCT4CbE",
        "outputId": "d315f48d-c86a-44d5-d0dd-db9dc25f5fa6"
      },
      "execution_count": 50,
      "outputs": [
        {
          "output_type": "stream",
          "name": "stdout",
          "text": [
            "tensor([[6.1259, 5.0900, 3.2454],\n",
            "        [5.8836, 3.1604, 6.6260],\n",
            "        [3.8104, 6.2639, 5.7533],\n",
            "        [6.9629, 3.2211, 4.3908],\n",
            "        [5.9339, 4.8109, 3.1001]])\n"
          ]
        }
      ]
    },
    {
      "cell_type": "code",
      "source": [
        "# Create a tensor with values from a normal distribution (mean=0, std=1).\n",
        "a = torch.rand(3, 3)\n",
        "a.normal_()"
      ],
      "metadata": {
        "colab": {
          "base_uri": "https://localhost:8080/"
        },
        "id": "WW48drUM5afw",
        "outputId": "736d7859-8493-417c-8a4e-9b24d0497096"
      },
      "execution_count": 51,
      "outputs": [
        {
          "output_type": "execute_result",
          "data": {
            "text/plain": [
              "tensor([[ 0.1838, -1.6035,  0.7309],\n",
              "        [-1.0302,  1.2813,  1.8446],\n",
              "        [ 0.3104, -0.2775,  0.7103]])"
            ]
          },
          "metadata": {},
          "execution_count": 51
        }
      ]
    },
    {
      "cell_type": "code",
      "source": [
        "#Retrieve the indexes of all the nonzero elements in the tensor\n",
        "torch.Tensor([1, 1, 1,0, 1])\n",
        "torch.nonzero(a)"
      ],
      "metadata": {
        "colab": {
          "base_uri": "https://localhost:8080/"
        },
        "id": "VDz_1i7r56IB",
        "outputId": "dff1185a-28ba-41ad-8171-5763fe03bea8"
      },
      "execution_count": 52,
      "outputs": [
        {
          "output_type": "execute_result",
          "data": {
            "text/plain": [
              "tensor([[0, 0],\n",
              "        [0, 1],\n",
              "        [0, 2],\n",
              "        [1, 0],\n",
              "        [1, 1],\n",
              "        [1, 2],\n",
              "        [2, 0],\n",
              "        [2, 1],\n",
              "        [2, 2]])"
            ]
          },
          "metadata": {},
          "execution_count": 52
        }
      ]
    },
    {
      "cell_type": "code",
      "source": [
        "# Create a random tensor of size (3,1) and then horizontally stack four copies together.\n",
        "a=torch.rand(3,1)\n",
        "a.expand(3,4)"
      ],
      "metadata": {
        "colab": {
          "base_uri": "https://localhost:8080/"
        },
        "id": "bbdTYNFW6ME8",
        "outputId": "9a1c4553-e953-4cd6-b70f-899d19973aac"
      },
      "execution_count": 53,
      "outputs": [
        {
          "output_type": "execute_result",
          "data": {
            "text/plain": [
              "tensor([[0.9518, 0.9518, 0.9518, 0.9518],\n",
              "        [0.4954, 0.4954, 0.4954, 0.4954],\n",
              "        [0.8395, 0.8395, 0.8395, 0.8395]])"
            ]
          },
          "metadata": {},
          "execution_count": 53
        }
      ]
    },
    {
      "cell_type": "code",
      "source": [
        "# Return the batch matrix­matrix product of two three­dimensional matrices\n",
        "# (a=torch.rand(3,4,5), b=torch.rand(3,5,4)).\n",
        "a = torch.rand(3, 4, 5)\n",
        "b = torch.rand(3, 5, 4)\n",
        "torch.bmm(a, b)"
      ],
      "metadata": {
        "colab": {
          "base_uri": "https://localhost:8080/"
        },
        "id": "YwfopyEo6Yuz",
        "outputId": "3b396057-ef8d-4e2b-dd6c-8a115cfb7e7e"
      },
      "execution_count": 54,
      "outputs": [
        {
          "output_type": "execute_result",
          "data": {
            "text/plain": [
              "tensor([[[0.9854, 1.3888, 0.8378, 1.4988],\n",
              "         [0.4422, 0.5624, 0.3749, 0.7238],\n",
              "         [0.4101, 0.9566, 0.3774, 1.0234],\n",
              "         [0.7446, 0.8541, 0.5801, 1.7118]],\n",
              "\n",
              "        [[1.1772, 1.6499, 1.0951, 1.0892],\n",
              "         [1.4830, 1.5132, 1.1408, 1.3860],\n",
              "         [0.6391, 1.0437, 0.4127, 0.5187],\n",
              "         [1.1489, 1.7397, 0.9782, 1.0305]],\n",
              "\n",
              "        [[0.2920, 0.6721, 0.6879, 0.8783],\n",
              "         [0.5490, 1.1540, 1.0215, 1.2788],\n",
              "         [1.6487, 2.1102, 1.5260, 1.5979],\n",
              "         [0.3556, 0.9698, 0.8085, 0.3823]]])"
            ]
          },
          "metadata": {},
          "execution_count": 54
        }
      ]
    },
    {
      "cell_type": "code",
      "source": [
        "# Return the batch matrix ­matrix product of a 3D matrix and a 2D matrix\n",
        "# (a=torch.rand(3,4,5), b=torch.rand(5,4)).\n",
        "a = torch.rand(3, 4, 5)\n",
        "b = torch.rand(5, 4)\n",
        "torch.bmm(a, b.unsqueeze(0).expand(a.size(0), *b.size()))"
      ],
      "metadata": {
        "colab": {
          "base_uri": "https://localhost:8080/"
        },
        "id": "7KROPK3F6jMp",
        "outputId": "cd7ab92c-178b-4ab9-f976-340893148e8e"
      },
      "execution_count": 55,
      "outputs": [
        {
          "output_type": "execute_result",
          "data": {
            "text/plain": [
              "tensor([[[1.3910, 0.7831, 1.8639, 1.3191],\n",
              "         [0.8465, 0.8477, 1.6496, 1.2122],\n",
              "         [0.9502, 0.8119, 1.3379, 0.9255],\n",
              "         [1.2643, 0.6615, 1.4453, 0.9605]],\n",
              "\n",
              "        [[1.4117, 0.7725, 1.7482, 1.2301],\n",
              "         [2.1709, 1.7766, 3.0482, 1.9570],\n",
              "         [1.4136, 1.2976, 2.1164, 1.2363],\n",
              "         [1.9624, 1.8256, 2.7954, 1.6524]],\n",
              "\n",
              "        [[1.4171, 1.0198, 1.6781, 0.8490],\n",
              "         [1.8919, 1.5236, 2.7651, 1.7942],\n",
              "         [1.9107, 1.5996, 2.4371, 1.3646],\n",
              "         [1.5211, 1.4489, 2.0934, 1.2512]]])"
            ]
          },
          "metadata": {},
          "execution_count": 55
        }
      ]
    },
    {
      "cell_type": "code",
      "source": [],
      "metadata": {
        "id": "srA_q2Yq61PU"
      },
      "execution_count": null,
      "outputs": []
    }
  ]
}