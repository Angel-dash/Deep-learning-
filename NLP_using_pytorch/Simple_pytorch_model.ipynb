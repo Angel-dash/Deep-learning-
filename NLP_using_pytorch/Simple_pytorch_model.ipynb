{
  "nbformat": 4,
  "nbformat_minor": 0,
  "metadata": {
    "colab": {
      "provenance": []
    },
    "kernelspec": {
      "name": "python3",
      "display_name": "Python 3"
    },
    "language_info": {
      "name": "python"
    }
  },
  "cells": [
    {
      "cell_type": "code",
      "execution_count": 19,
      "metadata": {
        "id": "yWlekLmyKo7T"
      },
      "outputs": [],
      "source": [
        "import torch\n",
        "import torch.nn as nn\n",
        "import torch.optim as optim\n",
        "from torchvision import datasets, transforms\n",
        "from torchvision.datasets import MNIST\n",
        "from torch.utils.data import DataLoader"
      ]
    },
    {
      "cell_type": "code",
      "source": [
        "# Define transformations for the dataset\n",
        "transform = transforms.Compose([transforms.ToTensor(), transforms.Normalize((0.5,), (0.5,))])\n",
        "\n",
        "# Load the MNIST training dataset\n",
        "train_dataset = datasets.MNIST(root='./data', train=True, download=True, transform=transform)\n",
        "train_loader = DataLoader(dataset=train_dataset, batch_size=64, shuffle=True)\n",
        "\n",
        "# Load the MNIST test dataset\n",
        "test_dataset = datasets.MNIST(root='./data', train=False, transform=transform)\n",
        "test_loader = DataLoader(dataset=test_dataset, batch_size=64, shuffle=False)"
      ],
      "metadata": {
        "id": "HhqJKNOwKzEA"
      },
      "execution_count": 20,
      "outputs": []
    },
    {
      "cell_type": "code",
      "source": [
        "class MNIST_Model(nn.Module):\n",
        "    def __init__(self):\n",
        "        super(MNIST_Model, self).__init__()  # Call the parent class's constructor\n",
        "        # Define layers (e.g., fully connected layers)\n",
        "        self.fc1 = nn.Linear(28*28, 128)\n",
        "        self.fc2 = nn.Linear(128, 64)\n",
        "        self.fc3 = nn.Linear(64, 10)  #\n",
        "    def forward(self, x):\n",
        "      x = x.view(-1, 28*28)\n",
        "      x = torch.relu(self.fc1(x))\n",
        "      x = torch.relu(self.fc2(x))\n",
        "      x = self.fc3(x)\n",
        "      return x\n",
        "\n"
      ],
      "metadata": {
        "id": "AkNRwMlUK1J7"
      },
      "execution_count": 21,
      "outputs": []
    },
    {
      "cell_type": "code",
      "source": [
        "model = MNIST_Model()\n",
        "criterion = nn.CrossEntropyLoss()\n",
        "optimizer = optim.Adam(model.parameters(), lr = 0.001)\n",
        "\n",
        "for epoch in range(5):  # Loop over 5 epochs\n",
        "    for images, labels in train_loader:  # Loop over batches in train_loader\n",
        "        optimizer.zero_grad()  # Clear gradients from the previous step\n",
        "        outputs = model(images)  # Forward pass: compute model predictions\n",
        "        loss = criterion(outputs, labels)  # Compute loss\n",
        "        loss.backward()  # Backward pass: compute gradients\n",
        "        optimizer.step()  # Update model parameters\n",
        "\n",
        "    print(f\"Epoch {epoch+1}, Loss: {loss.item():.4f}\")\n"
      ],
      "metadata": {
        "colab": {
          "base_uri": "https://localhost:8080/"
        },
        "id": "kpgY6TSJMDxn",
        "outputId": "2e69b0a8-0430-4994-d30c-a6b0f86510c1"
      },
      "execution_count": 22,
      "outputs": [
        {
          "output_type": "stream",
          "name": "stdout",
          "text": [
            "Epoch 1, Loss: 0.1546\n",
            "Epoch 2, Loss: 0.2312\n",
            "Epoch 3, Loss: 0.2672\n",
            "Epoch 4, Loss: 0.0556\n",
            "Epoch 5, Loss: 0.0305\n"
          ]
        }
      ]
    },
    {
      "cell_type": "code",
      "source": [
        "#Setting the model for evaluation\n",
        "model.eval()"
      ],
      "metadata": {
        "colab": {
          "base_uri": "https://localhost:8080/"
        },
        "id": "siw50y2aOShP",
        "outputId": "d32fe9bd-ccf0-4b05-91e6-8e7034c3f949"
      },
      "execution_count": 23,
      "outputs": [
        {
          "output_type": "execute_result",
          "data": {
            "text/plain": [
              "MNIST_Model(\n",
              "  (fc1): Linear(in_features=784, out_features=128, bias=True)\n",
              "  (fc2): Linear(in_features=128, out_features=64, bias=True)\n",
              "  (fc3): Linear(in_features=64, out_features=10, bias=True)\n",
              ")"
            ]
          },
          "metadata": {},
          "execution_count": 23
        }
      ]
    },
    {
      "cell_type": "code",
      "source": [
        "correct = 0\n",
        "total = 0"
      ],
      "metadata": {
        "id": "ZaG4jhXxRqRr"
      },
      "execution_count": 27,
      "outputs": []
    },
    {
      "cell_type": "code",
      "source": [
        "#No need to calcualte gradient decnet for the testing phase so we need to disbale it\n",
        "with torch.no_grad():\n",
        "  for images, labels in test_loader:\n",
        "    outputs = model(images)\n",
        "    _, predicted = torch.max(outputs.data, 1)\n",
        "    total += labels.size(0)\n",
        "    correct += (predicted == labels).sum().item()\n",
        "accuracy = 100 * correct / total\n",
        "print(f\"Test Accuracy: {accuracy:.2f}%\")"
      ],
      "metadata": {
        "colab": {
          "base_uri": "https://localhost:8080/"
        },
        "id": "BQXb4KNDQGej",
        "outputId": "7165e70b-1506-428b-f7f6-5314a807a16f"
      },
      "execution_count": 28,
      "outputs": [
        {
          "output_type": "stream",
          "name": "stdout",
          "text": [
            "Test Accuracy: 96.74%\n"
          ]
        }
      ]
    },
    {
      "cell_type": "code",
      "source": [
        "all_predictions = []\n",
        "\n",
        "with torch.no_grad():\n",
        "    for images, _ in test_loader:  # We don't need the actual labels here\n",
        "        outputs = model(images)\n",
        "        _, predicted = torch.max(outputs.data, 1)\n",
        "        all_predictions.extend(predicted.cpu().numpy())  # Collect predictions\n"
      ],
      "metadata": {
        "id": "ffUph4pxQSM8"
      },
      "execution_count": 29,
      "outputs": []
    },
    {
      "cell_type": "code",
      "source": [
        "print(all_predictions[10])"
      ],
      "metadata": {
        "colab": {
          "base_uri": "https://localhost:8080/"
        },
        "id": "ZtcKcUwTR9P3",
        "outputId": "2ffe8bbf-398e-4e46-c9bd-b26542c8247d"
      },
      "execution_count": 31,
      "outputs": [
        {
          "output_type": "stream",
          "name": "stdout",
          "text": [
            "0\n"
          ]
        }
      ]
    },
    {
      "cell_type": "code",
      "source": [
        "# Load the MNIST test dataset\n",
        "test_dataset = datasets.MNIST(root='./data', train=False, transform=transform)\n",
        "test_loader = DataLoader(dataset=test_dataset, batch_size=1, shuffle=True)  # Batch size of 1 for single image\n"
      ],
      "metadata": {
        "id": "b9UPrU3dTLOz"
      },
      "execution_count": 33,
      "outputs": []
    },
    {
      "cell_type": "code",
      "source": [
        "# Get a single test image and label\n",
        "with torch.no_grad():  # No need to calculate gradients during inference\n",
        "    for images, labels in test_loader:\n",
        "        outputs = model(images)  # Forward pass: get logits (raw outputs) for this single image\n",
        "\n",
        "        # Apply softmax to get probabilities\n",
        "        probabilities = torch.softmax(outputs, dim=1)  # Convert logits to probabilities\n",
        "\n",
        "        # Get the predicted label and the corresponding probability\n",
        "        predicted_label = torch.argmax(probabilities, dim=1)  # Get the index of the highest probability\n",
        "\n",
        "        print(f\"Predicted Label: {predicted_label.item()}\")\n",
        "        print(f\"Actual Label: {labels.item()}\")\n",
        "\n",
        "        # Print the probabilities for each class (0 to 9)\n",
        "        for i in range(10):\n",
        "            print(f\"Class {i}: Probability = {probabilities[0][i].item():.4f}\")\n",
        "\n",
        "        break  # Just break after one image; remove this if you want to loop over the dataset"
      ],
      "metadata": {
        "colab": {
          "base_uri": "https://localhost:8080/"
        },
        "id": "UDT9CkH8SBgW",
        "outputId": "dcba78cc-815d-4ef2-d60b-5274a1ed57c5"
      },
      "execution_count": 34,
      "outputs": [
        {
          "output_type": "stream",
          "name": "stdout",
          "text": [
            "Predicted Label: 5\n",
            "Actual Label: 5\n",
            "Class 0: Probability = 0.0000\n",
            "Class 1: Probability = 0.0000\n",
            "Class 2: Probability = 0.0000\n",
            "Class 3: Probability = 0.0000\n",
            "Class 4: Probability = 0.0000\n",
            "Class 5: Probability = 1.0000\n",
            "Class 6: Probability = 0.0000\n",
            "Class 7: Probability = 0.0000\n",
            "Class 8: Probability = 0.0000\n",
            "Class 9: Probability = 0.0000\n"
          ]
        }
      ]
    },
    {
      "cell_type": "code",
      "source": [],
      "metadata": {
        "id": "CXFWc7zrTGNk"
      },
      "execution_count": null,
      "outputs": []
    }
  ]
}