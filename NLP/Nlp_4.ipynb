{
  "nbformat": 4,
  "nbformat_minor": 0,
  "metadata": {
    "colab": {
      "provenance": []
    },
    "kernelspec": {
      "name": "python3",
      "display_name": "Python 3"
    },
    "language_info": {
      "name": "python"
    }
  },
  "cells": [
    {
      "cell_type": "markdown",
      "source": [
        "Word Embedding and text representation"
      ],
      "metadata": {
        "id": "YfCyCagnmluK"
      }
    },
    {
      "cell_type": "markdown",
      "source": [
        "Method likes word embedding and bag of words uses syntax rather then taking information about neighbouring words.\n",
        "Word embedding helps to represent the words in a such a way that words having similar meaning would have similar representation\n"
      ],
      "metadata": {
        "id": "FSTZM-C0m2eQ"
      }
    },
    {
      "cell_type": "markdown",
      "source": [
        "This equation boils down to the following relationship:\n",
        "vector (Man) + vector (Queen) = vector (King) + vector (Woman)\n",
        "The thought process here is that the relationship of Man:King is the same as Woman:Queen.\n",
        "The Word2vec algorithm is able to capture these semantic relationships when it devises an\n",
        "embedding for each of these words.\n"
      ],
      "metadata": {
        "id": "CDtf8K0enpr4"
      }
    },
    {
      "cell_type": "markdown",
      "source": [
        "Word2vec is an unsupervised methodology for building word embeddings. In the\n",
        "Word2vec architecture, an attempt is made to do either of the following:\n",
        "Predict the target word based on the context word\n",
        "Predict the context word based on the target word"
      ],
      "metadata": {
        "id": "GAoY0yk5oRYI"
      }
    },
    {
      "cell_type": "markdown",
      "source": [
        "**Exploring the pretrained word2vec**\n",
        "\n"
      ],
      "metadata": {
        "id": "FJi3Jy_IorOv"
      }
    },
    {
      "cell_type": "code",
      "execution_count": 1,
      "metadata": {
        "colab": {
          "base_uri": "https://localhost:8080/"
        },
        "id": "rBN67Md9mfcR",
        "outputId": "aadd6fa8-2eb8-4c67-c36b-d8a66d0730e3"
      },
      "outputs": [
        {
          "output_type": "stream",
          "name": "stdout",
          "text": [
            "Requirement already satisfied: gensim in /usr/local/lib/python3.10/dist-packages (4.3.2)\n",
            "Requirement already satisfied: numpy>=1.18.5 in /usr/local/lib/python3.10/dist-packages (from gensim) (1.25.2)\n",
            "Requirement already satisfied: scipy>=1.7.0 in /usr/local/lib/python3.10/dist-packages (from gensim) (1.11.4)\n",
            "Requirement already satisfied: smart-open>=1.8.1 in /usr/local/lib/python3.10/dist-packages (from gensim) (6.4.0)\n"
          ]
        }
      ],
      "source": [
        "!pip install gensim\n"
      ]
    },
    {
      "cell_type": "code",
      "source": [
        "import gensim\n",
        "from gensim.models import KeyedVectors"
      ],
      "metadata": {
        "id": "z4a8zFkMmpJ5"
      },
      "execution_count": 2,
      "outputs": []
    },
    {
      "cell_type": "code",
      "source": [
        "import gensim.downloader as api\n",
        "path = api.load(\"word2vec-google-news-300\", return_path=True)\n",
        "print(path)\n"
      ],
      "metadata": {
        "colab": {
          "base_uri": "https://localhost:8080/"
        },
        "id": "bQjY_RjNsuFq",
        "outputId": "2b4703ae-9d73-4d67-9f79-4fffdabae7ea"
      },
      "execution_count": 3,
      "outputs": [
        {
          "output_type": "stream",
          "name": "stdout",
          "text": [
            "/root/gensim-data/word2vec-google-news-300/word2vec-google-news-300.gz\n"
          ]
        }
      ]
    },
    {
      "cell_type": "code",
      "source": [
        "# !gunzip /root/gensim-data/word2vec-google-news-300/word2vec-google-news-300.gz\n"
      ],
      "metadata": {
        "id": "GDth4vuHsT2d"
      },
      "execution_count": 4,
      "outputs": []
    },
    {
      "cell_type": "code",
      "source": [
        "model=KeyedVectors.load_word2vec_format('/root/gensim-data/word2vec-google-news-300/word2vec-google-news-300.gz',binary=True)\n"
      ],
      "metadata": {
        "id": "Ptum148lszPv"
      },
      "execution_count": 5,
      "outputs": []
    },
    {
      "cell_type": "code",
      "source": [
        "model.vector_size\n"
      ],
      "metadata": {
        "colab": {
          "base_uri": "https://localhost:8080/"
        },
        "id": "XtOlmOuppPNS",
        "outputId": "82cd3780-82f4-4430-fd2a-4e2a7c7601e1"
      },
      "execution_count": 6,
      "outputs": [
        {
          "output_type": "execute_result",
          "data": {
            "text/plain": [
              "300"
            ]
          },
          "metadata": {},
          "execution_count": 6
        }
      ]
    },
    {
      "cell_type": "code",
      "source": [
        "model.most_similar('Delhi')\n"
      ],
      "metadata": {
        "colab": {
          "base_uri": "https://localhost:8080/"
        },
        "id": "kYqG6esfp3ae",
        "outputId": "c927d839-cbd7-49fb-ffff-08498d973849"
      },
      "execution_count": 7,
      "outputs": [
        {
          "output_type": "execute_result",
          "data": {
            "text/plain": [
              "[('Kolkata', 0.7663769125938416),\n",
              " ('Mumbai', 0.7306069731712341),\n",
              " ('Lucknow', 0.7277829647064209),\n",
              " ('Patna', 0.7159016728401184),\n",
              " ('Guwahati', 0.7072612643241882),\n",
              " ('Jaipur', 0.6992815136909485),\n",
              " ('Hyderabad', 0.6983195543289185),\n",
              " ('Ranchi', 0.6962575912475586),\n",
              " ('Bhubaneswar', 0.6959235072135925),\n",
              " ('Chandigarh', 0.6940240263938904)]"
            ]
          },
          "metadata": {},
          "execution_count": 7
        }
      ]
    },
    {
      "cell_type": "code",
      "source": [
        "model.most_similar('Kathmandu')"
      ],
      "metadata": {
        "colab": {
          "base_uri": "https://localhost:8080/"
        },
        "id": "sWUWB9JW08Xg",
        "outputId": "761c8814-1683-4a0c-f175-9e19d3f38735"
      },
      "execution_count": 8,
      "outputs": [
        {
          "output_type": "execute_result",
          "data": {
            "text/plain": [
              "[('Katmandu', 0.7363718748092651),\n",
              " ('Nepal', 0.734721839427948),\n",
              " ('Pokhara', 0.7262689471244812),\n",
              " ('Nepalgunj', 0.7101323008537292),\n",
              " ('Janakpur', 0.7041999697685242),\n",
              " ('Biratnagar', 0.6984423398971558),\n",
              " ('Lalitpur', 0.6979180574417114),\n",
              " ('Kathmandu_Nepal', 0.6943143606185913),\n",
              " ('Bhaktapur', 0.6860206723213196),\n",
              " ('Kathmandu_valley', 0.6819398403167725)]"
            ]
          },
          "metadata": {},
          "execution_count": 8
        }
      ]
    },
    {
      "cell_type": "code",
      "source": [
        "resullt=model.most_similar(positive=['man','queen'],negative=['king'],topn=1)"
      ],
      "metadata": {
        "id": "Up9ZEriQ1GK2"
      },
      "execution_count": 9,
      "outputs": []
    },
    {
      "cell_type": "code",
      "source": [
        "print(resullt)"
      ],
      "metadata": {
        "colab": {
          "base_uri": "https://localhost:8080/"
        },
        "id": "FH2LSQjD1hFU",
        "outputId": "6c18109b-5d94-4f44-a690-6c290d91d2a3"
      },
      "execution_count": 10,
      "outputs": [
        {
          "output_type": "stream",
          "name": "stdout",
          "text": [
            "[('woman', 0.7609435319900513)]\n"
          ]
        }
      ]
    },
    {
      "cell_type": "code",
      "source": [
        "result2=model.most_similar(positive=['man','queen'],negative=['king'],topn=2)\n",
        "print(result2)"
      ],
      "metadata": {
        "colab": {
          "base_uri": "https://localhost:8080/"
        },
        "id": "vR9AavXi1lbA",
        "outputId": "a2b290be-bca7-4636-ca5e-8e5cdc1f6dde"
      },
      "execution_count": 11,
      "outputs": [
        {
          "output_type": "stream",
          "name": "stdout",
          "text": [
            "[('woman', 0.7609435319900513), ('girl', 0.6139994263648987)]\n"
          ]
        }
      ]
    },
    {
      "cell_type": "code",
      "source": [
        "resutl3=model.most_similar(positive=['India','Pakistan'],negative=['Israel'],topn=5)\n",
        "print(resutl3)"
      ],
      "metadata": {
        "colab": {
          "base_uri": "https://localhost:8080/"
        },
        "id": "ZAmq4sea11xB",
        "outputId": "2895d0b9-7364-42e3-930d-95c863748f2c"
      },
      "execution_count": 12,
      "outputs": [
        {
          "output_type": "stream",
          "name": "stdout",
          "text": [
            "[('Bangladesh', 0.6634067893028259), ('subcontinent', 0.6229758262634277), ('Paksitan', 0.6189175248146057), ('Pakistans', 0.6099289059638977), ('Punjab', 0.6099235415458679)]\n"
          ]
        }
      ]
    },
    {
      "cell_type": "code",
      "source": [
        "resutl4=model.most_similar(positive=['Messi','Barcelona'],negative=['Arsenal'],topn=5)\n",
        "print(resutl4)"
      ],
      "metadata": {
        "colab": {
          "base_uri": "https://localhost:8080/"
        },
        "id": "JXldhx7r2I2x",
        "outputId": "bff62f5d-c5ff-48b3-819f-0f3d538d4daa"
      },
      "execution_count": 13,
      "outputs": [
        {
          "output_type": "stream",
          "name": "stdout",
          "text": [
            "[('Xavi', 0.6421923041343689), ('Lionel_Messi', 0.620023250579834), ('Iniesta', 0.6144315600395203), ('Ronaldinho', 0.5939788222312927), ('Leo_Messi', 0.5769927501678467)]\n"
          ]
        }
      ]
    },
    {
      "cell_type": "markdown",
      "source": [
        "SKip gram model tries to predict the context when the target words is given"
      ],
      "metadata": {
        "id": "_ZqanBhc3Qzq"
      }
    },
    {
      "cell_type": "markdown",
      "source": [
        "Let's take the following sentence:\n",
        "All that glitters is not gold\n",
        "Here, glitters is the target word.\n",
        "The context words are comprised of the words appearing in the neighborhood of\n",
        "glitters. We can define something called window_size, which is a configurable\n",
        "parameter that conveys to the model the size of the neighborhood to consider when taking\n",
        "in a word as the target word. For the preceding sentence, let's define a window_size value\n",
        "of 5. When the window size is defined as 5, the model takes in two words from the left and\n",
        "two words from the right of the target word as the context words.\n"
      ],
      "metadata": {
        "id": "tb1CECEG3q-8"
      }
    },
    {
      "cell_type": "markdown",
      "source": [
        "Every row in the preceding graph has one word shaded in brown. This word represents the\n",
        "target word.  Each row also has some words shaded in gray. These words represent the\n",
        "context words for the corresponding target word. As you will have guessed, the\n",
        "window_size value used here is 5.  \n",
        "  \n",
        "  As an example, let's pick up the fourth row. The word an, shaded in brown, is the target\n",
        "word and the words us, make, effort, and to , shaded in gray, are the context words for\n",
        "the target word, an.\n"
      ],
      "metadata": {
        "id": "i3atcYfx4EkF"
      }
    },
    {
      "cell_type": "markdown",
      "source": [
        "A dot product is performed between the embedding matrix and the input vector, which\n",
        "yields an intermediate vector. In hindsight, when this dot product is performed, the row\n",
        "corresponding to the target word in the embedding matrix will be activated and come out\n",
        "as the intermediate vector because only that particular word's entry is 1 in the input vector,\n",
        "and the rest are 0.\n"
      ],
      "metadata": {
        "id": "_IU8kTBY6VCC"
      }
    },
    {
      "cell_type": "markdown",
      "source": [
        "**Building a basic word2vec**"
      ],
      "metadata": {
        "id": "WIgTAeA9_zSH"
      }
    },
    {
      "cell_type": "code",
      "source": [
        "from gensim.models import Word2Vec\n",
        "sentences = [[\"I\", \"am\", \"trying\", \"to\", \"understand\", \"Natural\",\"Language\", \"Processing\"],[\"Natural\", \"Language\", \"Processing\", \"is\", \"fun\",\"to\", \"learn\"],[\"There\", \"are\", \"numerous\", \"use\", \"cases\", \"of\",\"Natural\", \"Language\", \"Processing\"]]\n",
        "model = Word2Vec(sentences, min_count=1)\n"
      ],
      "metadata": {
        "id": "GlJipC6J2fKO"
      },
      "execution_count": 14,
      "outputs": []
    },
    {
      "cell_type": "markdown",
      "source": [
        "We can provide the Word2vec module with a list of tokenized sentences as input,\n",
        "as we have done in the preceding example. We can also provide a text corpus as\n",
        "input using the corpus_file parameter as the corpus contains a list of sentences\n",
        "where the words in each sentence are separated by whitespace."
      ],
      "metadata": {
        "id": "WEDaI5ZDAQ4y"
      }
    },
    {
      "cell_type": "code",
      "source": [
        "model.vector_size"
      ],
      "metadata": {
        "colab": {
          "base_uri": "https://localhost:8080/"
        },
        "id": "zXKetB9wAKpx",
        "outputId": "3ca0aaa3-e219-4f0f-c5b1-450caeef62a3"
      },
      "execution_count": 15,
      "outputs": [
        {
          "output_type": "execute_result",
          "data": {
            "text/plain": [
              "100"
            ]
          },
          "metadata": {},
          "execution_count": 15
        }
      ]
    },
    {
      "cell_type": "code",
      "source": [
        "len(model.wv)\n"
      ],
      "metadata": {
        "colab": {
          "base_uri": "https://localhost:8080/"
        },
        "id": "p-mjW9fxAXJD",
        "outputId": "7342aa53-8956-44d4-932f-3a9b3d227020"
      },
      "execution_count": 16,
      "outputs": [
        {
          "output_type": "execute_result",
          "data": {
            "text/plain": [
              "17"
            ]
          },
          "metadata": {},
          "execution_count": 16
        }
      ]
    },
    {
      "cell_type": "markdown",
      "source": [
        "min_cout helps control how many times a word needs to appear in the text for the machine to consider it important enough to learn its meaning.  \n",
        " min_count=2. This means the machine will only learn word vectors for words that appear at least twice in the entire text corpus you're feeding it."
      ],
      "metadata": {
        "id": "06tMlIkGBOx1"
      }
    },
    {
      "cell_type": "code",
      "source": [
        "model = Word2Vec(sentences, min_count=2)\n"
      ],
      "metadata": {
        "id": "bAC3d5znAdmJ"
      },
      "execution_count": 17,
      "outputs": []
    },
    {
      "cell_type": "code",
      "source": [
        "len(model.wv)"
      ],
      "metadata": {
        "colab": {
          "base_uri": "https://localhost:8080/"
        },
        "id": "I4vUhQ-RBeAo",
        "outputId": "6152a9af-b22b-4523-c4ea-06a2182ac533"
      },
      "execution_count": 18,
      "outputs": [
        {
          "output_type": "execute_result",
          "data": {
            "text/plain": [
              "4"
            ]
          },
          "metadata": {},
          "execution_count": 18
        }
      ]
    },
    {
      "cell_type": "code",
      "source": [
        "vocab = model.wv.key_to_index\n",
        "print(vocab)"
      ],
      "metadata": {
        "colab": {
          "base_uri": "https://localhost:8080/"
        },
        "id": "in-oZT8MBket",
        "outputId": "caa6053a-7185-432b-e676-cd89652aa1df"
      },
      "execution_count": 19,
      "outputs": [
        {
          "output_type": "stream",
          "name": "stdout",
          "text": [
            "{'Processing': 0, 'Language': 1, 'Natural': 2, 'to': 3}\n"
          ]
        }
      ]
    },
    {
      "cell_type": "code",
      "source": [
        "model.vector_size"
      ],
      "metadata": {
        "colab": {
          "base_uri": "https://localhost:8080/"
        },
        "id": "Fb2i8ibSBoi1",
        "outputId": "dd5ba1c0-8a0f-41f3-bd81-dbc536f49461"
      },
      "execution_count": 20,
      "outputs": [
        {
          "output_type": "execute_result",
          "data": {
            "text/plain": [
              "100"
            ]
          },
          "metadata": {},
          "execution_count": 20
        }
      ]
    },
    {
      "cell_type": "markdown",
      "source": [
        "Playing with the vector size\n"
      ],
      "metadata": {
        "id": "EXoDauqVCZeo"
      }
    },
    {
      "cell_type": "code",
      "source": [
        "model = Word2Vec(sentences, min_count=2, vector_size=300)\n"
      ],
      "metadata": {
        "id": "4Pg7RyywCFsY"
      },
      "execution_count": 21,
      "outputs": []
    },
    {
      "cell_type": "code",
      "source": [
        "model.vector_size\n"
      ],
      "metadata": {
        "colab": {
          "base_uri": "https://localhost:8080/"
        },
        "id": "hXWkUvmxCdmr",
        "outputId": "24ccd288-7a00-4295-cae6-3afae7fe7d91"
      },
      "execution_count": 22,
      "outputs": [
        {
          "output_type": "execute_result",
          "data": {
            "text/plain": [
              "300"
            ]
          },
          "metadata": {},
          "execution_count": 22
        }
      ]
    },
    {
      "cell_type": "markdown",
      "source": [
        "Other important configuratio"
      ],
      "metadata": {
        "id": "dU91aAXdDDwv"
      }
    },
    {
      "cell_type": "markdown",
      "source": [
        "**sg,** whose value when 1 uses the Skip-gram approach and, when 0, uses the CBOW approach  \n",
        "\n",
        "**negative**, which when greater than 0, indicates that negative sampling should\n",
        "be used and the integer value signifies the number of negative samples to use  \n",
        "\n",
        "**workers**, which defines the number of threads to use for training:\n",
        "\n",
        "\n",
        "\n",
        "\n",
        "\n"
      ],
      "metadata": {
        "id": "yP_njWrmDOai"
      }
    },
    {
      "cell_type": "code",
      "source": [
        "model = Word2Vec (sentences, min_count=1, vector_size = 300, workers = 2, sg = 1, negative = 1)"
      ],
      "metadata": {
        "id": "eVVmSs1vC2xA"
      },
      "execution_count": 23,
      "outputs": []
    },
    {
      "cell_type": "code",
      "source": [
        "len(model.wv)"
      ],
      "metadata": {
        "colab": {
          "base_uri": "https://localhost:8080/"
        },
        "id": "3NPxUbT1DGml",
        "outputId": "d01afbe4-fb96-46b6-ad16-3de3037ef25f"
      },
      "execution_count": 24,
      "outputs": [
        {
          "output_type": "execute_result",
          "data": {
            "text/plain": [
              "17"
            ]
          },
          "metadata": {},
          "execution_count": 24
        }
      ]
    },
    {
      "cell_type": "code",
      "source": [
        "vocab = model.wv.key_to_index\n",
        "print(vocab)"
      ],
      "metadata": {
        "colab": {
          "base_uri": "https://localhost:8080/"
        },
        "id": "QfO0UsNsDh83",
        "outputId": "084be054-e209-4e32-a58f-e05e927a16d5"
      },
      "execution_count": 25,
      "outputs": [
        {
          "output_type": "stream",
          "name": "stdout",
          "text": [
            "{'Processing': 0, 'Natural': 1, 'Language': 2, 'to': 3, 'of': 4, 'am': 5, 'trying': 6, 'understand': 7, 'is': 8, 'cases': 9, 'fun': 10, 'learn': 11, 'There': 12, 'are': 13, 'numerous': 14, 'use': 15, 'I': 16}\n"
          ]
        }
      ]
    },
    {
      "cell_type": "markdown",
      "source": [
        "**Limitations of Word2vec**\n",
        "\n",
        "\n",
        "Word2vec is a great tool for capturing semantic information from text, and we have seen\n",
        "how well it captures information. However, the Word2vec model has some limitations.  \n",
        "\n",
        "Let's take the following two sentences:\n",
        "I am eating an apple.\n",
        "I am using an apple desktop.  \n",
        "\n",
        "apple in the first sentence signifies the fruit and, in the second sentence, it signifies the\n",
        "company. However, the word vector generated for apple would be the same for both the\n",
        "company and the fruit. In other words, since a static embedding is created for each word\n",
        "after the training, generating an embedding on the fly based on the context for a word's\n",
        "specific usage is a limitation of the Word2vec model.\n",
        "Word2vec can also capture stereotypical or biased relationships depending on the text\n",
        "corpus it was trained on. These biases can be related to gender, ethnicity, religion, and so\n",
        "on.   \n",
        "For example, some patterns that can be observed are as follows:  \n",
        "\n",
        "man:doctor what woman:nurse  \n",
        "\n",
        "man:computer programmer what woman:homemaker"
      ],
      "metadata": {
        "id": "sePizp34D52j"
      }
    },
    {
      "cell_type": "markdown",
      "source": [
        "**Word Mover's Distance (WMD)**\n",
        "Kusner et al. devised the WMD algorithm. They define the dissimilarity between two text\n",
        "documents as the minimum amount of distance that the embedded words of one document\n",
        "need to travel to reach the embedded words of another document"
      ],
      "metadata": {
        "id": "v6-5BVb8ESAG"
      }
    },
    {
      "cell_type": "markdown",
      "source": [
        "WMD computes the pairwise Euclidean distance between words across the sentences and it\n",
        "defines the distance between two documents as the minimum cumulative cost in terms of\n",
        "the Euclidean distance required to move all the words from the first sentence to the second\n",
        "sentence."
      ],
      "metadata": {
        "id": "wuP1yU3EEoa5"
      }
    },
    {
      "cell_type": "code",
      "source": [
        "import gensim\n",
        "from gensim.models import KeyedVectors"
      ],
      "metadata": {
        "id": "TZeMUIgyhXdE"
      },
      "execution_count": 26,
      "outputs": []
    },
    {
      "cell_type": "code",
      "source": [
        "model=KeyedVectors.load_word2vec_format('/root/gensim-data/word2vec-google-news-300/word2vec-google-news-300.gz',binary=True)\n"
      ],
      "metadata": {
        "id": "R7eVhGaCh4ag"
      },
      "execution_count": 27,
      "outputs": []
    },
    {
      "cell_type": "code",
      "source": [
        "sentence_1 = \"Obama speaks to the media in Illinois\"\n",
        "sentence_2 = \"President greets the press in Chicago\"\n",
        "sentence_3 = \"Apple is my favorite company\"\n"
      ],
      "metadata": {
        "id": "MI57yXHUDtSJ"
      },
      "execution_count": 28,
      "outputs": []
    },
    {
      "cell_type": "code",
      "source": [
        "pip list\n"
      ],
      "metadata": {
        "colab": {
          "base_uri": "https://localhost:8080/"
        },
        "id": "nHCGDap6jDos",
        "outputId": "bc533b9f-27a8-49b2-ca3e-948bcc3646d2"
      },
      "execution_count": 29,
      "outputs": [
        {
          "output_type": "stream",
          "name": "stdout",
          "text": [
            "Package                          Version\n",
            "-------------------------------- ---------------------\n",
            "absl-py                          1.4.0\n",
            "aiohttp                          3.9.3\n",
            "aiosignal                        1.3.1\n",
            "alabaster                        0.7.16\n",
            "albumentations                   1.3.1\n",
            "altair                           4.2.2\n",
            "annotated-types                  0.6.0\n",
            "anyio                            3.7.1\n",
            "appdirs                          1.4.4\n",
            "argon2-cffi                      23.1.0\n",
            "argon2-cffi-bindings             21.2.0\n",
            "array-record                     0.5.0\n",
            "arviz                            0.15.1\n",
            "astropy                          5.3.4\n",
            "astunparse                       1.6.3\n",
            "async-timeout                    4.0.3\n",
            "atpublic                         4.0\n",
            "attrs                            23.2.0\n",
            "audioread                        3.0.1\n",
            "autograd                         1.6.2\n",
            "Babel                            2.14.0\n",
            "backcall                         0.2.0\n",
            "beautifulsoup4                   4.12.3\n",
            "bidict                           0.23.1\n",
            "bigframes                        0.22.0\n",
            "bleach                           6.1.0\n",
            "blinker                          1.4\n",
            "blis                             0.7.11\n",
            "blosc2                           2.0.0\n",
            "bokeh                            3.3.4\n",
            "bqplot                           0.12.43\n",
            "branca                           0.7.1\n",
            "build                            1.1.1\n",
            "CacheControl                     0.14.0\n",
            "cachetools                       5.3.3\n",
            "catalogue                        2.0.10\n",
            "certifi                          2024.2.2\n",
            "cffi                             1.16.0\n",
            "chardet                          5.2.0\n",
            "charset-normalizer               3.3.2\n",
            "chex                             0.1.85\n",
            "click                            8.1.7\n",
            "click-plugins                    1.1.1\n",
            "cligj                            0.7.2\n",
            "cloudpathlib                     0.16.0\n",
            "cloudpickle                      2.2.1\n",
            "cmake                            3.27.9\n",
            "cmdstanpy                        1.2.1\n",
            "colorcet                         3.1.0\n",
            "colorlover                       0.3.0\n",
            "colour                           0.1.5\n",
            "community                        1.0.0b1\n",
            "confection                       0.1.4\n",
            "cons                             0.4.6\n",
            "contextlib2                      21.6.0\n",
            "contourpy                        1.2.0\n",
            "cryptography                     42.0.5\n",
            "cufflinks                        0.17.3\n",
            "cupy-cuda12x                     12.2.0\n",
            "cvxopt                           1.3.2\n",
            "cvxpy                            1.3.3\n",
            "cycler                           0.12.1\n",
            "cymem                            2.0.8\n",
            "Cython                           3.0.9\n",
            "dask                             2023.8.1\n",
            "datascience                      0.17.6\n",
            "db-dtypes                        1.2.0\n",
            "dbus-python                      1.2.18\n",
            "debugpy                          1.6.6\n",
            "decorator                        4.4.2\n",
            "defusedxml                       0.7.1\n",
            "distributed                      2023.8.1\n",
            "distro                           1.7.0\n",
            "dlib                             19.24.2\n",
            "dm-tree                          0.1.8\n",
            "docutils                         0.18.1\n",
            "dopamine-rl                      4.0.6\n",
            "duckdb                           0.9.2\n",
            "earthengine-api                  0.1.392\n",
            "easydict                         1.13\n",
            "ecos                             2.0.13\n",
            "editdistance                     0.6.2\n",
            "eerepr                           0.0.4\n",
            "en-core-web-sm                   3.7.1\n",
            "entrypoints                      0.4\n",
            "et-xmlfile                       1.1.0\n",
            "etils                            1.7.0\n",
            "etuples                          0.3.9\n",
            "exceptiongroup                   1.2.0\n",
            "fastai                           2.7.14\n",
            "fastcore                         1.5.29\n",
            "fastdownload                     0.0.7\n",
            "fastjsonschema                   2.19.1\n",
            "fastprogress                     1.0.3\n",
            "fastrlock                        0.8.2\n",
            "filelock                         3.13.1\n",
            "fiona                            1.9.5\n",
            "firebase-admin                   5.3.0\n",
            "Flask                            2.2.5\n",
            "flatbuffers                      23.5.26\n",
            "flax                             0.8.1\n",
            "folium                           0.14.0\n",
            "fonttools                        4.49.0\n",
            "frozendict                       2.4.0\n",
            "frozenlist                       1.4.1\n",
            "fsspec                           2023.6.0\n",
            "future                           0.18.3\n",
            "gast                             0.5.4\n",
            "gcsfs                            2023.6.0\n",
            "GDAL                             3.6.4\n",
            "gdown                            4.7.3\n",
            "geemap                           0.32.0\n",
            "gensim                           4.3.2\n",
            "geocoder                         1.38.1\n",
            "geographiclib                    2.0\n",
            "geopandas                        0.13.2\n",
            "geopy                            2.3.0\n",
            "gin-config                       0.5.0\n",
            "glob2                            0.7\n",
            "google                           2.0.3\n",
            "google-ai-generativelanguage     0.4.0\n",
            "google-api-core                  2.11.1\n",
            "google-api-python-client         2.84.0\n",
            "google-auth                      2.27.0\n",
            "google-auth-httplib2             0.1.1\n",
            "google-auth-oauthlib             1.2.0\n",
            "google-cloud-aiplatform          1.43.0\n",
            "google-cloud-bigquery            3.12.0\n",
            "google-cloud-bigquery-connection 1.12.1\n",
            "google-cloud-bigquery-storage    2.24.0\n",
            "google-cloud-core                2.3.3\n",
            "google-cloud-datastore           2.15.2\n",
            "google-cloud-firestore           2.11.1\n",
            "google-cloud-functions           1.13.3\n",
            "google-cloud-iam                 2.14.3\n",
            "google-cloud-language            2.13.3\n",
            "google-cloud-resource-manager    1.12.3\n",
            "google-cloud-storage             2.8.0\n",
            "google-cloud-translate           3.11.3\n",
            "google-colab                     1.0.0\n",
            "google-crc32c                    1.5.0\n",
            "google-generativeai              0.3.2\n",
            "google-pasta                     0.2.0\n",
            "google-resumable-media           2.7.0\n",
            "googleapis-common-protos         1.62.0\n",
            "googledrivedownloader            0.4\n",
            "graphviz                         0.20.1\n",
            "greenlet                         3.0.3\n",
            "grpc-google-iam-v1               0.13.0\n",
            "grpcio                           1.62.0\n",
            "grpcio-status                    1.48.2\n",
            "gspread                          3.4.2\n",
            "gspread-dataframe                3.3.1\n",
            "gym                              0.25.2\n",
            "gym-notices                      0.0.8\n",
            "h5netcdf                         1.3.0\n",
            "h5py                             3.9.0\n",
            "holidays                         0.44\n",
            "holoviews                        1.17.1\n",
            "html5lib                         1.1\n",
            "httpimport                       1.3.1\n",
            "httplib2                         0.22.0\n",
            "huggingface-hub                  0.20.3\n",
            "humanize                         4.7.0\n",
            "hyperopt                         0.2.7\n",
            "ibis-framework                   7.1.0\n",
            "idna                             3.6\n",
            "imageio                          2.31.6\n",
            "imageio-ffmpeg                   0.4.9\n",
            "imagesize                        1.4.1\n",
            "imbalanced-learn                 0.10.1\n",
            "imgaug                           0.4.0\n",
            "importlib-metadata               7.0.1\n",
            "importlib_resources              6.1.2\n",
            "imutils                          0.5.4\n",
            "inflect                          7.0.0\n",
            "iniconfig                        2.0.0\n",
            "intel-openmp                     2023.2.3\n",
            "ipyevents                        2.0.2\n",
            "ipyfilechooser                   0.6.0\n",
            "ipykernel                        5.5.6\n",
            "ipyleaflet                       0.18.2\n",
            "ipython                          7.34.0\n",
            "ipython-genutils                 0.2.0\n",
            "ipython-sql                      0.5.0\n",
            "ipytree                          0.2.2\n",
            "ipywidgets                       7.7.1\n",
            "itsdangerous                     2.1.2\n",
            "jax                              0.4.23\n",
            "jaxlib                           0.4.23+cuda12.cudnn89\n",
            "jeepney                          0.7.1\n",
            "jieba                            0.42.1\n",
            "Jinja2                           3.1.3\n",
            "joblib                           1.3.2\n",
            "jsonpickle                       3.0.3\n",
            "jsonschema                       4.19.2\n",
            "jsonschema-specifications        2023.12.1\n",
            "jupyter-client                   6.1.12\n",
            "jupyter-console                  6.1.0\n",
            "jupyter_core                     5.7.1\n",
            "jupyter-server                   1.24.0\n",
            "jupyterlab_pygments              0.3.0\n",
            "jupyterlab_widgets               3.0.10\n",
            "kaggle                           1.5.16\n",
            "kagglehub                        0.2.0\n",
            "keras                            2.15.0\n",
            "keyring                          23.5.0\n",
            "kiwisolver                       1.4.5\n",
            "langcodes                        3.3.0\n",
            "launchpadlib                     1.10.16\n",
            "lazr.restfulclient               0.14.4\n",
            "lazr.uri                         1.0.6\n",
            "lazy_loader                      0.3\n",
            "libclang                         16.0.6\n",
            "librosa                          0.10.1\n",
            "lightgbm                         4.1.0\n",
            "linkify-it-py                    2.0.3\n",
            "llvmlite                         0.41.1\n",
            "locket                           1.0.0\n",
            "logical-unification              0.4.6\n",
            "lxml                             4.9.4\n",
            "malloy                           2023.1067\n",
            "Markdown                         3.5.2\n",
            "markdown-it-py                   3.0.0\n",
            "MarkupSafe                       2.1.5\n",
            "matplotlib                       3.7.1\n",
            "matplotlib-inline                0.1.6\n",
            "matplotlib-venn                  0.11.10\n",
            "mdit-py-plugins                  0.4.0\n",
            "mdurl                            0.1.2\n",
            "miniKanren                       1.0.3\n",
            "missingno                        0.5.2\n",
            "mistune                          0.8.4\n",
            "mizani                           0.9.3\n",
            "mkl                              2023.2.0\n",
            "ml-dtypes                        0.2.0\n",
            "mlxtend                          0.22.0\n",
            "more-itertools                   10.1.0\n",
            "moviepy                          1.0.3\n",
            "mpmath                           1.3.0\n",
            "msgpack                          1.0.8\n",
            "multidict                        6.0.5\n",
            "multipledispatch                 1.0.0\n",
            "multitasking                     0.0.11\n",
            "murmurhash                       1.0.10\n",
            "music21                          9.1.0\n",
            "natsort                          8.4.0\n",
            "nbclassic                        1.0.0\n",
            "nbclient                         0.9.0\n",
            "nbconvert                        6.5.4\n",
            "nbformat                         5.9.2\n",
            "nest-asyncio                     1.6.0\n",
            "networkx                         3.2.1\n",
            "nibabel                          4.0.2\n",
            "nltk                             3.8.1\n",
            "notebook                         6.5.5\n",
            "notebook_shim                    0.2.4\n",
            "numba                            0.58.1\n",
            "numexpr                          2.9.0\n",
            "numpy                            1.25.2\n",
            "oauth2client                     4.1.3\n",
            "oauthlib                         3.2.2\n",
            "opencv-contrib-python            4.8.0.76\n",
            "opencv-python                    4.8.0.76\n",
            "opencv-python-headless           4.9.0.80\n",
            "openpyxl                         3.1.2\n",
            "opt-einsum                       3.3.0\n",
            "optax                            0.1.9\n",
            "orbax-checkpoint                 0.4.4\n",
            "osqp                             0.6.2.post8\n",
            "packaging                        23.2\n",
            "pandas                           1.5.3\n",
            "pandas-datareader                0.10.0\n",
            "pandas-gbq                       0.19.2\n",
            "pandas-stubs                     1.5.3.230304\n",
            "pandocfilters                    1.5.1\n",
            "panel                            1.3.8\n",
            "param                            2.0.2\n",
            "parso                            0.8.3\n",
            "parsy                            2.1\n",
            "partd                            1.4.1\n",
            "pathlib                          1.0.1\n",
            "patsy                            0.5.6\n",
            "peewee                           3.17.1\n",
            "pexpect                          4.9.0\n",
            "pickleshare                      0.7.5\n",
            "Pillow                           9.4.0\n",
            "pins                             0.8.4\n",
            "pip                              23.1.2\n",
            "pip-tools                        6.13.0\n",
            "platformdirs                     4.2.0\n",
            "plotly                           5.15.0\n",
            "plotnine                         0.12.4\n",
            "pluggy                           1.4.0\n",
            "polars                           0.20.2\n",
            "pooch                            1.8.1\n",
            "portpicker                       1.5.2\n",
            "prefetch-generator               1.0.3\n",
            "preshed                          3.0.9\n",
            "prettytable                      3.10.0\n",
            "proglog                          0.1.10\n",
            "progressbar2                     4.2.0\n",
            "prometheus_client                0.20.0\n",
            "promise                          2.3\n",
            "prompt-toolkit                   3.0.43\n",
            "prophet                          1.1.5\n",
            "proto-plus                       1.23.0\n",
            "protobuf                         3.20.3\n",
            "psutil                           5.9.5\n",
            "psycopg2                         2.9.9\n",
            "ptyprocess                       0.7.0\n",
            "py-cpuinfo                       9.0.0\n",
            "py4j                             0.10.9.7\n",
            "pyarrow                          14.0.2\n",
            "pyarrow-hotfix                   0.6\n",
            "pyasn1                           0.5.1\n",
            "pyasn1-modules                   0.3.0\n",
            "pycocotools                      2.0.7\n",
            "pycparser                        2.21\n",
            "pydantic                         2.6.3\n",
            "pydantic_core                    2.16.3\n",
            "pydata-google-auth               1.8.2\n",
            "pydot                            1.4.2\n",
            "pydot-ng                         2.0.0\n",
            "pydotplus                        2.0.2\n",
            "PyDrive                          1.3.1\n",
            "PyDrive2                         1.6.3\n",
            "pyerfa                           2.0.1.1\n",
            "pygame                           2.5.2\n",
            "Pygments                         2.16.1\n",
            "PyGObject                        3.42.1\n",
            "PyJWT                            2.3.0\n",
            "pymc                             5.10.4\n",
            "pymystem3                        0.2.0\n",
            "PyOpenGL                         3.1.7\n",
            "pyOpenSSL                        24.0.0\n",
            "pyparsing                        3.1.1\n",
            "pyperclip                        1.8.2\n",
            "pyproj                           3.6.1\n",
            "pyproject_hooks                  1.0.0\n",
            "pyshp                            2.3.1\n",
            "PySocks                          1.7.1\n",
            "pytensor                         2.18.6\n",
            "pytest                           7.4.4\n",
            "python-apt                       0.0.0\n",
            "python-box                       7.1.1\n",
            "python-dateutil                  2.8.2\n",
            "python-louvain                   0.16\n",
            "python-slugify                   8.0.4\n",
            "python-utils                     3.8.2\n",
            "pytz                             2023.4\n",
            "pyviz_comms                      3.0.1\n",
            "PyWavelets                       1.5.0\n",
            "PyYAML                           6.0.1\n",
            "pyzmq                            23.2.1\n",
            "qdldl                            0.1.7.post0\n",
            "qudida                           0.0.4\n",
            "ratelim                          0.1.6\n",
            "referencing                      0.33.0\n",
            "regex                            2023.12.25\n",
            "requests                         2.31.0\n",
            "requests-oauthlib                1.3.1\n",
            "requirements-parser              0.5.0\n",
            "rich                             13.7.1\n",
            "rpds-py                          0.18.0\n",
            "rpy2                             3.4.2\n",
            "rsa                              4.9\n",
            "safetensors                      0.4.2\n",
            "scikit-image                     0.19.3\n",
            "scikit-learn                     1.2.2\n",
            "scipy                            1.11.4\n",
            "scooby                           0.9.2\n",
            "scs                              3.2.4.post1\n",
            "seaborn                          0.13.1\n",
            "SecretStorage                    3.3.1\n",
            "Send2Trash                       1.8.2\n",
            "sentencepiece                    0.1.99\n",
            "setuptools                       65.0.1\n",
            "shapely                          2.0.3\n",
            "six                              1.16.0\n",
            "sklearn-pandas                   2.2.0\n",
            "smart-open                       6.4.0\n",
            "sniffio                          1.3.1\n",
            "snowballstemmer                  2.2.0\n",
            "sortedcontainers                 2.4.0\n",
            "soundfile                        0.12.1\n",
            "soupsieve                        2.5\n",
            "soxr                             0.3.7\n",
            "spacy                            3.7.4\n",
            "spacy-legacy                     3.0.12\n",
            "spacy-loggers                    1.0.5\n",
            "Sphinx                           5.0.2\n",
            "sphinxcontrib-applehelp          1.0.8\n",
            "sphinxcontrib-devhelp            1.0.6\n",
            "sphinxcontrib-htmlhelp           2.0.5\n",
            "sphinxcontrib-jsmath             1.0.1\n",
            "sphinxcontrib-qthelp             1.0.7\n",
            "sphinxcontrib-serializinghtml    1.1.10\n",
            "SQLAlchemy                       2.0.28\n",
            "sqlglot                          19.9.0\n",
            "sqlparse                         0.4.4\n",
            "srsly                            2.4.8\n",
            "stanio                           0.3.0\n",
            "statsmodels                      0.14.1\n",
            "sympy                            1.12\n",
            "tables                           3.8.0\n",
            "tabulate                         0.9.0\n",
            "tbb                              2021.11.0\n",
            "tblib                            3.0.0\n",
            "tenacity                         8.2.3\n",
            "tensorboard                      2.15.2\n",
            "tensorboard-data-server          0.7.2\n",
            "tensorflow                       2.15.0\n",
            "tensorflow-datasets              4.9.4\n",
            "tensorflow-estimator             2.15.0\n",
            "tensorflow-gcs-config            2.15.0\n",
            "tensorflow-hub                   0.16.1\n",
            "tensorflow-io-gcs-filesystem     0.36.0\n",
            "tensorflow-metadata              1.14.0\n",
            "tensorflow-probability           0.23.0\n",
            "tensorstore                      0.1.45\n",
            "termcolor                        2.4.0\n",
            "terminado                        0.18.0\n",
            "text-unidecode                   1.3\n",
            "textblob                         0.17.1\n",
            "tf-keras                         2.15.0\n",
            "tf-slim                          1.1.0\n",
            "thinc                            8.2.3\n",
            "threadpoolctl                    3.3.0\n",
            "tifffile                         2024.2.12\n",
            "tinycss2                         1.2.1\n",
            "tokenizers                       0.15.2\n",
            "toml                             0.10.2\n",
            "tomli                            2.0.1\n",
            "toolz                            0.12.1\n",
            "torch                            2.1.0+cu121\n",
            "torchaudio                       2.1.0+cu121\n",
            "torchdata                        0.7.0\n",
            "torchsummary                     1.5.1\n",
            "torchtext                        0.16.0\n",
            "torchvision                      0.16.0+cu121\n",
            "tornado                          6.3.3\n",
            "tqdm                             4.66.2\n",
            "traitlets                        5.7.1\n",
            "traittypes                       0.2.1\n",
            "transformers                     4.38.2\n",
            "triton                           2.1.0\n",
            "tweepy                           4.14.0\n",
            "typer                            0.9.0\n",
            "types-pytz                       2024.1.0.20240203\n",
            "types-setuptools                 69.1.0.20240302\n",
            "typing_extensions                4.10.0\n",
            "tzlocal                          5.2\n",
            "uc-micro-py                      1.0.3\n",
            "uritemplate                      4.1.1\n",
            "urllib3                          2.0.7\n",
            "vega-datasets                    0.9.0\n",
            "wadllib                          1.3.6\n",
            "wasabi                           1.1.2\n",
            "wcwidth                          0.2.13\n",
            "weasel                           0.3.4\n",
            "webcolors                        1.13\n",
            "webencodings                     0.5.1\n",
            "websocket-client                 1.7.0\n",
            "Werkzeug                         3.0.1\n",
            "wheel                            0.42.0\n",
            "widgetsnbextension               3.6.6\n",
            "wordcloud                        1.9.3\n",
            "wrapt                            1.14.1\n",
            "xarray                           2023.7.0\n",
            "xarray-einstats                  0.7.0\n",
            "xgboost                          2.0.3\n",
            "xlrd                             2.0.1\n",
            "xxhash                           3.4.1\n",
            "xyzservices                      2023.10.1\n",
            "yarl                             1.9.4\n",
            "yellowbrick                      1.5\n",
            "yfinance                         0.2.37\n",
            "zict                             3.0.0\n",
            "zipp                             3.17.0\n"
          ]
        }
      ]
    },
    {
      "cell_type": "code",
      "source": [
        "sentence_obama = 'Obama speaks to the media in Illinois'\n",
        "sentence_president = 'The president greets the press in Chicago'\n",
        "sentence_obama = sentence_obama.lower().split()\n",
        "sentence_president = sentence_president.lower().split()"
      ],
      "metadata": {
        "id": "leDFSnajEv9U"
      },
      "execution_count": 30,
      "outputs": []
    },
    {
      "cell_type": "code",
      "source": [
        "import sys\n",
        "print(sys.executable)\n"
      ],
      "metadata": {
        "colab": {
          "base_uri": "https://localhost:8080/"
        },
        "id": "2oUqqBIbmL5s",
        "outputId": "84d4ac46-641e-4101-f4ef-d251e8442d4b"
      },
      "execution_count": 33,
      "outputs": [
        {
          "output_type": "stream",
          "name": "stdout",
          "text": [
            "/usr/bin/python3\n"
          ]
        }
      ]
    },
    {
      "cell_type": "code",
      "source": [
        "pip install -U https://github.com/PythonOT/POT/archive/master.zip\n"
      ],
      "metadata": {
        "colab": {
          "base_uri": "https://localhost:8080/"
        },
        "id": "LfVe0R1FmQZV",
        "outputId": "2f41f129-0cbe-4ebb-df6e-7fddefaac610"
      },
      "execution_count": 38,
      "outputs": [
        {
          "output_type": "stream",
          "name": "stdout",
          "text": [
            "Collecting https://github.com/PythonOT/POT/archive/master.zip\n",
            "  Downloading https://github.com/PythonOT/POT/archive/master.zip\n",
            "\u001b[2K     \u001b[32m|\u001b[0m \u001b[32m2.9 MB\u001b[0m \u001b[31m15.6 MB/s\u001b[0m \u001b[33m0:00:00\u001b[0m\n",
            "\u001b[?25h  Installing build dependencies ... \u001b[?25l\u001b[?25hdone\n",
            "  Getting requirements to build wheel ... \u001b[?25l\u001b[?25hdone\n",
            "  Preparing metadata (pyproject.toml) ... \u001b[?25l\u001b[?25hdone\n",
            "Requirement already satisfied: numpy>=1.16 in /usr/local/lib/python3.10/dist-packages (from POT==0.9.3.dev0) (1.25.2)\n",
            "Requirement already satisfied: scipy>=1.6 in /usr/local/lib/python3.10/dist-packages (from POT==0.9.3.dev0) (1.9.3)\n",
            "Building wheels for collected packages: POT\n",
            "  Building wheel for POT (pyproject.toml) ... \u001b[?25l\u001b[?25hdone\n",
            "  Created wheel for POT: filename=POT-0.9.3.dev0-cp310-cp310-linux_x86_64.whl size=738776 sha256=9117b07e356eb432676183e79b8f4108a723cc5254f16355cf4e6d44997229bf\n",
            "  Stored in directory: /tmp/pip-ephem-wheel-cache-fy3xs2ja/wheels/d3/ed/a6/2d2d04d49657eeea50abf2a2eddfcf37290174fa63fe511d6d\n",
            "Successfully built POT\n",
            "Installing collected packages: POT\n",
            "Successfully installed POT-0.9.3.dev0\n"
          ]
        }
      ]
    },
    {
      "cell_type": "code",
      "source": [
        "word_mover_distance = model.wmdistance(sentence_1, sentence_2)\n",
        "word_mover_distance"
      ],
      "metadata": {
        "colab": {
          "base_uri": "https://localhost:8080/"
        },
        "id": "2nlT4Gacknuq",
        "outputId": "0dec0f76-605d-4e73-db01-9922e58c9c65"
      },
      "execution_count": 40,
      "outputs": [
        {
          "output_type": "execute_result",
          "data": {
            "text/plain": [
              "0.4277567222465271"
            ]
          },
          "metadata": {},
          "execution_count": 40
        }
      ]
    },
    {
      "cell_type": "code",
      "source": [
        "word_mover_distance = model.wmdistance(sentence_1, sentence_3)\n",
        "word_mover_distance"
      ],
      "metadata": {
        "colab": {
          "base_uri": "https://localhost:8080/"
        },
        "id": "IqY9r_xMnDSA",
        "outputId": "93d32958-692d-4fa6-eede-9fcbb6fd5efa"
      },
      "execution_count": 41,
      "outputs": [
        {
          "output_type": "execute_result",
          "data": {
            "text/plain": [
              "0.4779324675936842"
            ]
          },
          "metadata": {},
          "execution_count": 41
        }
      ]
    },
    {
      "cell_type": "code",
      "source": [
        "model.init_sims(replace = False)"
      ],
      "metadata": {
        "colab": {
          "base_uri": "https://localhost:8080/"
        },
        "id": "GOF3UFORnhhw",
        "outputId": "22da15c1-7b05-47ab-da34-3fed87881ca7"
      },
      "execution_count": 45,
      "outputs": [
        {
          "output_type": "stream",
          "name": "stderr",
          "text": [
            "<ipython-input-45-da00b87f5265>:1: DeprecationWarning: Call to deprecated `init_sims` (Use fill_norms() instead. See https://github.com/RaRe-Technologies/gensim/wiki/Migrating-from-Gensim-3.x-to-4).\n",
            "  model.init_sims(replace = False)\n"
          ]
        }
      ]
    },
    {
      "cell_type": "code",
      "source": [
        "word_mover_distance = model.wmdistance(sentence_1, sentence_2)\n",
        "word_mover_distance"
      ],
      "metadata": {
        "colab": {
          "base_uri": "https://localhost:8080/"
        },
        "id": "Rm6ZG_I3nkiz",
        "outputId": "ba4e7439-97f1-4045-8bb7-d844bdf8fd3f"
      },
      "execution_count": 46,
      "outputs": [
        {
          "output_type": "execute_result",
          "data": {
            "text/plain": [
              "0.4277567222465271"
            ]
          },
          "metadata": {},
          "execution_count": 46
        }
      ]
    },
    {
      "cell_type": "code",
      "source": [
        "word_mover_distance = model.wmdistance(sentence_1, sentence_3)\n",
        "word_mover_distance"
      ],
      "metadata": {
        "colab": {
          "base_uri": "https://localhost:8080/"
        },
        "id": "vXByE18unoC0",
        "outputId": "eddc2375-f0c9-45f6-cdc1-095a29d7bac3"
      },
      "execution_count": 44,
      "outputs": [
        {
          "output_type": "execute_result",
          "data": {
            "text/plain": [
              "0.4779324675936842"
            ]
          },
          "metadata": {},
          "execution_count": 44
        }
      ]
    },
    {
      "cell_type": "code",
      "source": [],
      "metadata": {
        "id": "5Zp2EoRenqjK"
      },
      "execution_count": null,
      "outputs": []
    }
  ]
}