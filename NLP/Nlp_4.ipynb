{
  "nbformat": 4,
  "nbformat_minor": 0,
  "metadata": {
    "colab": {
      "provenance": []
    },
    "kernelspec": {
      "name": "python3",
      "display_name": "Python 3"
    },
    "language_info": {
      "name": "python"
    }
  },
  "cells": [
    {
      "cell_type": "markdown",
      "source": [
        "Word Embedding and text representation"
      ],
      "metadata": {
        "id": "YfCyCagnmluK"
      }
    },
    {
      "cell_type": "markdown",
      "source": [
        "Method likes word embedding and bag of words uses syntax rather then taking information about neighbouring words.\n",
        "Word embedding helps to represent the words in a such a way that words having similar meaning would have similar representation\n"
      ],
      "metadata": {
        "id": "FSTZM-C0m2eQ"
      }
    },
    {
      "cell_type": "markdown",
      "source": [
        "This equation boils down to the following relationship:\n",
        "vector (Man) + vector (Queen) = vector (King) + vector (Woman)\n",
        "The thought process here is that the relationship of Man:King is the same as Woman:Queen.\n",
        "The Word2vec algorithm is able to capture these semantic relationships when it devises an\n",
        "embedding for each of these words.\n"
      ],
      "metadata": {
        "id": "CDtf8K0enpr4"
      }
    },
    {
      "cell_type": "markdown",
      "source": [
        "Word2vec is an unsupervised methodology for building word embeddings. In the\n",
        "Word2vec architecture, an attempt is made to do either of the following:\n",
        "Predict the target word based on the context word\n",
        "Predict the context word based on the target word"
      ],
      "metadata": {
        "id": "GAoY0yk5oRYI"
      }
    },
    {
      "cell_type": "markdown",
      "source": [
        "**Exploring the pretrained word2vec**\n",
        "\n"
      ],
      "metadata": {
        "id": "FJi3Jy_IorOv"
      }
    },
    {
      "cell_type": "code",
      "execution_count": 5,
      "metadata": {
        "colab": {
          "base_uri": "https://localhost:8080/"
        },
        "id": "rBN67Md9mfcR",
        "outputId": "ade886c9-768b-4837-b88b-c9c442e84fdc"
      },
      "outputs": [
        {
          "output_type": "stream",
          "name": "stdout",
          "text": [
            "Requirement already satisfied: gensim in /usr/local/lib/python3.10/dist-packages (4.3.2)\n",
            "Requirement already satisfied: numpy>=1.18.5 in /usr/local/lib/python3.10/dist-packages (from gensim) (1.25.2)\n",
            "Requirement already satisfied: scipy>=1.7.0 in /usr/local/lib/python3.10/dist-packages (from gensim) (1.11.4)\n",
            "Requirement already satisfied: smart-open>=1.8.1 in /usr/local/lib/python3.10/dist-packages (from gensim) (6.4.0)\n"
          ]
        }
      ],
      "source": [
        "!pip install gensim\n"
      ]
    },
    {
      "cell_type": "code",
      "source": [
        "import gensim\n",
        "from gensim.models import KeyedVectors"
      ],
      "metadata": {
        "id": "z4a8zFkMmpJ5"
      },
      "execution_count": 2,
      "outputs": []
    },
    {
      "cell_type": "code",
      "source": [
        "import gensim.downloader as api\n",
        "path = api.load(\"word2vec-google-news-300\", return_path=True)\n",
        "print(path)\n"
      ],
      "metadata": {
        "colab": {
          "base_uri": "https://localhost:8080/"
        },
        "id": "bQjY_RjNsuFq",
        "outputId": "0ae99b20-ba12-4c71-bf3e-42d087a8cac2"
      },
      "execution_count": 12,
      "outputs": [
        {
          "output_type": "stream",
          "name": "stdout",
          "text": [
            "[==================================================] 100.0% 1662.8/1662.8MB downloaded\n",
            "/root/gensim-data/word2vec-google-news-300/word2vec-google-news-300.gz\n"
          ]
        }
      ]
    },
    {
      "cell_type": "code",
      "source": [
        "# !gunzip /root/gensim-data/word2vec-google-news-300/word2vec-google-news-300.gz\n"
      ],
      "metadata": {
        "id": "GDth4vuHsT2d"
      },
      "execution_count": 15,
      "outputs": []
    },
    {
      "cell_type": "code",
      "source": [
        "model=KeyedVectors.load_word2vec_format('/root/gensim-data/word2vec-google-news-300/word2vec-google-news-300.gz',binary=True)\n"
      ],
      "metadata": {
        "id": "Ptum148lszPv"
      },
      "execution_count": 13,
      "outputs": []
    },
    {
      "cell_type": "code",
      "source": [
        "model.vector_size\n"
      ],
      "metadata": {
        "colab": {
          "base_uri": "https://localhost:8080/"
        },
        "id": "XtOlmOuppPNS",
        "outputId": "dba2b27d-286e-4b87-a3d4-2c746851d1eb"
      },
      "execution_count": 16,
      "outputs": [
        {
          "output_type": "execute_result",
          "data": {
            "text/plain": [
              "300"
            ]
          },
          "metadata": {},
          "execution_count": 16
        }
      ]
    },
    {
      "cell_type": "code",
      "source": [
        "model.most_similar('Delhi')\n"
      ],
      "metadata": {
        "colab": {
          "base_uri": "https://localhost:8080/"
        },
        "id": "kYqG6esfp3ae",
        "outputId": "8fb6ed0d-6075-4783-cbbe-6395fc81fea3"
      },
      "execution_count": 18,
      "outputs": [
        {
          "output_type": "execute_result",
          "data": {
            "text/plain": [
              "[('Kolkata', 0.7663769125938416),\n",
              " ('Mumbai', 0.7306069731712341),\n",
              " ('Lucknow', 0.7277829647064209),\n",
              " ('Patna', 0.7159016728401184),\n",
              " ('Guwahati', 0.7072612643241882),\n",
              " ('Jaipur', 0.6992815136909485),\n",
              " ('Hyderabad', 0.6983195543289185),\n",
              " ('Ranchi', 0.6962575912475586),\n",
              " ('Bhubaneswar', 0.6959235072135925),\n",
              " ('Chandigarh', 0.6940240263938904)]"
            ]
          },
          "metadata": {},
          "execution_count": 18
        }
      ]
    },
    {
      "cell_type": "code",
      "source": [
        "model.most_similar('Kathmandu')"
      ],
      "metadata": {
        "colab": {
          "base_uri": "https://localhost:8080/"
        },
        "id": "sWUWB9JW08Xg",
        "outputId": "7d04bae8-3167-4604-9462-be8bc30ea29b"
      },
      "execution_count": 20,
      "outputs": [
        {
          "output_type": "execute_result",
          "data": {
            "text/plain": [
              "[('Katmandu', 0.7363718748092651),\n",
              " ('Nepal', 0.734721839427948),\n",
              " ('Pokhara', 0.7262689471244812),\n",
              " ('Nepalgunj', 0.7101323008537292),\n",
              " ('Janakpur', 0.7041999697685242),\n",
              " ('Biratnagar', 0.6984423398971558),\n",
              " ('Lalitpur', 0.6979180574417114),\n",
              " ('Kathmandu_Nepal', 0.6943143606185913),\n",
              " ('Bhaktapur', 0.6860206723213196),\n",
              " ('Kathmandu_valley', 0.6819398403167725)]"
            ]
          },
          "metadata": {},
          "execution_count": 20
        }
      ]
    },
    {
      "cell_type": "code",
      "source": [
        "resullt=model.most_similar(positive=['man','queen'],negative=['king'],topn=1)"
      ],
      "metadata": {
        "id": "Up9ZEriQ1GK2"
      },
      "execution_count": 25,
      "outputs": []
    },
    {
      "cell_type": "code",
      "source": [
        "print(resullt)"
      ],
      "metadata": {
        "colab": {
          "base_uri": "https://localhost:8080/"
        },
        "id": "FH2LSQjD1hFU",
        "outputId": "e99c353c-2500-4267-b972-c44d3cca506e"
      },
      "execution_count": 26,
      "outputs": [
        {
          "output_type": "stream",
          "name": "stdout",
          "text": [
            "[('woman', 0.7609435319900513)]\n"
          ]
        }
      ]
    },
    {
      "cell_type": "code",
      "source": [
        "result2=model.most_similar(positive=['man','queen'],negative=['king'],topn=2)\n",
        "print(result2)"
      ],
      "metadata": {
        "colab": {
          "base_uri": "https://localhost:8080/"
        },
        "id": "vR9AavXi1lbA",
        "outputId": "6aea27d9-1025-4856-c94e-d6a2e0a6dcdc"
      },
      "execution_count": 27,
      "outputs": [
        {
          "output_type": "stream",
          "name": "stdout",
          "text": [
            "[('woman', 0.7609435319900513), ('girl', 0.6139994263648987)]\n"
          ]
        }
      ]
    },
    {
      "cell_type": "code",
      "source": [
        "resutl3=model.most_similar(positive=['India','Pakistan'],negative=['Israel'],topn=5)\n",
        "print(resutl3)"
      ],
      "metadata": {
        "colab": {
          "base_uri": "https://localhost:8080/"
        },
        "id": "ZAmq4sea11xB",
        "outputId": "02f51712-e912-4c01-bac3-2c40a0a41280"
      },
      "execution_count": 30,
      "outputs": [
        {
          "output_type": "stream",
          "name": "stdout",
          "text": [
            "[('Bangladesh', 0.6634067893028259), ('subcontinent', 0.6229758262634277), ('Paksitan', 0.6189175248146057), ('Pakistans', 0.6099289059638977), ('Punjab', 0.6099235415458679)]\n"
          ]
        }
      ]
    },
    {
      "cell_type": "code",
      "source": [
        "resutl4=model.most_similar(positive=['Messi','Barcelona'],negative=['Arsenal'],topn=5)\n",
        "print(resutl4)"
      ],
      "metadata": {
        "colab": {
          "base_uri": "https://localhost:8080/"
        },
        "id": "JXldhx7r2I2x",
        "outputId": "e414b53d-5bd7-4d0f-c78b-b7332844080a"
      },
      "execution_count": 33,
      "outputs": [
        {
          "output_type": "stream",
          "name": "stdout",
          "text": [
            "[('Xavi', 0.6421923041343689), ('Lionel_Messi', 0.620023250579834), ('Iniesta', 0.6144315600395203), ('Ronaldinho', 0.5939788222312927), ('Leo_Messi', 0.5769927501678467)]\n"
          ]
        }
      ]
    },
    {
      "cell_type": "markdown",
      "source": [
        "SKip gram model tries to predict the context when the target words is given"
      ],
      "metadata": {
        "id": "_ZqanBhc3Qzq"
      }
    },
    {
      "cell_type": "markdown",
      "source": [
        "Let's take the following sentence:\n",
        "All that glitters is not gold\n",
        "Here, glitters is the target word.\n",
        "The context words are comprised of the words appearing in the neighborhood of\n",
        "glitters. We can define something called window_size, which is a configurable\n",
        "parameter that conveys to the model the size of the neighborhood to consider when taking\n",
        "in a word as the target word. For the preceding sentence, let's define a window_size value\n",
        "of 5. When the window size is defined as 5, the model takes in two words from the left and\n",
        "two words from the right of the target word as the context words.\n"
      ],
      "metadata": {
        "id": "tb1CECEG3q-8"
      }
    },
    {
      "cell_type": "markdown",
      "source": [
        "Every row in the preceding graph has one word shaded in brown. This word represents the\n",
        "target word.  Each row also has some words shaded in gray. These words represent the\n",
        "context words for the corresponding target word. As you will have guessed, the\n",
        "window_size value used here is 5.  \n",
        "  \n",
        "  As an example, let's pick up the fourth row. The word an, shaded in brown, is the target\n",
        "word and the words us, make, effort, and to , shaded in gray, are the context words for\n",
        "the target word, an.\n"
      ],
      "metadata": {
        "id": "i3atcYfx4EkF"
      }
    },
    {
      "cell_type": "markdown",
      "source": [
        "A dot product is performed between the embedding matrix and the input vector, which\n",
        "yields an intermediate vector. In hindsight, when this dot product is performed, the row\n",
        "corresponding to the target word in the embedding matrix will be activated and come out\n",
        "as the intermediate vector because only that particular word's entry is 1 in the input vector,\n",
        "and the rest are 0.\n"
      ],
      "metadata": {
        "id": "_IU8kTBY6VCC"
      }
    },
    {
      "cell_type": "code",
      "source": [],
      "metadata": {
        "id": "GlJipC6J2fKO"
      },
      "execution_count": null,
      "outputs": []
    }
  ]
}