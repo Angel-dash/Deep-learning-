{
  "nbformat": 4,
  "nbformat_minor": 0,
  "metadata": {
    "colab": {
      "provenance": []
    },
    "kernelspec": {
      "name": "python3",
      "display_name": "Python 3"
    },
    "language_info": {
      "name": "python"
    }
  },
  "cells": [
    {
      "cell_type": "code",
      "execution_count": null,
      "metadata": {
        "id": "Q8Z_hPizo9hK"
      },
      "outputs": [],
      "source": []
    },
    {
      "cell_type": "markdown",
      "source": [
        "Exploring Sentence-,\n",
        "Document-, and Character Level Embeddings"
      ],
      "metadata": {
        "id": "PGoz4z4kpHdm"
      }
    },
    {
      "cell_type": "markdown",
      "source": [
        "information related to the ordering of words, along with their semantics, can be taken into\n",
        "account when building embeddings to represent words.  \n",
        "Doc2vec which will provide an embedding for entire documents."
      ],
      "metadata": {
        "id": "4jUNuIeJpnHL"
      }
    },
    {
      "cell_type": "markdown",
      "source": [
        " In Learn\n",
        "Natural Language Processing (NLP), along with the word vectors of Learn,\n",
        "Natural, and Language, the Document vector is used to predict the next\n",
        "word, Processing. The model is tuned based on how it did in terms of predicting\n",
        "the word Processing and how it learned throughout"
      ],
      "metadata": {
        "id": "fBL9ByYlrOwy"
      }
    },
    {
      "cell_type": "markdown",
      "source": [
        "Distributed Bag-of-Words Model of Paragraph Vectors (PV-DBOW): In this\n",
        "approach, word vectors aren't taken into account. Instead, the paragraph vector\n",
        "is used to predict randomly sampled words from the paragraph. In the process of\n",
        "using gradient descent and backpropagation, the paragraph vectors get adjusted\n",
        "and learning happens based on how good or bad they are doing in terms of\n",
        "making predictions. This approach is analogous to the Skip-gram approach used\n",
        "in Word2Vec"
      ],
      "metadata": {
        "id": "ks-F_3VArdGc"
      }
    },
    {
      "cell_type": "markdown",
      "source": [
        "**Building a Doc2Vec model**\n"
      ],
      "metadata": {
        "id": "sUeD6iqQrtnA"
      }
    },
    {
      "cell_type": "code",
      "source": [
        "from gensim.test.utils import common_texts\n",
        "from gensim.models.doc2vec import Doc2Vec, TaggedDocument"
      ],
      "metadata": {
        "id": "ddTAUMaspIVn"
      },
      "execution_count": 1,
      "outputs": []
    },
    {
      "cell_type": "code",
      "source": [
        "common_texts"
      ],
      "metadata": {
        "colab": {
          "base_uri": "https://localhost:8080/"
        },
        "id": "Ny4UHwRJryzC",
        "outputId": "3e52ac01-aec7-4d19-9d2d-70ecaf2d97e9"
      },
      "execution_count": 2,
      "outputs": [
        {
          "output_type": "execute_result",
          "data": {
            "text/plain": [
              "[['human', 'interface', 'computer'],\n",
              " ['survey', 'user', 'computer', 'system', 'response', 'time'],\n",
              " ['eps', 'user', 'interface', 'system'],\n",
              " ['system', 'human', 'system', 'eps'],\n",
              " ['user', 'response', 'time'],\n",
              " ['trees'],\n",
              " ['graph', 'trees'],\n",
              " ['graph', 'minors', 'trees'],\n",
              " ['graph', 'minors', 'survey']]"
            ]
          },
          "metadata": {},
          "execution_count": 2
        }
      ]
    },
    {
      "cell_type": "code",
      "source": [
        "documents=[TaggedDocument(doc,[i]) for i,doc in enumerate(common_texts)]\n",
        "documents"
      ],
      "metadata": {
        "colab": {
          "base_uri": "https://localhost:8080/"
        },
        "id": "gEqer4Avr09g",
        "outputId": "4c0242b0-b550-4b15-a8ef-2b500fe76683"
      },
      "execution_count": 4,
      "outputs": [
        {
          "output_type": "execute_result",
          "data": {
            "text/plain": [
              "[TaggedDocument(words=['human', 'interface', 'computer'], tags=[0]),\n",
              " TaggedDocument(words=['survey', 'user', 'computer', 'system', 'response', 'time'], tags=[1]),\n",
              " TaggedDocument(words=['eps', 'user', 'interface', 'system'], tags=[2]),\n",
              " TaggedDocument(words=['system', 'human', 'system', 'eps'], tags=[3]),\n",
              " TaggedDocument(words=['user', 'response', 'time'], tags=[4]),\n",
              " TaggedDocument(words=['trees'], tags=[5]),\n",
              " TaggedDocument(words=['graph', 'trees'], tags=[6]),\n",
              " TaggedDocument(words=['graph', 'minors', 'trees'], tags=[7]),\n",
              " TaggedDocument(words=['graph', 'minors', 'survey'], tags=[8])]"
            ]
          },
          "metadata": {},
          "execution_count": 4
        }
      ]
    },
    {
      "cell_type": "code",
      "source": [
        "model = Doc2Vec(documents, vector_size=5, min_count=1, workers=4,epochs = 40)\n",
        "model.train(documents, total_examples=model.corpus_count,\n",
        "epochs=model.epochs)"
      ],
      "metadata": {
        "colab": {
          "base_uri": "https://localhost:8080/"
        },
        "id": "T-2EZcAzsM_u",
        "outputId": "4bb8b38f-a420-4c97-9a97-a7aff957d924"
      },
      "execution_count": 5,
      "outputs": [
        {
          "output_type": "stream",
          "name": "stderr",
          "text": [
            "WARNING:gensim.models.word2vec:Effective 'alpha' higher than previous training cycles\n"
          ]
        }
      ]
    },
    {
      "cell_type": "code",
      "source": [
        "model.vector_size"
      ],
      "metadata": {
        "colab": {
          "base_uri": "https://localhost:8080/"
        },
        "id": "y7pfP9h6s3Hh",
        "outputId": "5dc51b60-0ac9-49fe-aae7-44cc9f8ccc17"
      },
      "execution_count": 6,
      "outputs": [
        {
          "output_type": "execute_result",
          "data": {
            "text/plain": [
              "5"
            ]
          },
          "metadata": {},
          "execution_count": 6
        }
      ]
    },
    {
      "cell_type": "code",
      "source": [
        "len(model.docvecs)"
      ],
      "metadata": {
        "colab": {
          "base_uri": "https://localhost:8080/"
        },
        "id": "9pU1eJaLs9xk",
        "outputId": "433da67c-2580-4215-d976-37e697dc738f"
      },
      "execution_count": 8,
      "outputs": [
        {
          "output_type": "stream",
          "name": "stderr",
          "text": [
            "<ipython-input-8-c8c8dc9618a3>:1: DeprecationWarning: Call to deprecated `docvecs` (The `docvecs` property has been renamed `dv`.).\n",
            "  len(model.docvecs)\n"
          ]
        },
        {
          "output_type": "execute_result",
          "data": {
            "text/plain": [
              "9"
            ]
          },
          "metadata": {},
          "execution_count": 8
        }
      ]
    },
    {
      "cell_type": "code",
      "source": [
        "len(model.wv)\n"
      ],
      "metadata": {
        "colab": {
          "base_uri": "https://localhost:8080/"
        },
        "id": "OokyLBVctCxE",
        "outputId": "dcc7f870-ce54-4527-ba74-fc9f4fa5c482"
      },
      "execution_count": 10,
      "outputs": [
        {
          "output_type": "execute_result",
          "data": {
            "text/plain": [
              "12"
            ]
          },
          "metadata": {},
          "execution_count": 10
        }
      ]
    },
    {
      "cell_type": "code",
      "source": [
        "words = list(model.wv.key_to_index.keys())\n",
        "words"
      ],
      "metadata": {
        "colab": {
          "base_uri": "https://localhost:8080/"
        },
        "id": "fEeicdIhtIQH",
        "outputId": "6a11689e-cf79-4023-f3ac-967db880df9d"
      },
      "execution_count": 16,
      "outputs": [
        {
          "output_type": "execute_result",
          "data": {
            "text/plain": [
              "['system',\n",
              " 'graph',\n",
              " 'trees',\n",
              " 'user',\n",
              " 'minors',\n",
              " 'eps',\n",
              " 'time',\n",
              " 'response',\n",
              " 'survey',\n",
              " 'computer',\n",
              " 'interface',\n",
              " 'human']"
            ]
          },
          "metadata": {},
          "execution_count": 16
        }
      ]
    },
    {
      "cell_type": "code",
      "source": [
        "vector=model.infer_vector(['user', 'interface', 'for','computer'])\n",
        "vector"
      ],
      "metadata": {
        "colab": {
          "base_uri": "https://localhost:8080/"
        },
        "id": "J3z-f2oKtY2g",
        "outputId": "e32179e5-a3ed-40b3-9034-9971ab92bdd9"
      },
      "execution_count": 18,
      "outputs": [
        {
          "output_type": "execute_result",
          "data": {
            "text/plain": [
              "array([ 0.01769252, -0.10492857, -0.01893673,  0.01627251, -0.03091071],\n",
              "      dtype=float32)"
            ]
          },
          "metadata": {},
          "execution_count": 18
        }
      ]
    },
    {
      "cell_type": "markdown",
      "source": [
        "Changing vector size and min_count"
      ],
      "metadata": {
        "id": "Z02l_G6dvNTq"
      }
    },
    {
      "cell_type": "code",
      "source": [
        "model=Doc2Vec(documents, min_count=3,epochs=40,vector_size=50)\n",
        "model.train(documents, total_examples=model.corpus_count,epochs=model.epochs)"
      ],
      "metadata": {
        "colab": {
          "base_uri": "https://localhost:8080/"
        },
        "id": "YFiZ-qttufyg",
        "outputId": "c9d6dfa3-eb1a-44d6-93a7-c25e3c642483"
      },
      "execution_count": 19,
      "outputs": [
        {
          "output_type": "stream",
          "name": "stderr",
          "text": [
            "WARNING:gensim.models.word2vec:Effective 'alpha' higher than previous training cycles\n"
          ]
        }
      ]
    },
    {
      "cell_type": "code",
      "source": [
        "len(model.wv)"
      ],
      "metadata": {
        "colab": {
          "base_uri": "https://localhost:8080/"
        },
        "id": "R7wrTizNvptc",
        "outputId": "56938cf1-dfab-4785-ce58-06f4db162568"
      },
      "execution_count": 20,
      "outputs": [
        {
          "output_type": "execute_result",
          "data": {
            "text/plain": [
              "4"
            ]
          },
          "metadata": {},
          "execution_count": 20
        }
      ]
    },
    {
      "cell_type": "code",
      "source": [
        "word=list(model.wv.key_to_index.keys())\n",
        "word"
      ],
      "metadata": {
        "colab": {
          "base_uri": "https://localhost:8080/"
        },
        "id": "AGUL6r-tv_D-",
        "outputId": "3da2f4bc-85c2-427e-ce07-6afbc70079e9"
      },
      "execution_count": 21,
      "outputs": [
        {
          "output_type": "execute_result",
          "data": {
            "text/plain": [
              "['system', 'graph', 'trees', 'user']"
            ]
          },
          "metadata": {},
          "execution_count": 21
        }
      ]
    },
    {
      "cell_type": "code",
      "source": [
        "vector=model.infer_vector(['user', 'interface', 'for','computer'])\n",
        "vector\n"
      ],
      "metadata": {
        "colab": {
          "base_uri": "https://localhost:8080/"
        },
        "id": "n15DZ9smwJhQ",
        "outputId": "e8e0b301-aa43-48b3-a051-6ae7684181d2"
      },
      "execution_count": 22,
      "outputs": [
        {
          "output_type": "execute_result",
          "data": {
            "text/plain": [
              "array([ 2.7921072e-03, -9.5139854e-03, -8.5343439e-05,  2.7636734e-03,\n",
              "       -3.5706391e-03,  3.7900740e-03,  8.9099603e-03,  8.5471487e-03,\n",
              "        9.3369018e-03,  1.3304256e-03,  7.2353575e-03, -5.9009641e-03,\n",
              "       -5.7782428e-03,  9.4995331e-03,  8.1670834e-03,  3.8477441e-03,\n",
              "       -2.7677598e-03, -3.6295371e-03,  4.9458374e-03, -1.9870708e-03,\n",
              "        3.6297771e-03,  4.6719038e-03,  3.1809886e-03, -4.9725231e-03,\n",
              "        7.0057483e-03, -5.1878626e-03,  2.4053396e-03,  1.2494436e-03,\n",
              "        4.5998469e-03,  9.1097044e-04, -6.7735417e-04, -7.3037618e-03,\n",
              "       -3.7056257e-03,  7.2824978e-03,  1.8508495e-04,  8.8006724e-03,\n",
              "        8.2237655e-03, -6.3653821e-03,  2.5660803e-03,  1.4124048e-03,\n",
              "        7.2619976e-03,  7.9020681e-03,  3.3601034e-03, -8.3770780e-03,\n",
              "       -3.7034908e-03, -7.2631100e-03,  8.4346188e-03, -5.3134216e-03,\n",
              "       -3.7815624e-03,  3.0810458e-03], dtype=float32)"
            ]
          },
          "metadata": {},
          "execution_count": 22
        }
      ]
    },
    {
      "cell_type": "markdown",
      "source": [
        "As we can see, the vector size is now 50 and only 4 terms are in the vocabulary.\n",
        "This is because min_count was modified to 3 and, consequently, terms that were\n",
        "equal to or greater than 3 terms are present in the vocabulary now."
      ],
      "metadata": {
        "id": "I-zyKAFgwbpD"
      }
    },
    {
      "cell_type": "markdown",
      "source": [
        "Testing two different approaches of doc2vec\n",
        "\n",
        "\n",
        "1.   PV-DM\n",
        "2.   PV-DBOW\n",
        "\n"
      ],
      "metadata": {
        "id": "ZYvBM1lnwki7"
      }
    },
    {
      "cell_type": "code",
      "source": [
        "model=Doc2Vec(documents,vector_size=50,min_count=2,epochs=40,dm=1)\n",
        "model.train(documents,total_examples=model.corpus_count,epochs=model.epochs)"
      ],
      "metadata": {
        "colab": {
          "base_uri": "https://localhost:8080/"
        },
        "id": "o9tDJEh8wVd2",
        "outputId": "24710c8d-512f-4471-cb9e-d312891847b0"
      },
      "execution_count": 23,
      "outputs": [
        {
          "output_type": "stream",
          "name": "stderr",
          "text": [
            "WARNING:gensim.models.word2vec:Effective 'alpha' higher than previous training cycles\n"
          ]
        }
      ]
    },
    {
      "cell_type": "markdown",
      "source": [
        "dm equal to 0 builds the Doc2Vec model based on the distributed bag-of-words approach and vice versa"
      ],
      "metadata": {
        "id": "D7w2wSD0xMJh"
      }
    },
    {
      "cell_type": "code",
      "source": [
        "model=Doc2Vec(documents,vector_size=50,min_count=2,epochs=40,dm=0)\n",
        "model.train(documents, total_examples=model.corpus_count,epochs=model.epochs)"
      ],
      "metadata": {
        "colab": {
          "base_uri": "https://localhost:8080/"
        },
        "id": "7fM67JhsxG-g",
        "outputId": "2bf1570e-9ec8-486e-94fa-277c3d189ab5"
      },
      "execution_count": 24,
      "outputs": [
        {
          "output_type": "stream",
          "name": "stderr",
          "text": [
            "WARNING:gensim.models.word2vec:Effective 'alpha' higher than previous training cycles\n"
          ]
        }
      ]
    },
    {
      "cell_type": "markdown",
      "source": [
        "The dm_concat parameter is used in the PV-DM approach. Its value, when set to 1,\n",
        "indicates to the algorithm that the context vectors should be concatenated while trying to\n",
        "predict the target word. This, of course, leads to building a larger model since multiple\n",
        "word embeddings get concatenated."
      ],
      "metadata": {
        "id": "L3_L4q9HxuWR"
      }
    },
    {
      "cell_type": "code",
      "source": [
        "model=Doc2Vec(documents,vector_size=50,min_count=2,epochs=40,dm=1,window=2,min_alpha=0.005,dm_concat=1)\n",
        "model.train(documents, total_examples=model.corpus_count,epochs=model.epochs)\n"
      ],
      "metadata": {
        "colab": {
          "base_uri": "https://localhost:8080/"
        },
        "id": "V0mhuZLXxjmK",
        "outputId": "161e7020-c1c9-4686-b010-1c3c0cd55257"
      },
      "execution_count": 25,
      "outputs": [
        {
          "output_type": "stream",
          "name": "stderr",
          "text": [
            "WARNING:gensim.models.word2vec:Effective 'alpha' higher than previous training cycles\n"
          ]
        }
      ]
    },
    {
      "cell_type": "code",
      "source": [],
      "metadata": {
        "id": "s17KfNuxyJA0"
      },
      "execution_count": null,
      "outputs": []
    }
  ]
}