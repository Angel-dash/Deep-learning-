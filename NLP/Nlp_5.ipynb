{
  "nbformat": 4,
  "nbformat_minor": 0,
  "metadata": {
    "colab": {
      "provenance": []
    },
    "kernelspec": {
      "name": "python3",
      "display_name": "Python 3"
    },
    "language_info": {
      "name": "python"
    }
  },
  "cells": [
    {
      "cell_type": "code",
      "execution_count": null,
      "metadata": {
        "id": "Q8Z_hPizo9hK"
      },
      "outputs": [],
      "source": []
    },
    {
      "cell_type": "markdown",
      "source": [
        "Exploring Sentence-,\n",
        "Document-, and Character Level Embeddings"
      ],
      "metadata": {
        "id": "PGoz4z4kpHdm"
      }
    },
    {
      "cell_type": "markdown",
      "source": [
        "information related to the ordering of words, along with their semantics, can be taken into\n",
        "account when building embeddings to represent words.  \n",
        "Doc2vec which will provide an embedding for entire documents."
      ],
      "metadata": {
        "id": "4jUNuIeJpnHL"
      }
    },
    {
      "cell_type": "markdown",
      "source": [
        " In Learn\n",
        "Natural Language Processing (NLP), along with the word vectors of Learn,\n",
        "Natural, and Language, the Document vector is used to predict the next\n",
        "word, Processing. The model is tuned based on how it did in terms of predicting\n",
        "the word Processing and how it learned throughout"
      ],
      "metadata": {
        "id": "fBL9ByYlrOwy"
      }
    },
    {
      "cell_type": "markdown",
      "source": [
        "Distributed Bag-of-Words Model of Paragraph Vectors (PV-DBOW): In this\n",
        "approach, word vectors aren't taken into account. Instead, the paragraph vector\n",
        "is used to predict randomly sampled words from the paragraph. In the process of\n",
        "using gradient descent and backpropagation, the paragraph vectors get adjusted\n",
        "and learning happens based on how good or bad they are doing in terms of\n",
        "making predictions. This approach is analogous to the Skip-gram approach used\n",
        "in Word2Vec"
      ],
      "metadata": {
        "id": "ks-F_3VArdGc"
      }
    },
    {
      "cell_type": "markdown",
      "source": [
        "**Building a Doc2Vec model**\n"
      ],
      "metadata": {
        "id": "sUeD6iqQrtnA"
      }
    },
    {
      "cell_type": "code",
      "source": [
        "from gensim.test.utils import common_texts\n",
        "from gensim.models.doc2vec import Doc2Vec, TaggedDocument"
      ],
      "metadata": {
        "id": "ddTAUMaspIVn"
      },
      "execution_count": 1,
      "outputs": []
    },
    {
      "cell_type": "code",
      "source": [
        "common_texts"
      ],
      "metadata": {
        "colab": {
          "base_uri": "https://localhost:8080/"
        },
        "id": "Ny4UHwRJryzC",
        "outputId": "3e52ac01-aec7-4d19-9d2d-70ecaf2d97e9"
      },
      "execution_count": 2,
      "outputs": [
        {
          "output_type": "execute_result",
          "data": {
            "text/plain": [
              "[['human', 'interface', 'computer'],\n",
              " ['survey', 'user', 'computer', 'system', 'response', 'time'],\n",
              " ['eps', 'user', 'interface', 'system'],\n",
              " ['system', 'human', 'system', 'eps'],\n",
              " ['user', 'response', 'time'],\n",
              " ['trees'],\n",
              " ['graph', 'trees'],\n",
              " ['graph', 'minors', 'trees'],\n",
              " ['graph', 'minors', 'survey']]"
            ]
          },
          "metadata": {},
          "execution_count": 2
        }
      ]
    },
    {
      "cell_type": "code",
      "source": [
        "documents=[TaggedDocument(doc,[i]) for i,doc in enumerate(common_texts)]\n",
        "documents"
      ],
      "metadata": {
        "colab": {
          "base_uri": "https://localhost:8080/"
        },
        "id": "gEqer4Avr09g",
        "outputId": "4c0242b0-b550-4b15-a8ef-2b500fe76683"
      },
      "execution_count": 4,
      "outputs": [
        {
          "output_type": "execute_result",
          "data": {
            "text/plain": [
              "[TaggedDocument(words=['human', 'interface', 'computer'], tags=[0]),\n",
              " TaggedDocument(words=['survey', 'user', 'computer', 'system', 'response', 'time'], tags=[1]),\n",
              " TaggedDocument(words=['eps', 'user', 'interface', 'system'], tags=[2]),\n",
              " TaggedDocument(words=['system', 'human', 'system', 'eps'], tags=[3]),\n",
              " TaggedDocument(words=['user', 'response', 'time'], tags=[4]),\n",
              " TaggedDocument(words=['trees'], tags=[5]),\n",
              " TaggedDocument(words=['graph', 'trees'], tags=[6]),\n",
              " TaggedDocument(words=['graph', 'minors', 'trees'], tags=[7]),\n",
              " TaggedDocument(words=['graph', 'minors', 'survey'], tags=[8])]"
            ]
          },
          "metadata": {},
          "execution_count": 4
        }
      ]
    },
    {
      "cell_type": "code",
      "source": [
        "model = Doc2Vec(documents, vector_size=5, min_count=1, workers=4,epochs = 40)\n",
        "model.train(documents, total_examples=model.corpus_count,\n",
        "epochs=model.epochs)"
      ],
      "metadata": {
        "colab": {
          "base_uri": "https://localhost:8080/"
        },
        "id": "T-2EZcAzsM_u",
        "outputId": "4bb8b38f-a420-4c97-9a97-a7aff957d924"
      },
      "execution_count": 5,
      "outputs": [
        {
          "output_type": "stream",
          "name": "stderr",
          "text": [
            "WARNING:gensim.models.word2vec:Effective 'alpha' higher than previous training cycles\n"
          ]
        }
      ]
    },
    {
      "cell_type": "code",
      "source": [
        "model.vector_size"
      ],
      "metadata": {
        "colab": {
          "base_uri": "https://localhost:8080/"
        },
        "id": "y7pfP9h6s3Hh",
        "outputId": "5dc51b60-0ac9-49fe-aae7-44cc9f8ccc17"
      },
      "execution_count": 6,
      "outputs": [
        {
          "output_type": "execute_result",
          "data": {
            "text/plain": [
              "5"
            ]
          },
          "metadata": {},
          "execution_count": 6
        }
      ]
    },
    {
      "cell_type": "code",
      "source": [
        "len(model.docvecs)"
      ],
      "metadata": {
        "colab": {
          "base_uri": "https://localhost:8080/"
        },
        "id": "9pU1eJaLs9xk",
        "outputId": "433da67c-2580-4215-d976-37e697dc738f"
      },
      "execution_count": 8,
      "outputs": [
        {
          "output_type": "stream",
          "name": "stderr",
          "text": [
            "<ipython-input-8-c8c8dc9618a3>:1: DeprecationWarning: Call to deprecated `docvecs` (The `docvecs` property has been renamed `dv`.).\n",
            "  len(model.docvecs)\n"
          ]
        },
        {
          "output_type": "execute_result",
          "data": {
            "text/plain": [
              "9"
            ]
          },
          "metadata": {},
          "execution_count": 8
        }
      ]
    },
    {
      "cell_type": "code",
      "source": [
        "len(model.wv)\n"
      ],
      "metadata": {
        "colab": {
          "base_uri": "https://localhost:8080/"
        },
        "id": "OokyLBVctCxE",
        "outputId": "dcc7f870-ce54-4527-ba74-fc9f4fa5c482"
      },
      "execution_count": 10,
      "outputs": [
        {
          "output_type": "execute_result",
          "data": {
            "text/plain": [
              "12"
            ]
          },
          "metadata": {},
          "execution_count": 10
        }
      ]
    },
    {
      "cell_type": "code",
      "source": [
        "words = list(model.wv.key_to_index.keys())\n",
        "words"
      ],
      "metadata": {
        "colab": {
          "base_uri": "https://localhost:8080/"
        },
        "id": "fEeicdIhtIQH",
        "outputId": "6a11689e-cf79-4023-f3ac-967db880df9d"
      },
      "execution_count": 16,
      "outputs": [
        {
          "output_type": "execute_result",
          "data": {
            "text/plain": [
              "['system',\n",
              " 'graph',\n",
              " 'trees',\n",
              " 'user',\n",
              " 'minors',\n",
              " 'eps',\n",
              " 'time',\n",
              " 'response',\n",
              " 'survey',\n",
              " 'computer',\n",
              " 'interface',\n",
              " 'human']"
            ]
          },
          "metadata": {},
          "execution_count": 16
        }
      ]
    },
    {
      "cell_type": "code",
      "source": [
        "vector=model.infer_vector(['user', 'interface', 'for','computer'])\n",
        "vector"
      ],
      "metadata": {
        "colab": {
          "base_uri": "https://localhost:8080/"
        },
        "id": "J3z-f2oKtY2g",
        "outputId": "e32179e5-a3ed-40b3-9034-9971ab92bdd9"
      },
      "execution_count": 18,
      "outputs": [
        {
          "output_type": "execute_result",
          "data": {
            "text/plain": [
              "array([ 0.01769252, -0.10492857, -0.01893673,  0.01627251, -0.03091071],\n",
              "      dtype=float32)"
            ]
          },
          "metadata": {},
          "execution_count": 18
        }
      ]
    },
    {
      "cell_type": "code",
      "source": [],
      "metadata": {
        "id": "YFiZ-qttufyg"
      },
      "execution_count": null,
      "outputs": []
    }
  ]
}