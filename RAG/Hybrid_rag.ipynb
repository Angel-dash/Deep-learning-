{
  "nbformat": 4,
  "nbformat_minor": 0,
  "metadata": {
    "colab": {
      "provenance": []
    },
    "kernelspec": {
      "name": "python3",
      "display_name": "Python 3"
    },
    "language_info": {
      "name": "python"
    }
  },
  "cells": [
    {
      "cell_type": "code",
      "source": [
        "from sklearn.feature_extraction.text import TfidfVectorizer\n",
        "from sklearn.metrics.pairwise import cosine_similarity\n",
        "import numpy as np"
      ],
      "metadata": {
        "id": "t4K64qe10LME"
      },
      "execution_count": 12,
      "outputs": []
    },
    {
      "cell_type": "code",
      "execution_count": 48,
      "metadata": {
        "id": "nBUe8tqUyalR"
      },
      "outputs": [],
      "source": [
        "#sample documents\n",
        "documents = [\n",
        "    \"Anime is great\",\n",
        "    \"Where is hell have you been\",\n",
        "    \"Anime is the greatest media ever created\",\n",
        "    \"Movie is a media used for generation\"\n",
        "]\n",
        "\n"
      ]
    },
    {
      "cell_type": "code",
      "source": [
        "query = \"Best media ever\""
      ],
      "metadata": {
        "id": "0Gd32Te1yxOw"
      },
      "execution_count": 49,
      "outputs": []
    },
    {
      "cell_type": "code",
      "source": [
        "import re\n",
        "\n",
        "def preprocess_text(text):\n",
        "  text = text.lower()\n",
        "  text = re.sub(r'[^\\w\\s]', '', text)\n",
        "  return text\n",
        "\n"
      ],
      "metadata": {
        "id": "vIntTUpgy2YO"
      },
      "execution_count": 50,
      "outputs": []
    },
    {
      "cell_type": "code",
      "source": [
        "preprocessed_doc = [preprocess_text(doc) for doc in documents]"
      ],
      "metadata": {
        "id": "Lgv7llllzM6n"
      },
      "execution_count": 51,
      "outputs": []
    },
    {
      "cell_type": "code",
      "source": [
        "preprocessed_doc"
      ],
      "metadata": {
        "colab": {
          "base_uri": "https://localhost:8080/"
        },
        "id": "_njovCJMzlfQ",
        "outputId": "524940ba-05b9-47e5-8dc7-7998fbecdcf5"
      },
      "execution_count": 52,
      "outputs": [
        {
          "output_type": "execute_result",
          "data": {
            "text/plain": [
              "['anime is great',\n",
              " 'where is hell have you been',\n",
              " 'anime is the greatest media ever created',\n",
              " 'movie is a media used for generation']"
            ]
          },
          "metadata": {},
          "execution_count": 52
        }
      ]
    },
    {
      "cell_type": "code",
      "source": [
        "preprocessed_query = preprocess_text(query)"
      ],
      "metadata": {
        "id": "F9zuKT5Oznca"
      },
      "execution_count": 53,
      "outputs": []
    },
    {
      "cell_type": "code",
      "source": [
        "preprocessed_query"
      ],
      "metadata": {
        "colab": {
          "base_uri": "https://localhost:8080/",
          "height": 35
        },
        "id": "ts3TJlYaz3nV",
        "outputId": "be890a23-fe97-49ce-c775-0fb8ee54056c"
      },
      "execution_count": 54,
      "outputs": [
        {
          "output_type": "execute_result",
          "data": {
            "text/plain": [
              "'best media ever'"
            ],
            "application/vnd.google.colaboratory.intrinsic+json": {
              "type": "string"
            }
          },
          "metadata": {},
          "execution_count": 54
        }
      ]
    },
    {
      "cell_type": "code",
      "source": [
        "vector = TfidfVectorizer()"
      ],
      "metadata": {
        "id": "ThhHcL7Nz5jo"
      },
      "execution_count": 55,
      "outputs": []
    },
    {
      "cell_type": "code",
      "source": [
        "X = vector.fit_transform(preprocessed_doc)"
      ],
      "metadata": {
        "id": "vF_GOTKj0FIf"
      },
      "execution_count": 56,
      "outputs": []
    },
    {
      "cell_type": "code",
      "source": [
        "X.toarray()"
      ],
      "metadata": {
        "colab": {
          "base_uri": "https://localhost:8080/"
        },
        "id": "04g9XEzS0evA",
        "outputId": "3ea6bcd0-a962-4904-9efc-77aec8df6a4d"
      },
      "execution_count": 57,
      "outputs": [
        {
          "output_type": "execute_result",
          "data": {
            "text/plain": [
              "array([[0.5728925 , 0.        , 0.        , 0.        , 0.        ,\n",
              "        0.        , 0.72664149, 0.        , 0.        , 0.        ,\n",
              "        0.37919167, 0.        , 0.        , 0.        , 0.        ,\n",
              "        0.        , 0.        ],\n",
              "       [0.        , 0.43551105, 0.        , 0.        , 0.        ,\n",
              "        0.        , 0.        , 0.        , 0.43551105, 0.43551105,\n",
              "        0.22726773, 0.        , 0.        , 0.        , 0.        ,\n",
              "        0.43551105, 0.43551105],\n",
              "       [0.33570696, 0.        , 0.42580171, 0.42580171, 0.        ,\n",
              "        0.        , 0.        , 0.42580171, 0.        , 0.        ,\n",
              "        0.222201  , 0.33570696, 0.        , 0.42580171, 0.        ,\n",
              "        0.        , 0.        ],\n",
              "       [0.        , 0.        , 0.        , 0.        , 0.45203489,\n",
              "        0.45203489, 0.        , 0.        , 0.        , 0.        ,\n",
              "        0.23589056, 0.3563895 , 0.45203489, 0.        , 0.45203489,\n",
              "        0.        , 0.        ]])"
            ]
          },
          "metadata": {},
          "execution_count": 57
        }
      ]
    },
    {
      "cell_type": "code",
      "source": [
        "query_embedding = vector.transform([preprocessed_query])"
      ],
      "metadata": {
        "id": "ZISax6qp0hc1"
      },
      "execution_count": 58,
      "outputs": []
    },
    {
      "cell_type": "code",
      "source": [
        "query_embedding.toarray()"
      ],
      "metadata": {
        "colab": {
          "base_uri": "https://localhost:8080/"
        },
        "id": "ldrteFDc06yK",
        "outputId": "ef64a6fb-56ec-40c1-8cd9-d9f52eb341f3"
      },
      "execution_count": 59,
      "outputs": [
        {
          "output_type": "execute_result",
          "data": {
            "text/plain": [
              "array([[0.        , 0.        , 0.        , 0.78528828, 0.        ,\n",
              "        0.        , 0.        , 0.        , 0.        , 0.        ,\n",
              "        0.        , 0.6191303 , 0.        , 0.        , 0.        ,\n",
              "        0.        , 0.        ]])"
            ]
          },
          "metadata": {},
          "execution_count": 59
        }
      ]
    },
    {
      "cell_type": "markdown",
      "source": [
        "using tfidf instead of hugging face transformer. so that the vector representation is of sparse vector instead of dense vector\n"
      ],
      "metadata": {
        "id": "gU1Y1uh99cIn"
      }
    },
    {
      "cell_type": "code",
      "source": [
        "similarities = cosine_similarity(X, query_embedding)"
      ],
      "metadata": {
        "id": "IBubnRf_1B6x"
      },
      "execution_count": 60,
      "outputs": []
    },
    {
      "cell_type": "code",
      "source": [
        "similarities"
      ],
      "metadata": {
        "colab": {
          "base_uri": "https://localhost:8080/"
        },
        "id": "63fpDqa3-pRo",
        "outputId": "b0e0cf4a-013b-483e-d169-0ee8b7c433b3"
      },
      "execution_count": 61,
      "outputs": [
        {
          "output_type": "execute_result",
          "data": {
            "text/plain": [
              "array([[0.        ],\n",
              "       [0.        ],\n",
              "       [0.54222344],\n",
              "       [0.22065154]])"
            ]
          },
          "metadata": {},
          "execution_count": 61
        }
      ]
    },
    {
      "cell_type": "code",
      "source": [
        "np.argsort(similarities, axis = 0)"
      ],
      "metadata": {
        "colab": {
          "base_uri": "https://localhost:8080/"
        },
        "id": "J4zehmFm-ukb",
        "outputId": "d1d629df-9bbc-4e7d-8fe1-aa872661c652"
      },
      "execution_count": 63,
      "outputs": [
        {
          "output_type": "execute_result",
          "data": {
            "text/plain": [
              "array([[0],\n",
              "       [1],\n",
              "       [3],\n",
              "       [2]])"
            ]
          },
          "metadata": {},
          "execution_count": 63
        }
      ]
    },
    {
      "cell_type": "code",
      "source": [
        "ranked_indices = np.argsort(similarities, axis = 0)[::-1].flatten()"
      ],
      "metadata": {
        "id": "vY8m8Gjh_Gkx"
      },
      "execution_count": 64,
      "outputs": []
    },
    {
      "cell_type": "code",
      "source": [
        "ranked_indices"
      ],
      "metadata": {
        "colab": {
          "base_uri": "https://localhost:8080/"
        },
        "id": "BBZ3iyYm_kqe",
        "outputId": "4ee7b6d8-2047-44df-928a-3100be6df7be"
      },
      "execution_count": 65,
      "outputs": [
        {
          "output_type": "execute_result",
          "data": {
            "text/plain": [
              "array([2, 3, 1, 0])"
            ]
          },
          "metadata": {},
          "execution_count": 65
        }
      ]
    },
    {
      "cell_type": "code",
      "source": [
        "ranked_documents = [documents[i] for i in ranked_indices]"
      ],
      "metadata": {
        "id": "X2VRkHLx_y3l"
      },
      "execution_count": 66,
      "outputs": []
    },
    {
      "cell_type": "code",
      "source": [
        "ranked_documents"
      ],
      "metadata": {
        "colab": {
          "base_uri": "https://localhost:8080/"
        },
        "id": "3lY9KVZw_mVK",
        "outputId": "1044e895-0cdc-4e2c-da4a-6f8e2cc5bec8"
      },
      "execution_count": 67,
      "outputs": [
        {
          "output_type": "execute_result",
          "data": {
            "text/plain": [
              "['Anime is the greatest media ever created',\n",
              " 'Movie is a media used for generation',\n",
              " 'Where is hell have you been',\n",
              " 'Anime is great']"
            ]
          },
          "metadata": {},
          "execution_count": 67
        }
      ]
    },
    {
      "cell_type": "code",
      "source": [
        "for i, doc in enumerate(ranked_documents):\n",
        "  print(f\"Rank {i} : {doc}\")"
      ],
      "metadata": {
        "colab": {
          "base_uri": "https://localhost:8080/"
        },
        "id": "xoBkwqCb_8YG",
        "outputId": "055ca3e1-de89-4ea6-b7b2-0cb0afde8db8"
      },
      "execution_count": 68,
      "outputs": [
        {
          "output_type": "stream",
          "name": "stdout",
          "text": [
            "Rank 0 : Anime is the greatest media ever created\n",
            "Rank 1 : Movie is a media used for generation\n",
            "Rank 2 : Where is hell have you been\n",
            "Rank 3 : Anime is great\n"
          ]
        }
      ]
    },
    {
      "cell_type": "code",
      "source": [],
      "metadata": {
        "id": "z6FyyjO0AIxM"
      },
      "execution_count": null,
      "outputs": []
    }
  ]
}