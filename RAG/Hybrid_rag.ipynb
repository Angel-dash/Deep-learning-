{
  "nbformat": 4,
  "nbformat_minor": 0,
  "metadata": {
    "colab": {
      "provenance": []
    },
    "kernelspec": {
      "name": "python3",
      "display_name": "Python 3"
    },
    "language_info": {
      "name": "python"
    }
  },
  "cells": [
    {
      "cell_type": "code",
      "source": [
        "from sklearn.feature_extraction.text import TfidfVectorizer\n",
        "from sklearn.metrics.pairwise import cosine_similarity\n",
        "import numpy as np"
      ],
      "metadata": {
        "id": "t4K64qe10LME"
      },
      "execution_count": 12,
      "outputs": []
    },
    {
      "cell_type": "code",
      "execution_count": 13,
      "metadata": {
        "id": "nBUe8tqUyalR"
      },
      "outputs": [],
      "source": [
        "#sample documents\n",
        "documents = [\n",
        "    \"This is my house\",\n",
        "    \"Where is hell have you been\",\n",
        "    \"Anime is the greatest media ever created\"\n",
        "\n",
        "]\n",
        "\n"
      ]
    },
    {
      "cell_type": "code",
      "source": [
        "query = \"Best media ever\""
      ],
      "metadata": {
        "id": "0Gd32Te1yxOw"
      },
      "execution_count": 14,
      "outputs": []
    },
    {
      "cell_type": "code",
      "source": [
        "import re\n",
        "\n",
        "def preprocess_text(text):\n",
        "  text = text.lower()\n",
        "  text = re.sub(r'[^\\w\\s]', '', text)\n",
        "  return text\n",
        "\n"
      ],
      "metadata": {
        "id": "vIntTUpgy2YO"
      },
      "execution_count": 15,
      "outputs": []
    },
    {
      "cell_type": "code",
      "source": [
        "preprocessed_doc = [preprocess_text(doc) for doc in documents]"
      ],
      "metadata": {
        "id": "Lgv7llllzM6n"
      },
      "execution_count": 16,
      "outputs": []
    },
    {
      "cell_type": "code",
      "source": [
        "preprocessed_doc"
      ],
      "metadata": {
        "colab": {
          "base_uri": "https://localhost:8080/"
        },
        "id": "_njovCJMzlfQ",
        "outputId": "2fbf9749-64ed-4fa6-ec81-733378de0f5e"
      },
      "execution_count": 17,
      "outputs": [
        {
          "output_type": "execute_result",
          "data": {
            "text/plain": [
              "['this is my house',\n",
              " 'where is hell have you been',\n",
              " 'anime is the greatest media ever created']"
            ]
          },
          "metadata": {},
          "execution_count": 17
        }
      ]
    },
    {
      "cell_type": "code",
      "source": [
        "preprocessed_query = preprocess_text(query)"
      ],
      "metadata": {
        "id": "F9zuKT5Oznca"
      },
      "execution_count": 18,
      "outputs": []
    },
    {
      "cell_type": "code",
      "source": [
        "preprocessed_query"
      ],
      "metadata": {
        "colab": {
          "base_uri": "https://localhost:8080/",
          "height": 35
        },
        "id": "ts3TJlYaz3nV",
        "outputId": "c3f7fb71-cb6c-4d99-9eae-97b6e67db068"
      },
      "execution_count": 19,
      "outputs": [
        {
          "output_type": "execute_result",
          "data": {
            "text/plain": [
              "'best media ever'"
            ],
            "application/vnd.google.colaboratory.intrinsic+json": {
              "type": "string"
            }
          },
          "metadata": {},
          "execution_count": 19
        }
      ]
    },
    {
      "cell_type": "code",
      "source": [
        "vector = TfidfVectorizer()"
      ],
      "metadata": {
        "id": "ThhHcL7Nz5jo"
      },
      "execution_count": 20,
      "outputs": []
    },
    {
      "cell_type": "code",
      "source": [
        "X = vector.fit_transform(preprocessed_doc)"
      ],
      "metadata": {
        "id": "vF_GOTKj0FIf"
      },
      "execution_count": 21,
      "outputs": []
    },
    {
      "cell_type": "code",
      "source": [
        "X.toarray()"
      ],
      "metadata": {
        "colab": {
          "base_uri": "https://localhost:8080/"
        },
        "id": "04g9XEzS0evA",
        "outputId": "5f143549-22b2-4dd2-e607-62877626637d"
      },
      "execution_count": 23,
      "outputs": [
        {
          "output_type": "execute_result",
          "data": {
            "text/plain": [
              "array([[0.        , 0.        , 0.        , 0.        , 0.        ,\n",
              "        0.        , 0.        , 0.54645401, 0.32274454, 0.        ,\n",
              "        0.54645401, 0.        , 0.54645401, 0.        , 0.        ],\n",
              "       [0.        , 0.43238509, 0.        , 0.        , 0.        ,\n",
              "        0.43238509, 0.43238509, 0.        , 0.2553736 , 0.        ,\n",
              "        0.        , 0.        , 0.        , 0.43238509, 0.43238509],\n",
              "       [0.39687454, 0.        , 0.39687454, 0.39687454, 0.39687454,\n",
              "        0.        , 0.        , 0.        , 0.2344005 , 0.39687454,\n",
              "        0.        , 0.39687454, 0.        , 0.        , 0.        ]])"
            ]
          },
          "metadata": {},
          "execution_count": 23
        }
      ]
    },
    {
      "cell_type": "code",
      "source": [
        "query_embedding = vector.transform([preprocessed_query])"
      ],
      "metadata": {
        "id": "ZISax6qp0hc1"
      },
      "execution_count": 27,
      "outputs": []
    },
    {
      "cell_type": "code",
      "source": [
        "query_embedding.toarray()"
      ],
      "metadata": {
        "colab": {
          "base_uri": "https://localhost:8080/"
        },
        "id": "ldrteFDc06yK",
        "outputId": "5c0a215b-f735-4b37-f839-971fcaa797fa"
      },
      "execution_count": 28,
      "outputs": [
        {
          "output_type": "execute_result",
          "data": {
            "text/plain": [
              "array([[0.        , 0.        , 0.        , 0.70710678, 0.        ,\n",
              "        0.        , 0.        , 0.        , 0.        , 0.70710678,\n",
              "        0.        , 0.        , 0.        , 0.        , 0.        ]])"
            ]
          },
          "metadata": {},
          "execution_count": 28
        }
      ]
    },
    {
      "cell_type": "code",
      "source": [],
      "metadata": {
        "id": "IBubnRf_1B6x"
      },
      "execution_count": null,
      "outputs": []
    }
  ]
}