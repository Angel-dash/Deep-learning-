{
  "nbformat": 4,
  "nbformat_minor": 0,
  "metadata": {
    "colab": {
      "provenance": []
    },
    "language_info": {
      "name": "python"
    },
    "kernelspec": {
      "name": "python3",
      "display_name": "Python 3"
    }
  },
  "cells": [
    {
      "cell_type": "markdown",
      "metadata": {
        "id": "RF-4pPfF6agB"
      },
      "source": [
        "# Setup\n",
        "\n",
        "Please ensure you have imported a Gemini API key from AI Studio.\n",
        "You can do this directly in the Secrets tab on the left.\n",
        "\n",
        "After doing so, please run the setup cell below."
      ]
    },
    {
      "cell_type": "code",
      "metadata": {
        "colab": {
          "base_uri": "https://localhost:8080/"
        },
        "id": "lqE3DEtA6agI",
        "outputId": "668c6a8c-a819-440d-9e16-9b8a3b3c58a4"
      },
      "source": [
        "!pip install -U -q \"google\"\n",
        "!pip install -U -q \"google.genai\"\n",
        "\n",
        "import os\n",
        "from google.colab import userdata\n",
        "from google.colab import drive\n",
        "os.environ[\"GEMINI_API_KEY\"] = userdata.get(\"GOOGLE_API_KEY\")\n",
        "\n",
        "drive.mount(\"/content/drive\")\n",
        "# Please ensure that uploaded files are available in the AI Studio folder or change the working folder.\n",
        "os.chdir(\"/content/drive/MyDrive/Google AI Studio\")"
      ],
      "execution_count": 2,
      "outputs": [
        {
          "output_type": "stream",
          "name": "stdout",
          "text": [
            "Mounted at /content/drive\n"
          ]
        }
      ]
    },
    {
      "cell_type": "markdown",
      "metadata": {
        "id": "auL695UI6agK"
      },
      "source": [
        "# Generated Code"
      ]
    },
    {
      "cell_type": "code",
      "source": [
        "content = \"\"\"\n",
        "My Name is Angel Ghimire. I am 22 years old. I have 4 friends they are Pandey, Punte, Lanket, Appe. They are all of different size, Lanket tall but\n",
        "fat, appe short but sweet. Pandey fat but hairy. Punte ugly. Pandey loves punte very much but punte seems to me more in love with herself. Appe loves\n",
        "lanket but lanket can't love her cause he is a robot.\n",
        "\n",
        "Lanket is a game developer. Punte is a student. Pandey is an Enginner. Appe is just using lanket for his money.\n",
        "\n",
        "\n",
        "\"\"\""
      ],
      "metadata": {
        "id": "90pSu7Rn8I3J"
      },
      "execution_count": 16,
      "outputs": []
    },
    {
      "cell_type": "code",
      "source": [
        "question = \"Considering my friends if it was a tv show then what whould be its title\""
      ],
      "metadata": {
        "id": "dx4nxfzP9cDK"
      },
      "execution_count": 54,
      "outputs": []
    },
    {
      "cell_type": "code",
      "metadata": {
        "colab": {
          "base_uri": "https://localhost:8080/"
        },
        "id": "799GdRaY6agL",
        "outputId": "0730d115-833b-4de7-9466-c0894e83d535"
      },
      "source": [
        "# To run this code you need to install the following dependencies:\n",
        "# pip install google-genai\n",
        "\n",
        "import base64\n",
        "import os\n",
        "from google import genai\n",
        "from google.genai import types\n",
        "\n",
        "\n",
        "def generate(content,question):\n",
        "    client = genai.Client(\n",
        "        api_key=os.environ.get(\"GEMINI_API_KEY\"),\n",
        "    )\n",
        "\n",
        "    model = \"gemma-3-1b-it\"\n",
        "    contents = [\n",
        "        types.Content(\n",
        "            role=\"user\",\n",
        "            parts=[\n",
        "                types.Part.from_text(text=f\"\"\" You are an ai chat bot that knows about me and my friends. And i want you to anser question based\n",
        "                on it only.If you can't find any relevent answer then just say you don't know. You can use the information provided to you\n",
        "                and based on the information you can draw conclusion as well. But the conclusion shoule be stricly based on the information provided\n",
        "                Here is the information about me\n",
        "                {content}\n",
        "                and here is the user's question\n",
        "                {question}\n",
        "\n",
        "                \"\"\"),\n",
        "            ],\n",
        "        ),\n",
        "    ]\n",
        "    generate_content_config = types.GenerateContentConfig(\n",
        "        response_mime_type=\"text/plain\",\n",
        "    )\n",
        "\n",
        "    for chunk in client.models.generate_content_stream(\n",
        "        model=model,\n",
        "        contents=contents,\n",
        "        config=generate_content_config,\n",
        "    ):\n",
        "        print(chunk.text, end=\"\")\n",
        "\n",
        "if __name__ == \"__main__\":\n",
        "    generate(content,question)\n"
      ],
      "execution_count": 58,
      "outputs": [
        {
          "output_type": "stream",
          "name": "stdout",
          "text": [
            "Based on the information provided, here are some title ideas for a TV show featuring your friends:\n",
            "\n",
            "*   **The Algorithm of Friendship** - This title hints at the complex dynamics between the friends and their relationships.\n",
            "*   **Pocketful of Hearts** - This suggests a collection of individual, slightly quirky personalities.\n",
            "*   **Side Effects** - This implies that the friends’ interactions have unexpected consequences.\n",
            "*   **The Glitch** - This could be a title referencing the strange and potentially problematic dynamics within the group.\n",
            "\n",
            "I don’t have enough information to suggest a truly unique title, but these are based on the personalities and relationships you’ve described.None"
          ]
        }
      ]
    },
    {
      "cell_type": "code",
      "source": [],
      "metadata": {
        "id": "3z_n67Yq73Ij"
      },
      "execution_count": null,
      "outputs": []
    }
  ]
}